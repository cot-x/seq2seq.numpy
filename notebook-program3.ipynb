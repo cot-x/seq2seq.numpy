{
 "cells": [
  {
   "cell_type": "code",
   "execution_count": 1,
   "metadata": {},
   "outputs": [],
   "source": [
    "## for comet\n",
    "#from comet_ml import Experiment\n",
    "\n",
    "import numpy\n",
    "from tqdm import tqdm\n",
    "from collections import OrderedDict\n",
    "from dataset import ptb\n",
    "import sys\n",
    "import os\n",
    "import pickle\n",
    "import random\n",
    "import datetime\n",
    "\n",
    "import matplotlib\n",
    "matplotlib.use('Agg')\n",
    "import matplotlib.pyplot as plt"
   ]
  },
  {
   "cell_type": "code",
   "execution_count": 2,
   "metadata": {},
   "outputs": [
    {
     "name": "stdout",
     "output_type": "stream",
     "text": [
      "Use gpu.\n"
     ]
    }
   ],
   "source": [
    "#device = 'cpu'\n",
    "device = 'gpu'\n",
    "\n",
    "np = numpy\n",
    "if device == 'gpu':\n",
    "    import cupy\n",
    "    import cupyx\n",
    "    np = cupy\n",
    "print(f'Use {device}.')"
   ]
  },
  {
   "cell_type": "code",
   "execution_count": 3,
   "metadata": {},
   "outputs": [],
   "source": [
    "def sigmoid(x):\n",
    "    return 1 / (1 + np.exp(-x))\n",
    "\n",
    "def softmax(x, ndim=-1):\n",
    "    x = x.astype('float64')\n",
    "    if x.ndim == -1:\n",
    "        ndim = len(x.shape) - 1\n",
    "    c = x.max()\n",
    "    exp_x = np.exp(x - c)\n",
    "    sum_exp_x = np.sum(exp_x, axis=ndim)\n",
    "    out = (exp_x.T / sum_exp_x).T\n",
    "    return out.astype('f')\n",
    "\n",
    "def cross_entropy_error(y, t, onehot=False):\n",
    "    if y.ndim == 1:\n",
    "        t = t.reshape(1, t.size)\n",
    "        y = y.reshape(1, y.size)\n",
    "    batch_size = y.shape[0]\n",
    "    if not onehot:\n",
    "        out = -np.sum(np.log(y[np.arange(batch_size), t] + 1e-7)) / batch_size\n",
    "    else:\n",
    "        out = -np.sum(np.dot(t, np.log(y + 1e-7))) / batch_size\n",
    "    return out\n",
    "\n",
    "def numerical_diff(f, x, i):\n",
    "    h = 1e-4\n",
    "    h_vec = np.zeros_like(x)\n",
    "    h_vec[i] = h\n",
    "    return (f(x + h_vec) - f(x - h_vec)) / (2*h)\n",
    "\n",
    "def numerical_diff2(f, x, i, j):\n",
    "    h = 1e-4\n",
    "    h_vec = np.zeros_like(x)\n",
    "    h_vec[i, j] = h\n",
    "    return (f(x + h_vec) - f(x - h_vec)) / (2*h)\n",
    "\n",
    "def numerical_gradient(f, x):\n",
    "    grad = np.zeros_like(x).astype(np.float128)\n",
    "    n, m = x.shape\n",
    "    for i in range(n):\n",
    "        for j in range(m):\n",
    "            grad[i, j] = numerical_diff2(f, x, i, j)\n",
    "    return grad\n",
    "\n",
    "def clip_grads(grads, max_norm):\n",
    "    total_norm = 0\n",
    "    for grad in grads:\n",
    "        total_norm += np.sum(grad ** 2)\n",
    "    total_norm = np.sqrt(total_norm)\n",
    "    rate = max_norm / (total_norm + 1e-6)\n",
    "    if rate < 1:\n",
    "        for grad in grads:\n",
    "            grad *= rate\n",
    "\n",
    "def to_cpu(x):\n",
    "    if type(x) == numpy.ndarray:\n",
    "        return x\n",
    "    return cupy.asnumpy(x)\n",
    "\n",
    "def to_gpu(x):\n",
    "    if type(x) == cupy.ndarray:\n",
    "        return x\n",
    "    return cupy.array(x)\n",
    "\n",
    "def to_device(x, device=device):\n",
    "    if device == 'gpu':\n",
    "        return to_gpu(x)\n",
    "    else:\n",
    "        return to_cpu(x)"
   ]
  },
  {
   "cell_type": "code",
   "execution_count": 4,
   "metadata": {},
   "outputs": [],
   "source": [
    "class Adam:\n",
    "    def __init__(self, shape, alpha=0.001, beta1=0.9, beta2=0.999, epsilon=10**(-8)):\n",
    "        self.alpha = alpha\n",
    "        self.beta1 = beta1\n",
    "        self.beta2 = beta2\n",
    "        self.epsilon = epsilon\n",
    "        self.m = np.zeros(shape)\n",
    "        self.v = np.zeros(shape)\n",
    "        self.t = 0\n",
    "\n",
    "    def update(self, w, dw):\n",
    "        self.t += 1\n",
    "        self.m = (self.beta1 * self.m) + (1 - self.beta1) * dw\n",
    "        self.v = (self.beta2 * self.v) + (1 - self.beta2) * dw**2\n",
    "        mh = self.m / (1 - self.beta1 ** self.t)\n",
    "        vh = self.v / (1 - self.beta2 ** self.t)\n",
    "        w -= self.alpha * (mh / (np.sqrt(vh) + self.epsilon))\n",
    "\n",
    "class AdamContainer:\n",
    "    def __init__(self, layers, alpha=0.001, beta1=0.9, beta2=0.999, epsilon=10**(-8)):\n",
    "        self.params = []\n",
    "        for params in [layer.params for layer in layers]:\n",
    "            for param in params:\n",
    "                self.params.append(param)\n",
    "        self.grads = []\n",
    "        for grads in [layer.grads for layer in layers]:\n",
    "            for grad in grads:\n",
    "                self.grads.append(grad)\n",
    "        self.adams = [Adam(param.shape, alpha, beta1, beta2, epsilon) for param in self.params]\n",
    "    \n",
    "    def update(self):\n",
    "        for adam, param, grad in zip(self.adams, self.params, self.grads):\n",
    "            adam.update(param, grad)"
   ]
  },
  {
   "cell_type": "code",
   "execution_count": 5,
   "metadata": {
    "scrolled": true
   },
   "outputs": [],
   "source": [
    "class BaseLayer:\n",
    "    def __init__(self):\n",
    "        self.params = None\n",
    "        self.grads = None\n",
    "        \n",
    "    def to_cpu(self):\n",
    "        for param in self.params:\n",
    "            param = to_cpu(param)\n",
    "        for grad in self.grads:\n",
    "            grad = to_cpu(grad)\n",
    "            \n",
    "    def to_gpu(self):\n",
    "        for param in self.params:\n",
    "            param = to_gpu(param)\n",
    "        for grad in self.grads:\n",
    "            grad = to_gpu(grad)\n",
    "\n",
    "class Affine(BaseLayer):\n",
    "    def __init__(self, w, b):\n",
    "        self.params = [w, b]\n",
    "        self.grads = [np.zeros_like(w), np.zeros_like(b)]\n",
    "    \n",
    "    def forward(self, x):\n",
    "        w, b = self.params\n",
    "        self.x = x\n",
    "        return np.dot(x, w) + b\n",
    "    \n",
    "    def backward(self, dout):\n",
    "        w = self.params[0]\n",
    "        dx = np.dot(dout, w.T)\n",
    "        self.grads[0] = self.dw = np.dot(self.x.T, dout)\n",
    "        self.grads[1] = self.db = np.sum(dout, axis=0)\n",
    "        return dx\n",
    "\n",
    "class TimeAffine(BaseLayer):\n",
    "    def __init__(self, w, b):\n",
    "        self.params = [w, b]\n",
    "        self.grads = [np.zeros_like(w), np.zeros_like(b)]\n",
    "        self.layers = None\n",
    "        self.cache = None\n",
    "        \n",
    "    def forward(self, xs):\n",
    "        w, b = self.params\n",
    "        N, T, D = xs.shape\n",
    "        D, V = w.shape\n",
    "        \n",
    "        out = np.empty((N, T, V), dtype='f')\n",
    "        self.layers = []\n",
    "        \n",
    "        for t in range(T):\n",
    "            layer = Affine(w, b)\n",
    "            out[:,t,:] = layer.forward(xs[:,t,:])\n",
    "            self.layers.append(layer)\n",
    "        \n",
    "        self.cache = (N, T, D, V)\n",
    "        return out\n",
    "    \n",
    "    def backward(self, dout):\n",
    "        N, T, D, V = self.cache\n",
    "        \n",
    "        out = np.empty((N, T, D), dtype='f')\n",
    "        dw = np.empty((D, T, V), dtype='f')\n",
    "        db = np.empty((T, V), dtype='f')\n",
    "        for t in range(T):\n",
    "            layer = self.layers[t]\n",
    "            out[:,t,:] = layer.backward(dout[:,t,:])\n",
    "            dw[:,t,:] = layer.dw\n",
    "            db[t,:] = layer.db\n",
    "        self.grads[0] = self.dw = dw.sum(axis=1)\n",
    "        self.grads[1] = self.db = db.sum(axis=0)\n",
    "        \n",
    "        return out\n",
    "\n",
    "class ReLU(BaseLayer):\n",
    "    def __init__(self):\n",
    "        self.params = []\n",
    "        self.grads = []\n",
    "    \n",
    "    def forward(self, x):\n",
    "        self.mask = (x <= 0)\n",
    "        out = x.copy()\n",
    "        out[self.mask] = 0\n",
    "        return out\n",
    "    \n",
    "    def backward(self, dout):\n",
    "        dout[self.mask] = 0\n",
    "        return dout\n",
    "\n",
    "class Sigmoid(BaseLayer):\n",
    "    def __init__(self):\n",
    "        self.params = []\n",
    "        self.grads = []\n",
    "        \n",
    "    def forward(self, x):\n",
    "        self.out = sigmoid(x)\n",
    "        return self.out\n",
    "    \n",
    "    def backward(self, dout):\n",
    "        dx = dout * self.out * (1 - self.out)\n",
    "        return dx\n",
    "    \n",
    "class Softmax(BaseLayer):\n",
    "    def __init__(self):\n",
    "        self.params = []\n",
    "        self.grads = []\n",
    "        \n",
    "    def forward(self, x):\n",
    "        self.y = softmax(x)\n",
    "        return self.y\n",
    "    \n",
    "    def backward(self, dout):\n",
    "        dx = self.y * dout\n",
    "        sumdx = np.sum(dx, axis=1, keepdims=True)\n",
    "        dx -= self.y * sumdx\n",
    "        return dx\n",
    "\n",
    "class SoftmaxWithLoss(BaseLayer):\n",
    "    def __init__(self):\n",
    "        self.params = []\n",
    "        self.grads = []\n",
    "        \n",
    "    def forward(self, x, t):\n",
    "        self.t = t\n",
    "        self.y = softmax(x)\n",
    "        self.loss = cross_entropy_error(self.y, self.t)\n",
    "        return self.loss\n",
    "    \n",
    "    def backward(self, dout=1, onehot=False):\n",
    "        batch_size = self.t.shape[0]\n",
    "        if not onehot:\n",
    "            dx = self.y.copy()\n",
    "            dx[np.arange(batch_size), self.t] -= 1\n",
    "            dx *= dout\n",
    "            dx = dx / batch_size\n",
    "        else:\n",
    "            dx = (self.y - self.t) / batch_size\n",
    "        return dx\n",
    "\n",
    "class TimeSoftmaxWithLoss(BaseLayer):\n",
    "    def __init__(self):\n",
    "        self.params = []\n",
    "        self.grads = []\n",
    "        self.layers = None\n",
    "        self.cache = None\n",
    "        \n",
    "    def forward(self, xs, ts):\n",
    "        N, T, V = xs.shape\n",
    "        \n",
    "        # if ts is one-hot vector\n",
    "        if ts.ndim == 3:\n",
    "            ts = ts.argmax(axis=2).reshape(N, T)\n",
    "        \n",
    "        ys = np.empty(T, dtype='f')\n",
    "        self.layers = []\n",
    "        \n",
    "        for t in range(T):\n",
    "            layer = SoftmaxWithLoss()\n",
    "            ys[t] = layer.forward(xs[:,t,:], ts[:,t])\n",
    "            self.layers.append(layer)\n",
    "            \n",
    "        loss = ys.sum() / T\n",
    "        \n",
    "        self.cache = (N, T, V)\n",
    "        return loss\n",
    "    \n",
    "    def backward(self):\n",
    "        N, T, V = self.cache\n",
    "        dx = np.empty((N, T, V), dtype='f')\n",
    "        for t in range(T):\n",
    "            layer = self.layers[t]\n",
    "            dx[:,t,:] = layer.backward()\n",
    "        self.dx = dx / T\n",
    "        \n",
    "        return self.dx\n",
    "\n",
    "class Dropout(BaseLayer):\n",
    "    def __init__(self, ratio=0.5):\n",
    "        self.params = []\n",
    "        self.grads = []\n",
    "        self.ratio = ratio\n",
    "        self.mask = None\n",
    "        self.train = True\n",
    "\n",
    "    def forward(self, x):\n",
    "        if self.train:\n",
    "            self.mask = np.random.rand(*x.shape) > self.ratio\n",
    "            self.mask = self.mask.astype('f') / (1.0 - self.ratio)\n",
    "            return x * self.mask\n",
    "        else:\n",
    "            return x\n",
    "\n",
    "    def backward(self, dout):\n",
    "        return dout * self.mask\n",
    "\n",
    "class Embedding(BaseLayer):\n",
    "    def __init__(self, w):\n",
    "        self.params = [w]\n",
    "        self.grads = [np.zeros_like(w)]\n",
    "        self.idx = None\n",
    "        \n",
    "    def forward(self, idx):\n",
    "        w = self.params[0]\n",
    "        self.idx = idx\n",
    "        return w[idx]\n",
    "    \n",
    "    def backward(self, dout):\n",
    "        if device == 'gpu':\n",
    "            add_at = cupyx.scatter_add\n",
    "        else:\n",
    "            add_at = np.add.at\n",
    "            \n",
    "        dw = self.grads[0]\n",
    "        dw[...] = 0\n",
    "        add_at(dw, self.idx, dout)\n",
    "        self.grads[0] = self.dw = dw\n",
    "        return None\n",
    "\n",
    "class TimeEmbedding(BaseLayer):\n",
    "    def __init__(self, w):\n",
    "        self.params = [w]\n",
    "        self.grads = [np.zeros_like(w)]\n",
    "        self.layers = None\n",
    "        \n",
    "    def forward(self, xs):\n",
    "        w = self.params[0]\n",
    "        N, T = xs.shape\n",
    "        V, D = w.shape\n",
    "        \n",
    "        out = np.empty((N, T, D), dtype='f')\n",
    "        self.layers = []\n",
    "        \n",
    "        for t in range(T):\n",
    "            layer = Embedding(w)\n",
    "            out[:,t,:] = layer.forward(xs[:,t])\n",
    "            self.layers.append(layer)\n",
    "            \n",
    "        return out\n",
    "    \n",
    "    def backward(self, dout):\n",
    "        N, T, D = dout.shape\n",
    "        \n",
    "        dw = 0\n",
    "        for t in range(T):\n",
    "            layer = self.layers[t]\n",
    "            layer.backward(dout[:,t,:])\n",
    "            dw += layer.dw\n",
    "        self.grads[0] = self.dw = dw\n",
    "        \n",
    "        return None\n",
    "\n",
    "class RNN(BaseLayer):\n",
    "    def __init__(self, wx, wh, b):\n",
    "        self.params = [wx, wh, b]\n",
    "        self.grads = [np.zeros_like(wx), np.zeros_like(wh), np.zeros_like(b)]\n",
    "    \n",
    "    def forward(self, x, h_prev):\n",
    "        wx, wh, b = self.params\n",
    "        t = np.dot(h_prev, wh) + np.dot(x, wx) + b\n",
    "        h_next = np.tanh(t)\n",
    "        self.cache = (x, h_prev, h_next)\n",
    "        return h_next\n",
    "    \n",
    "    def backward(self, dh_next):\n",
    "        wx, wh, b = self.params\n",
    "        x, h_prev, h_next = self.cache\n",
    "        \n",
    "        dt = dh_next * (1 - dh_next ** 2)\n",
    "        db = np.sum(dt, axis=0)\n",
    "        dwh = np.dot(h_prev.T, dt)\n",
    "        dh_prev = np.dot(dt, wh.T)\n",
    "        dwx = np.dot(x.T, dt)\n",
    "        dx = np.dot(dt, wx.T)\n",
    "        self.grads[0][...] = self.dwx = dwx\n",
    "        self.grads[1][...] = self.dwh = dwh\n",
    "        self.grads[2][...] = self.db = db\n",
    "        \n",
    "        return dx, dh_prev\n",
    "\n",
    "class TimeRNN(BaseLayer):\n",
    "    def __init__(self, wx, wh, b, stateful=False):\n",
    "        self.params = [wx, wh, b]\n",
    "        self.grads = [np.zeros_like(wx), np.zeros_like(wh), np.zeros_like(b)]\n",
    "        self.layers = None\n",
    "        self.h, self.dh = None, None\n",
    "        self.stateful = stateful\n",
    "        \n",
    "    def set_state(self, h):\n",
    "        self.h = h\n",
    "        \n",
    "    def reset_state(self):\n",
    "        self.h = None\n",
    "        \n",
    "    def forward(self, xs):\n",
    "        wx, wh, b = self.params\n",
    "        N, T, D = xs.shape\n",
    "        D, H = wx.shape\n",
    "        \n",
    "        self.layers = []\n",
    "        hs = np.empty((N, T, H), dtype='f')\n",
    "        if not self.stateful or self.h is None:\n",
    "            self.h = np.zeros((N, H), dtype='f')\n",
    "        \n",
    "        for t in range(T):\n",
    "            layer = RNN(*self.params)\n",
    "            self.h = layer.forward(xs[:,t,:], self.h)\n",
    "            hs[:,t,:] = self.h\n",
    "            self.layers.append(layer)\n",
    "        \n",
    "        return hs\n",
    "    \n",
    "    def backward(self, dhs):\n",
    "        wx, wh, b  = self.params\n",
    "        N, T, H = dhs.shape\n",
    "        D, H = wx.shape\n",
    "        \n",
    "        dxs = np.empty((N, T, D), dtype='f')\n",
    "        dh = 0\n",
    "        grads = [0, 0, 0]\n",
    "        for t in reversed(range(T)):\n",
    "            layer = self.layers[t]\n",
    "            dx, dh = layer.backward(dhs[:,t,:] + dh)\n",
    "            dxs[:,t,:] = dx\n",
    "            for i, grad in enumerate(layer.grads):\n",
    "                grads[i] += grad\n",
    "        \n",
    "        for i, grad in enumerate(grads):\n",
    "            self.grads[i][...] = grad\n",
    "        self.dwx = self.grads[0]\n",
    "        self.dwh = self.grads[1]\n",
    "        self.db = self.grads[2]\n",
    "        self.dh = dh\n",
    "        \n",
    "        return dxs\n",
    "\n",
    "class LSTM(BaseLayer):\n",
    "    def __init__(self, wx, wh, b):\n",
    "        self.params = [wx, wh, b]\n",
    "        self.grads = [np.zeros_like(wx), np.zeros_like(wh), np.zeros_like(b)]\n",
    "        self.cache = None\n",
    "    \n",
    "    def forward(self, x, h_prev, c_prev):\n",
    "        wx, wh, b = self.params\n",
    "        N, H = h_prev.shape\n",
    "        \n",
    "        A = np.dot(h_prev, wh) + np.dot(x, wx) + b\n",
    "        \n",
    "        f = A[:, :H]\n",
    "        g = A[:, H:2*H]\n",
    "        i = A[:, 2*H:3*H]\n",
    "        o = A[:, 3*H:]\n",
    "        \n",
    "        f = sigmoid(f)\n",
    "        g = np.tanh(g)\n",
    "        i = sigmoid(i)\n",
    "        o = sigmoid(o)\n",
    "        \n",
    "        c_next = f * c_prev + g * i\n",
    "        h_next = o * np.tanh(c_next)\n",
    "        \n",
    "        self.cache = (x, h_prev, c_prev,i, f, g, o, c_next)\n",
    "        return h_next, c_next\n",
    "    \n",
    "    def backward(self, dh_next, dc_next):\n",
    "        wx, wh, b = self.params\n",
    "        x, h_prev, c_prev, i, f, g, o, c_next = self.cache\n",
    "        \n",
    "        tanh_c_next = np.tanh(c_next)\n",
    "        ds = dc_next + (dh_next * o) * (1 - tanh_c_next ** 2)\n",
    "        \n",
    "        dc_prev = ds * f\n",
    "        di = ds * g\n",
    "        df = ds * c_prev\n",
    "        do = dh_next * tanh_c_next\n",
    "        dg = ds * i\n",
    "        \n",
    "        di *= i * (1 - i)\n",
    "        df *= f * (1 - f)\n",
    "        do *= o * (1 - o)\n",
    "        dg *= 1 - g ** 2\n",
    "        \n",
    "        dA = np.hstack((df, dg, di, do))\n",
    "        \n",
    "        dwh = np.dot(h_prev.T, dA)\n",
    "        dh_prev = np.dot(dA, wh.T)\n",
    "        dwx = np.dot(x.T, dA)\n",
    "        dx = np.dot(dA, wx.T)\n",
    "        db = dA.sum(axis=0)\n",
    "        \n",
    "        self.grads[0][...] = self.dwx = dwx\n",
    "        self.grads[1][...] = self.dwh = dwh\n",
    "        self.grads[2][...] = self.db = db\n",
    "        \n",
    "        return dx, dh_prev, dc_prev\n",
    "\n",
    "class TimeLSTM(BaseLayer):\n",
    "    def __init__(self, wx, wh, b, stateful=False):\n",
    "        self.params = [wx, wh, b]\n",
    "        self.grads = [np.zeros_like(wx), np.zeros_like(wh), np.zeros_like(b)]\n",
    "        self.layers = None\n",
    "        self.h, self.dh, self.c = None, None, None\n",
    "        self.stateful = stateful\n",
    "        \n",
    "    def set_state(self, h, c=None):\n",
    "        self.h, self.c = h, c\n",
    "        \n",
    "    def reset_state(self):\n",
    "        self.h, self.c = None, None\n",
    "        \n",
    "    def forward(self, xs):\n",
    "        wx, wh, b = self.params\n",
    "        N, T, D = xs.shape\n",
    "        H = wh.shape[0]\n",
    "        \n",
    "        self.layers = []\n",
    "        hs = np.empty((N, T, H), dtype='f')\n",
    "        if not self.stateful or self.h is None:\n",
    "            self.h = np.zeros((N, H), dtype='f')\n",
    "        if not self.stateful or self.c is None:\n",
    "            self.c = np.zeros((N, H), dtype='f')\n",
    "        \n",
    "        for t in range(T):\n",
    "            layer = LSTM(*self.params)\n",
    "            self.h, self.c = layer.forward(xs[:,t,:], self.h, self.c)\n",
    "            hs[:,t,:] = self.h\n",
    "            self.layers.append(layer)\n",
    "        \n",
    "        return hs\n",
    "    \n",
    "    def backward(self, dhs):\n",
    "        wx, wh, b  = self.params\n",
    "        N, T, H = dhs.shape\n",
    "        D = wx.shape[0]\n",
    "        \n",
    "        dxs = np.empty((N, T, D), dtype='f')\n",
    "        dh, dc = 0, 0\n",
    "        grads = [0, 0, 0]\n",
    "        for t in reversed(range(T)):\n",
    "            layer = self.layers[t]\n",
    "            dx, dh, dc = layer.backward(dhs[:,t,:] + dh, dc)\n",
    "            dxs[:,t,:] = dx\n",
    "            for i, grad in enumerate(layer.grads):\n",
    "                grads[i] += grad\n",
    "        \n",
    "        for i, grad in enumerate(grads):\n",
    "            self.grads[i][...] = grad\n",
    "        self.dwx = self.grads[0]\n",
    "        self.dwh = self.grads[1]\n",
    "        self.db = self.grads[2]\n",
    "        self.dh = dh\n",
    "        \n",
    "        return dxs\n",
    "\n",
    "class BaseNetwork:\n",
    "    def __init__(self):\n",
    "        self.layers = None\n",
    "        self.lastLayer = None\n",
    "        self.adam = None\n",
    "        \n",
    "    def train(self, x, t):\n",
    "        # forward\n",
    "        loss = self.loss(x, t)\n",
    "        \n",
    "        # backward\n",
    "        dout = self.lastLayer.backward()\n",
    "        layers = list(self.layers.values())\n",
    "        layers.reverse()\n",
    "        for layer in layers:\n",
    "            dout = layer.backward(dout)\n",
    "        \n",
    "        self.update()\n",
    "            \n",
    "        return loss\n",
    "    \n",
    "    def update(self):\n",
    "        for grads in [layer.grads for layer in self.layers.values()]:\n",
    "            clip_grads(grads, self.max_grad)\n",
    "        self.adam.update()\n",
    "    \n",
    "    def save(self, state_file_name = 'network.state.pkl'):\n",
    "        params = self.adam.params.copy()\n",
    "        for i, param in enumerate(params):\n",
    "            params[i] = to_cpu(params[i])\n",
    "            \n",
    "        with open(state_file_name, 'wb') as f:\n",
    "            pickle.dump(params, f)\n",
    "            print(f'Saved: {state_file_name}')\n",
    "            \n",
    "    def load(self, state_file_name = 'network.state.pkl'):\n",
    "        if os.path.exists(state_file_name):\n",
    "            with open(state_file_name, 'rb') as f:\n",
    "                params = pickle.load(f)\n",
    "                for i, param in enumerate(params):\n",
    "                    self.adam.params[i][:] = to_device(param, device)\n",
    "                print(f'Loaded: {state_file_name}')"
   ]
  },
  {
   "cell_type": "code",
   "execution_count": 6,
   "metadata": {},
   "outputs": [],
   "source": [
    "class Encoder(BaseLayer):\n",
    "    def __init__(self, vocab_size, wordvec_size, hidden_size):\n",
    "        V, D, H = vocab_size, wordvec_size, hidden_size\n",
    "        rn = np.random.randn\n",
    "        \n",
    "        embed_w = (rn(V, D) / 100).astype('f')\n",
    "        lstm_wx = (rn(D, 4 * H) / np.sqrt(D)).astype('f')\n",
    "        lstm_wh = (rn(H, 4 * H) / np.sqrt(H)).astype('f')\n",
    "        lstm_b = np.zeros(4 * H).astype('f')\n",
    "        \n",
    "        self.layers = OrderedDict()\n",
    "        self.layers['Embedding'] = TimeEmbedding(embed_w)\n",
    "        self.layers['LSTM'] = TimeLSTM(lstm_wx, lstm_wh, lstm_b, stateful=False)\n",
    "        \n",
    "        self.params = []\n",
    "        for params in [layer.params for layer in self.layers.values()]:\n",
    "            for param in params:\n",
    "                self.params.append(param)\n",
    "        self.grads = []\n",
    "        for grads in [layer.grads for layer in self.layers.values()]:\n",
    "            for grad in grads:\n",
    "                self.grads.append(grad)\n",
    "        self.hs = None\n",
    "        \n",
    "    def forward(self, xs):\n",
    "        for layer in self.layers.values():\n",
    "            xs = layer.forward(xs)\n",
    "        self.hs = xs\n",
    "        return xs[:,-1,:]\n",
    "    \n",
    "    def backward(self, dh):\n",
    "        dhs = np.zeros_like(self.hs)\n",
    "        dhs[:,-1,:] = dh\n",
    "        layers = list(self.layers.values())\n",
    "        layers.reverse()\n",
    "        for layer in layers:\n",
    "            dhs = layer.backward(dhs)\n",
    "        return dhs"
   ]
  },
  {
   "cell_type": "code",
   "execution_count": 7,
   "metadata": {},
   "outputs": [],
   "source": [
    "class WeightSum(BaseLayer):\n",
    "    def __init__(self):\n",
    "        self.params = []\n",
    "        self.grads = []\n",
    "        self.cache = None\n",
    "        \n",
    "    def forward(self, hs, a):\n",
    "        N, T, H = hs.shape\n",
    "        \n",
    "        ar = a.reshape(N, T, 1) #.repeat(H, axis=2)\n",
    "        t = hs * ar\n",
    "        c = np.sum(t, axis=1)\n",
    "        \n",
    "        self.cache = (hs, ar)\n",
    "        return c\n",
    "    \n",
    "    def backward(self, dc):\n",
    "        hs, ar = self.cache\n",
    "        N, T, H = hs.shape\n",
    "        \n",
    "        dt = dc.reshape(N, 1, H).repeat(T, axis=1)\n",
    "        dar = dt * hs\n",
    "        dhs = dt * ar\n",
    "        da = np.sum(dar, axis=2)\n",
    "        \n",
    "        return dhs, da\n",
    "\n",
    "class AttentionWeight(BaseLayer):\n",
    "    def __init__(self):\n",
    "        self.params = []\n",
    "        self.grads = []\n",
    "        self.softmax = Softmax()\n",
    "        self.cache = None\n",
    "    \n",
    "    def forward(self, hs, h):\n",
    "        N, T, H = hs.shape\n",
    "        \n",
    "        hr = h.reshape(N, 1, H) #.repeat(T, axis=1)\n",
    "        t = hs * hr\n",
    "        s = np.sum(t, axis=2)\n",
    "        a = self.softmax.forward(s)\n",
    "        \n",
    "        self.cache = (hs, hr)\n",
    "        return a\n",
    "        \n",
    "    def backward(self, da):\n",
    "        hs, hr = self.cache\n",
    "        N, T, H = hs.shape\n",
    "        \n",
    "        ds = self.softmax.backward(da)\n",
    "        dt = ds.reshape(N, T, 1).repeat(H, axis=2)\n",
    "        dhs = dt * hr\n",
    "        dhr = dt * hs\n",
    "        dh = np.sum(dhr, axis=1)\n",
    "        \n",
    "        return dhs, dh\n",
    "\n",
    "class Attention(BaseLayer):\n",
    "    def __init__(self):\n",
    "        self.params = []\n",
    "        self.grads = []\n",
    "        self.attention_weight_layer = AttentionWeight()\n",
    "        self.weight_sum_layer = WeightSum()\n",
    "        self.attention_weight = None\n",
    "    \n",
    "    def forward(self, hs, h):\n",
    "        a = self.attention_weight_layer.forward(hs, h)\n",
    "        out = self.weight_sum_layer.forward(hs, a)\n",
    "        self.attention_weight = a\n",
    "        return out\n",
    "    \n",
    "    def backward(self, dout):\n",
    "        dhs0, da = self.weight_sum_layer.backward(dout)\n",
    "        dhs1, dh = self.attention_weight_layer.backward(da)\n",
    "        dhs = dhs0 + dhs1\n",
    "        return dhs, dh\n",
    "\n",
    "class TimeAttention(BaseLayer):\n",
    "    def __init__(self):\n",
    "        self.params = []\n",
    "        self.grads = []\n",
    "        self.layers = None\n",
    "        self.attention_weights = None\n",
    "        \n",
    "    def forward(self, hs_enc, hs_dec):\n",
    "        N, T, H = hs_dec.shape\n",
    "        out = np.empty_like(hs_dec)\n",
    "        self.layers = []\n",
    "        self.attention_weights = []\n",
    "        \n",
    "        for t in range(T):\n",
    "            layer = Attention()\n",
    "            out[:, t, :] = layer.forward(hs_enc, hs_dec[:, t, :])\n",
    "            self.layers.append(layer)\n",
    "            self.attention_weights.append(layer.attention_weight)\n",
    "            \n",
    "        return out\n",
    "    \n",
    "    def backward(self, dout):\n",
    "        N, T, H = dout.shape\n",
    "        dhs_enc = 0\n",
    "        dhs_dec = np.empty_like(dout)\n",
    "        \n",
    "        for t in range(T):\n",
    "            layer = self.layers[t]\n",
    "            dhs, dh = layer.backward(dout[:, t, :])\n",
    "            dhs_enc += dhs\n",
    "            dhs_dec[:, t, :] = dh\n",
    "        \n",
    "        return dhs_enc, dhs_dec\n",
    "\n",
    "class AttentionEncoder(Encoder):\n",
    "    def forward(self, xs):\n",
    "        for layer in self.layers.values():\n",
    "            xs = layer.forward(xs)\n",
    "        return xs\n",
    "    \n",
    "    def backward(self, dhs):\n",
    "        layers = list(self.layers.values())\n",
    "        layers.reverse()\n",
    "        for layer in layers:\n",
    "            dhs = layer.backward(dhs)\n",
    "        return dhs\n",
    "\n",
    "class AttentionDecoder(BaseLayer):\n",
    "    def __init__(self, vocab_size, wordvec_size, hidden_size):\n",
    "        V, D, H = vocab_size, wordvec_size, hidden_size\n",
    "        rn = np.random.randn\n",
    "        \n",
    "        embed_w = (rn(V, D) / 100).astype('f')\n",
    "        lstm_wx = (rn(D, 4 * H) / np.sqrt(D)).astype('f')\n",
    "        lstm_wh = (rn(H, 4 * H) / np.sqrt(H)).astype('f')\n",
    "        lstm_b = np.zeros(4 * H).astype('f')\n",
    "        \n",
    "        affine_w = (rn(2 * H, V) / np.sqrt(2 * H)).astype('f')\n",
    "        affine_b = np.zeros(V).astype('f')\n",
    "        \n",
    "        self.layers = OrderedDict()\n",
    "        self.layers['Embedding'] = TimeEmbedding(embed_w)\n",
    "        self.layers['LSTM'] = TimeLSTM(lstm_wx, lstm_wh, lstm_b, stateful=True)\n",
    "        self.layers['Attention'] = TimeAttention()\n",
    "        self.layers['Affine'] = TimeAffine(affine_w, affine_b)\n",
    "        \n",
    "        self.params = []\n",
    "        for params in [layer.params for layer in self.layers.values()]:\n",
    "            for param in params:\n",
    "                self.params.append(param)\n",
    "        self.grads = []\n",
    "        for grads in [layer.grads for layer in self.layers.values()]:\n",
    "            for grad in grads:\n",
    "                self.grads.append(grad)\n",
    "        \n",
    "    def forward(self, xs, enc_hs):\n",
    "        h = enc_hs[:, -1]\n",
    "        self.layers['LSTM'].set_state(h)\n",
    "        \n",
    "        out = self.layers['Embedding'].forward(xs)\n",
    "        dec_hs = self.layers['LSTM'].forward(out)\n",
    "        c = self.layers['Attention'].forward(enc_hs, dec_hs)\n",
    "        out = np.concatenate((c, dec_hs), axis=2)\n",
    "        score = self.layers['Affine'].forward(out)\n",
    "        return score\n",
    "    \n",
    "    def backward(self, dscore):\n",
    "        dout = self.layers['Affine'].backward(dscore)\n",
    "        N, T, H2 = dout.shape\n",
    "        H = H2 // 2\n",
    "        dc, ddec_hs0 = dout[:, :, :H], dout[: ,: ,H:]\n",
    "        denc_hs, ddec_hs1 = self.layers['Attention'].backward(dc)\n",
    "        ddec_hs = ddec_hs0 + ddec_hs1\n",
    "        dout = self.layers['LSTM'].backward(ddec_hs)\n",
    "        denc_hs[:, -1] += self.layers['LSTM'].dh\n",
    "        self.layers['Embedding'].backward(dout)\n",
    "\n",
    "        return denc_hs\n",
    "\n",
    "    def generate(self, enc_hs, start_id, sample_size):\n",
    "        sampled = []\n",
    "        sample_id = start_id\n",
    "        h = enc_hs[:,  -1]\n",
    "        self.layers['LSTM'].set_state(h)\n",
    "\n",
    "        for _ in range(sample_size):\n",
    "            x = np.array(sample_id).reshape(1, 1)\n",
    "            out = self.layers['Embedding'].forward(x)\n",
    "            dec_hs = self.layers['LSTM'].forward(out)\n",
    "            c = self.layers['Attention'].forward(enc_hs, dec_hs)\n",
    "            out = np.concatenate((c, dec_hs), axis=2)\n",
    "            score = self.layers['Affine'].forward(out)\n",
    "\n",
    "            sample_id = np.argmax(score.flatten())\n",
    "            sampled.append(sample_id)\n",
    "\n",
    "        return np.array(sampled)\n",
    "\n",
    "class AttentionSeq2SeqNetwork(BaseNetwork):\n",
    "    def __init__(self, vocab_size, wordvec_size, hidden_size, max_grad=5.0):\n",
    "        V, D, H = vocab_size, wordvec_size, hidden_size\n",
    "        self.max_grad = max_grad\n",
    "        self.layers = OrderedDict()\n",
    "        self.layers['Encoder'] = AttentionEncoder(V, D, H)\n",
    "        self.layers['Decoder'] = AttentionDecoder(V, D, H)\n",
    "        self.lastLayer = TimeSoftmaxWithLoss()\n",
    "        self.adam = AdamContainer(list(self.layers.values()))\n",
    "        \n",
    "    def generate(self, xs, start_id, sample_size):\n",
    "        h = self.layers['Encoder'].forward(xs)\n",
    "        sampled = self.layers['Decoder'].generate(h, start_id, sample_size)\n",
    "        return sampled\n",
    "        \n",
    "    def loss(self, xs, ts):\n",
    "        decoder_xs, decoder_ts = ts[:, :-1], ts[:, 1:]\n",
    "        h = self.layers['Encoder'].forward(xs)\n",
    "        score = self.layers['Decoder'].forward(decoder_xs, h)\n",
    "        loss = self.lastLayer.forward(score, decoder_ts)\n",
    "        return loss"
   ]
  },
  {
   "cell_type": "code",
   "execution_count": 8,
   "metadata": {},
   "outputs": [],
   "source": [
    "def generate_date_question(max_daydelta=10000):\n",
    "    today = datetime.date.today()\n",
    "    date = today + datetime.timedelta(days=random.randint(-max_daydelta, max_daydelta))\n",
    "    question = date.strftime('%Y %B %d %A')\n",
    "    correct = '=' + date.strftime('%Y-%m-%d')\n",
    "    question = question.ljust(29)\n",
    "    correct = correct.ljust(1+10+1)\n",
    "    return question, correct\n",
    "\n",
    "def make_date_questions(question_num):\n",
    "    questions =  []\n",
    "    corrects = []\n",
    "    char_to_id = {}\n",
    "    \n",
    "    index = 0\n",
    "    for number in range(10):\n",
    "        char_to_id[f'{number}'] = index\n",
    "        index += 1\n",
    "    for alphabet in range(26):\n",
    "        char_to_id[f'{chr(ord(\"a\") + alphabet)}'] = index\n",
    "        char_to_id[f'{chr(ord(\"A\") + alphabet)}'] = index + 1\n",
    "        index += 2\n",
    "    char_to_id['='] = index\n",
    "    char_to_id['-'] = index + 1\n",
    "    char_to_id[' '] = index + 2\n",
    "    \n",
    "    for _ in range(question_num):\n",
    "        q, c = generate_date_question()\n",
    "        q = [char_to_id[s] for s in q]\n",
    "        c = [char_to_id[s] for s in c]\n",
    "        questions.append(q)\n",
    "        corrects.append(c)\n",
    "    questions = np.array(questions)\n",
    "    corrects = np.array(corrects)\n",
    "    \n",
    "    id_to_char = dict(zip(char_to_id.values(), char_to_id.keys()))\n",
    "    \n",
    "    return questions[:, ::-1], corrects, char_to_id, id_to_char"
   ]
  },
  {
   "cell_type": "code",
   "execution_count": 9,
   "metadata": {},
   "outputs": [],
   "source": [
    "class Program3:\n",
    "    def __init__(self):\n",
    "        sample_size = 50000\n",
    "        self.questions, self.corrects, self.char_to_id, self.id_to_char = make_date_questions(sample_size)\n",
    "        self.params = OrderedDict({'vocab_size': len(self.char_to_id), 'wordvec_size': 16, 'hidden_size': 256,\n",
    "                                   'max_grad': 5.0, 'max_epoch': 80, 'sample_size': sample_size, 'batch_size': 128})\n",
    "        self.net = AttentionSeq2SeqNetwork(self.params['vocab_size'], self.params['wordvec_size'], self.params['hidden_size'], self.params['max_grad'])\n",
    "        self.losses = []\n",
    "        \n",
    "    def fit(self, x, t, batch_size):\n",
    "        data_size = len(x)\n",
    "        max_iters = data_size // batch_size\n",
    "        \n",
    "        for iters in tqdm(range(max_iters)):\n",
    "            batch_x = x[iters*batch_size:(iters+1)*batch_size]\n",
    "            batch_t = t[iters*batch_size:(iters+1)*batch_size]\n",
    "\n",
    "            loss = self.net.train(batch_x, batch_t)\n",
    "            self.losses.append(loss.tolist())\n",
    "            \n",
    "        return loss\n",
    "    \n",
    "    def visualize(self, attention_map, row_labels, column_labels):\n",
    "        fig, ax = plt.subplots()\n",
    "        ax.pcolor(attention_map, cmap=plt.cm.Greys_r, vmin=0.0, vmax=1.0)\n",
    "\n",
    "        ax.patch.set_facecolor('black')\n",
    "        ax.set_yticks(np.arange(attention_map.shape[0])+0.5, minor=False)\n",
    "        ax.set_xticks(np.arange(attention_map.shape[1])+0.5, minor=False)\n",
    "        ax.invert_yaxis()\n",
    "        ax.set_xticklabels(row_labels, minor=False)\n",
    "        ax.set_yticklabels(column_labels, minor=False)\n",
    "\n",
    "        plt.savefig('figure.png')\n",
    "        plt.clf()\n",
    "        plt.close()\n",
    "        print('Saved: figure.png')\n",
    "    \n",
    "    def save_figure(self):\n",
    "        global np, device\n",
    "        device_changed = False\n",
    "        \n",
    "        temp_file_name = 'temp.state.pkl'\n",
    "        self.net.save(temp_file_name)\n",
    "        \n",
    "        if device == 'gpu':\n",
    "            print('Change to cpu.')\n",
    "            device = 'cpu'\n",
    "            np = numpy\n",
    "            device_changed = True\n",
    "        \n",
    "        _program = Program3()\n",
    "        _program.net.load(temp_file_name)\n",
    "        \n",
    "        for i in tqdm(range(len(_program.questions))):\n",
    "            question = to_cpu(_program.questions[[i]])\n",
    "            correct = to_cpu(_program.corrects[[i]])\n",
    "            answer = _program.net.generate(question, start_id=self.char_to_id['='], sample_size=10)\n",
    "            _program.net.loss(question, correct)\n",
    "            question = [_program.id_to_char[x] for x in question[0, ::-1]]\n",
    "            correct = [_program.id_to_char[x] for x in correct[0, 1:-1]]\n",
    "            answer = [_program.id_to_char[x] for x in answer]\n",
    "            if answer != correct:\n",
    "                  continue\n",
    "            \n",
    "            attention_map = np.array(_program.net.layers['Decoder'].layers['Attention'].attention_weights)\n",
    "            attention_map = attention_map[:, 0, :].reshape(attention_map.shape[0], attention_map.shape[2])\n",
    "            attention_map = attention_map[:-1, ::-1]\n",
    "            _program.visualize(attention_map, question, correct)\n",
    "            break\n",
    "                  \n",
    "        if device_changed:\n",
    "            print('Change to gpu.')\n",
    "            device = 'gpu'\n",
    "            np = cupy\n",
    "        \n",
    "        os.remove(temp_file_name)\n",
    "        \n",
    "    def __call__(self):\n",
    "        ## for comet\n",
    "        #experiment = Experiment()\n",
    "        #experiment.log_parameters(self.params)\n",
    "        \n",
    "        for key in self.params.keys() :\n",
    "            print(f'{key}: {self.params[key]}')\n",
    "        vocab_size, wordvec_size, hidden_size, max_grad, max_epoch, sample_size, batch_size = self.params.values()\n",
    "\n",
    "        self.net.load()\n",
    "        \n",
    "        for epoch in range(max_epoch):\n",
    "            loss = self.fit(self.questions, self.corrects, batch_size)\n",
    "            \n",
    "            correct_num = 0\n",
    "            test_num = 3\n",
    "            for _ in range(test_num):\n",
    "                questions, corrects, _, _ = make_date_questions(1)\n",
    "                answer = self.net.generate(questions, start_id=self.char_to_id['='], sample_size=10)\n",
    "                question = ''.join([self.id_to_char[x] for x in to_cpu(questions[0, ::-1])])\n",
    "                correct = ''.join([self.id_to_char[x] for x in to_cpu(corrects[0, 1:-1])])\n",
    "                answer = ''.join([self.id_to_char[x] for x in to_cpu(answer)])\n",
    "                is_correct = True if answer == correct else False\n",
    "                correct_num += 1 if is_correct else 0\n",
    "                print(f'{\"○\" if is_correct else \"×\"} {question} = {answer} [{correct}]')\n",
    "            print(f'[{epoch}] Corrects {correct_num} / {test_num}\\tloss: {loss}')\n",
    "            \n",
    "            ## for comet\n",
    "            #experiment.log_metric('loss', loss, step=epoch)\n",
    "        \n",
    "        self.net.save()\n",
    "        self.exam()\n",
    "        self.save_figure()\n",
    "\n",
    "        ## for comet\n",
    "        #experiment.end()\n",
    "    \n",
    "    def exam(self, question_num=100):\n",
    "        correct_num = 0\n",
    "        for _ in range(question_num):\n",
    "            questions, corrects, _, _ = make_date_questions(1)\n",
    "            answer = self.net.generate(questions, start_id=self.char_to_id['='], sample_size=10)\n",
    "            question = ''.join([self.id_to_char[x] for x in to_cpu(questions[0, ::-1])])\n",
    "            correct = ''.join([self.id_to_char[x] for x in to_cpu(corrects[0, 1:-1])])\n",
    "            answer = ''.join([self.id_to_char[x] for x in to_cpu(answer)])\n",
    "            is_correct = True if answer == correct else False\n",
    "            correct_num += 1 if is_correct else 0\n",
    "            print(f'{\"○\" if is_correct else \"×\"} {question} = {answer} [{correct}]')\n",
    "        print(f'Score: {correct_num} / {question_num}\\tAccuracy: {(correct_num / question_num)}')"
   ]
  },
  {
   "cell_type": "code",
   "execution_count": 10,
   "metadata": {},
   "outputs": [
    {
     "name": "stdout",
     "output_type": "stream",
     "text": [
      "vocab_size: 65\n",
      "wordvec_size: 16\n",
      "hidden_size: 256\n",
      "max_grad: 5.0\n",
      "max_epoch: 80\n",
      "sample_size: 50000\n",
      "batch_size: 128\n"
     ]
    },
    {
     "name": "stderr",
     "output_type": "stream",
     "text": [
      "100%|█████████████████████████████████████████████████████████████████████████████████████████████████████████████████████████| 390/390 [00:23<00:00, 16.63it/s]\n"
     ]
    },
    {
     "name": "stdout",
     "output_type": "stream",
     "text": [
      "× 2008 March 13 Thursday        = 2019-01-11 [2008-03-13]\n",
      "× 2044 June 05 Sunday           = 2019-01-11 [2044-06-05]\n",
      "× 2044 January 13 Wednesday     = 2019-01-11 [2044-01-13]\n",
      "[0] Corrects 0 / 3\tloss: 1.0557314157485962\n"
     ]
    },
    {
     "name": "stderr",
     "output_type": "stream",
     "text": [
      "100%|█████████████████████████████████████████████████████████████████████████████████████████████████████████████████████████| 390/390 [00:23<00:00, 16.34it/s]\n"
     ]
    },
    {
     "name": "stdout",
     "output_type": "stream",
     "text": [
      "× 2012 July 18 Wednesday        = 2010-01-11 [2012-07-18]\n",
      "× 2038 March 24 Wednesday       = 2010-01-11 [2038-03-24]\n",
      "× 2016 February 10 Wednesday    = 2010-01-11 [2016-02-10]\n",
      "[1] Corrects 0 / 3\tloss: 1.0305585861206055\n"
     ]
    },
    {
     "name": "stderr",
     "output_type": "stream",
     "text": [
      "100%|█████████████████████████████████████████████████████████████████████████████████████████████████████████████████████████| 390/390 [00:24<00:00, 15.94it/s]\n"
     ]
    },
    {
     "name": "stdout",
     "output_type": "stream",
     "text": [
      "× 2015 April 29 Wednesday       = 2010-01-11 [2015-04-29]\n",
      "× 2005 September 29 Thursday    = 2010-01-11 [2005-09-29]\n",
      "× 2027 June 21 Monday           = 2010-01-11 [2027-06-21]\n",
      "[2] Corrects 0 / 3\tloss: 1.0139365196228027\n"
     ]
    },
    {
     "name": "stderr",
     "output_type": "stream",
     "text": [
      "100%|█████████████████████████████████████████████████████████████████████████████████████████████████████████████████████████| 390/390 [00:24<00:00, 15.64it/s]\n"
     ]
    },
    {
     "name": "stdout",
     "output_type": "stream",
     "text": [
      "× 2002 November 16 Saturday     = 2019-01-11 [2002-11-16]\n",
      "× 1997 March 13 Thursday        = 2019-01-11 [1997-03-13]\n",
      "× 2022 August 07 Sunday         = 2019-01-11 [2022-08-07]\n",
      "[3] Corrects 0 / 3\tloss: 1.0188044309616089\n"
     ]
    },
    {
     "name": "stderr",
     "output_type": "stream",
     "text": [
      "100%|█████████████████████████████████████████████████████████████████████████████████████████████████████████████████████████| 390/390 [00:25<00:00, 15.18it/s]\n"
     ]
    },
    {
     "name": "stdout",
     "output_type": "stream",
     "text": [
      "× 2020 November 20 Friday       = 2000-01-11 [2020-11-20]\n",
      "× 2002 March 30 Saturday        = 2000-01-11 [2002-03-30]\n",
      "× 2006 March 10 Friday          = 2000-01-11 [2006-03-10]\n",
      "[4] Corrects 0 / 3\tloss: 1.0016144514083862\n"
     ]
    },
    {
     "name": "stderr",
     "output_type": "stream",
     "text": [
      "100%|█████████████████████████████████████████████████████████████████████████████████████████████████████████████████████████| 390/390 [00:25<00:00, 15.07it/s]\n"
     ]
    },
    {
     "name": "stdout",
     "output_type": "stream",
     "text": [
      "× 2008 November 06 Thursday     = 2010-01-11 [2008-11-06]\n",
      "× 2020 June 19 Friday           = 2010-01-11 [2020-06-19]\n",
      "× 2040 September 05 Wednesday   = 2010-01-11 [2040-09-05]\n",
      "[5] Corrects 0 / 3\tloss: 0.9871804714202881\n"
     ]
    },
    {
     "name": "stderr",
     "output_type": "stream",
     "text": [
      "100%|█████████████████████████████████████████████████████████████████████████████████████████████████████████████████████████| 390/390 [00:25<00:00, 15.01it/s]\n"
     ]
    },
    {
     "name": "stdout",
     "output_type": "stream",
     "text": [
      "× 2021 March 06 Saturday        = 2010-01-11 [2021-03-06]\n",
      "× 1998 February 10 Tuesday      = 2010-01-11 [1998-02-10]\n",
      "× 2003 January 07 Tuesday       = 2010-01-11 [2003-01-07]\n",
      "[6] Corrects 0 / 3\tloss: 0.9825921654701233\n"
     ]
    },
    {
     "name": "stderr",
     "output_type": "stream",
     "text": [
      "100%|█████████████████████████████████████████████████████████████████████████████████████████████████████████████████████████| 390/390 [00:26<00:00, 14.80it/s]\n"
     ]
    },
    {
     "name": "stdout",
     "output_type": "stream",
     "text": [
      "× 2045 May 24 Wednesday         = 2000-01-11 [2045-05-24]\n",
      "× 2004 December 17 Friday       = 2000-01-11 [2004-12-17]\n",
      "× 2035 November 17 Saturday     = 2000-01-11 [2035-11-17]\n",
      "[7] Corrects 0 / 3\tloss: 0.9801673889160156\n"
     ]
    },
    {
     "name": "stderr",
     "output_type": "stream",
     "text": [
      "100%|█████████████████████████████████████████████████████████████████████████████████████████████████████████████████████████| 390/390 [00:26<00:00, 14.73it/s]\n"
     ]
    },
    {
     "name": "stdout",
     "output_type": "stream",
     "text": [
      "× 2019 December 31 Tuesday      = 2010-01-11 [2019-12-31]\n",
      "× 2000 September 23 Saturday    = 2010-01-11 [2000-09-23]\n",
      "× 2006 January 30 Monday        = 2010-01-11 [2006-01-30]\n",
      "[8] Corrects 0 / 3\tloss: 0.9780271649360657\n"
     ]
    },
    {
     "name": "stderr",
     "output_type": "stream",
     "text": [
      "100%|█████████████████████████████████████████████████████████████████████████████████████████████████████████████████████████| 390/390 [00:27<00:00, 14.42it/s]\n"
     ]
    },
    {
     "name": "stdout",
     "output_type": "stream",
     "text": [
      "× 2000 April 13 Thursday        = 2000-01-11 [2000-04-13]\n",
      "× 2042 February 25 Tuesday      = 2000-01-11 [2042-02-25]\n",
      "× 2039 July 13 Wednesday        = 2000-01-11 [2039-07-13]\n",
      "[9] Corrects 0 / 3\tloss: 0.9763128757476807\n"
     ]
    },
    {
     "name": "stderr",
     "output_type": "stream",
     "text": [
      "100%|█████████████████████████████████████████████████████████████████████████████████████████████████████████████████████████| 390/390 [00:26<00:00, 14.49it/s]\n"
     ]
    },
    {
     "name": "stdout",
     "output_type": "stream",
     "text": [
      "× 2020 February 19 Wednesday    = 2010-01-11 [2020-02-19]\n",
      "× 2020 July 04 Saturday         = 2000-01-11 [2020-07-04]\n",
      "× 2018 December 19 Wednesday    = 2010-01-11 [2018-12-19]\n",
      "[10] Corrects 0 / 3\tloss: 0.9734077453613281\n"
     ]
    },
    {
     "name": "stderr",
     "output_type": "stream",
     "text": [
      "100%|█████████████████████████████████████████████████████████████████████████████████████████████████████████████████████████| 390/390 [00:27<00:00, 14.41it/s]\n"
     ]
    },
    {
     "name": "stdout",
     "output_type": "stream",
     "text": [
      "× 2009 September 14 Monday      = 2000-01-11 [2009-09-14]\n",
      "× 1999 May 29 Saturday          = 2000-01-11 [1999-05-29]\n",
      "× 2022 December 30 Friday       = 2000-01-11 [2022-12-30]\n",
      "[11] Corrects 0 / 3\tloss: 0.9652674198150635\n"
     ]
    },
    {
     "name": "stderr",
     "output_type": "stream",
     "text": [
      "100%|█████████████████████████████████████████████████████████████████████████████████████████████████████████████████████████| 390/390 [00:26<00:00, 14.55it/s]\n"
     ]
    },
    {
     "name": "stdout",
     "output_type": "stream",
     "text": [
      "× 2023 January 31 Tuesday       = 2000-01-21 [2023-01-31]\n",
      "× 2026 June 03 Wednesday        = 2000-01-21 [2026-06-03]\n",
      "× 2021 June 29 Tuesday          = 2000-01-21 [2021-06-29]\n",
      "[12] Corrects 0 / 3\tloss: 0.959685742855072\n"
     ]
    },
    {
     "name": "stderr",
     "output_type": "stream",
     "text": [
      "100%|█████████████████████████████████████████████████████████████████████████████████████████████████████████████████████████| 390/390 [00:26<00:00, 14.65it/s]\n"
     ]
    },
    {
     "name": "stdout",
     "output_type": "stream",
     "text": [
      "× 2040 November 25 Sunday       = 2010-01-11 [2040-11-25]\n",
      "× 2017 November 07 Tuesday      = 2010-01-11 [2017-11-07]\n",
      "× 2045 May 12 Friday            = 2010-08-11 [2045-05-12]\n",
      "[13] Corrects 0 / 3\tloss: 0.9518120288848877\n"
     ]
    },
    {
     "name": "stderr",
     "output_type": "stream",
     "text": [
      "100%|█████████████████████████████████████████████████████████████████████████████████████████████████████████████████████████| 390/390 [00:26<00:00, 14.57it/s]\n"
     ]
    },
    {
     "name": "stdout",
     "output_type": "stream",
     "text": [
      "× 2030 November 15 Friday       = 2000-01-21 [2030-11-15]\n",
      "× 2000 January 25 Tuesday       = 2000-01-21 [2000-01-25]\n",
      "× 2021 July 24 Saturday         = 2010-08-11 [2021-07-24]\n",
      "[14] Corrects 0 / 3\tloss: 0.9403224587440491\n"
     ]
    },
    {
     "name": "stderr",
     "output_type": "stream",
     "text": [
      "100%|█████████████████████████████████████████████████████████████████████████████████████████████████████████████████████████| 390/390 [00:26<00:00, 14.52it/s]\n"
     ]
    },
    {
     "name": "stdout",
     "output_type": "stream",
     "text": [
      "× 2038 July 27 Tuesday          = 2000-07-11 [2038-07-27]\n",
      "× 2030 December 29 Sunday       = 2000-01-11 [2030-12-29]\n",
      "× 1997 October 16 Thursday      = 2010-01-11 [1997-10-16]\n",
      "[15] Corrects 0 / 3\tloss: 0.9332176446914673\n"
     ]
    },
    {
     "name": "stderr",
     "output_type": "stream",
     "text": [
      "100%|█████████████████████████████████████████████████████████████████████████████████████████████████████████████████████████| 390/390 [00:26<00:00, 14.86it/s]\n"
     ]
    },
    {
     "name": "stdout",
     "output_type": "stream",
     "text": [
      "× 2010 May 12 Wednesday         = 2010-07-11 [2010-05-12]\n",
      "× 2043 April 15 Wednesday       = 2010-09-11 [2043-04-15]\n",
      "× 2006 August 31 Thursday       = 2010-01-21 [2006-08-31]\n",
      "[16] Corrects 0 / 3\tloss: 0.9233273863792419\n"
     ]
    },
    {
     "name": "stderr",
     "output_type": "stream",
     "text": [
      "100%|█████████████████████████████████████████████████████████████████████████████████████████████████████████████████████████| 390/390 [00:26<00:00, 14.79it/s]\n"
     ]
    },
    {
     "name": "stdout",
     "output_type": "stream",
     "text": [
      "× 2037 February 14 Saturday     = 2010-01-21 [2037-02-14]\n",
      "× 2017 December 29 Friday       = 2010-01-23 [2017-12-29]\n",
      "× 2039 November 15 Tuesday      = 2010-01-13 [2039-11-15]\n",
      "[17] Corrects 0 / 3\tloss: 0.9066560864448547\n"
     ]
    },
    {
     "name": "stderr",
     "output_type": "stream",
     "text": [
      "100%|█████████████████████████████████████████████████████████████████████████████████████████████████████████████████████████| 390/390 [00:25<00:00, 15.01it/s]\n"
     ]
    },
    {
     "name": "stdout",
     "output_type": "stream",
     "text": [
      "× 2008 October 02 Thursday      = 2010-01-11 [2008-10-02]\n",
      "× 2047 December 26 Thursday     = 2010-01-19 [2047-12-26]\n",
      "× 2045 August 02 Wednesday      = 2010-09-11 [2045-08-02]\n",
      "[18] Corrects 0 / 3\tloss: 0.8939329385757446\n"
     ]
    },
    {
     "name": "stderr",
     "output_type": "stream",
     "text": [
      "100%|█████████████████████████████████████████████████████████████████████████████████████████████████████████████████████████| 390/390 [00:25<00:00, 15.00it/s]\n"
     ]
    },
    {
     "name": "stdout",
     "output_type": "stream",
     "text": [
      "× 2030 September 14 Saturday    = 2010-09-10 [2030-09-14]\n",
      "× 2003 September 07 Sunday      = 2010-09-29 [2003-09-07]\n",
      "× 2051 March 21 Tuesday         = 2010-05-11 [2051-03-21]\n",
      "[19] Corrects 0 / 3\tloss: 0.8844974040985107\n"
     ]
    },
    {
     "name": "stderr",
     "output_type": "stream",
     "text": [
      "100%|█████████████████████████████████████████████████████████████████████████████████████████████████████████████████████████| 390/390 [00:26<00:00, 14.92it/s]\n"
     ]
    },
    {
     "name": "stdout",
     "output_type": "stream",
     "text": [
      "× 2017 May 30 Tuesday           = 2010-05-16 [2017-05-30]\n",
      "× 2008 November 05 Wednesday    = 2010-01-29 [2008-11-05]\n",
      "× 2018 August 28 Tuesday        = 2010-07-17 [2018-08-28]\n",
      "[20] Corrects 0 / 3\tloss: 0.8778515458106995\n"
     ]
    },
    {
     "name": "stderr",
     "output_type": "stream",
     "text": [
      "100%|█████████████████████████████████████████████████████████████████████████████████████████████████████████████████████████| 390/390 [00:26<00:00, 14.87it/s]\n"
     ]
    },
    {
     "name": "stdout",
     "output_type": "stream",
     "text": [
      "× 2012 August 18 Saturday       = 2010-09-13 [2012-08-18]\n",
      "× 1998 August 04 Tuesday        = 2010-07-10 [1998-08-04]\n",
      "× 2026 September 17 Thursday    = 2010-09-19 [2026-09-17]\n",
      "[21] Corrects 0 / 3\tloss: 0.8617922067642212\n"
     ]
    },
    {
     "name": "stderr",
     "output_type": "stream",
     "text": [
      "100%|█████████████████████████████████████████████████████████████████████████████████████████████████████████████████████████| 390/390 [00:26<00:00, 14.95it/s]\n"
     ]
    },
    {
     "name": "stdout",
     "output_type": "stream",
     "text": [
      "× 2012 September 26 Wednesday   = 2019-09-10 [2012-09-26]\n",
      "× 2030 April 19 Friday          = 2019-05-17 [2030-04-19]\n",
      "× 2036 February 12 Tuesday      = 2019-01-11 [2036-02-12]\n",
      "[22] Corrects 0 / 3\tloss: 0.8968986868858337\n"
     ]
    },
    {
     "name": "stderr",
     "output_type": "stream",
     "text": [
      "100%|█████████████████████████████████████████████████████████████████████████████████████████████████████████████████████████| 390/390 [00:26<00:00, 14.90it/s]\n"
     ]
    },
    {
     "name": "stdout",
     "output_type": "stream",
     "text": [
      "× 2008 June 28 Saturday         = 2000-05-19 [2008-06-28]\n",
      "× 2051 May 12 Friday            = 2010-05-11 [2051-05-12]\n",
      "× 2027 October 20 Wednesday     = 2010-01-11 [2027-10-20]\n",
      "[23] Corrects 0 / 3\tloss: 0.8729116320610046\n"
     ]
    },
    {
     "name": "stderr",
     "output_type": "stream",
     "text": [
      "100%|█████████████████████████████████████████████████████████████████████████████████████████████████████████████████████████| 390/390 [00:26<00:00, 14.76it/s]\n"
     ]
    },
    {
     "name": "stdout",
     "output_type": "stream",
     "text": [
      "× 2002 September 28 Saturday    = 2000-09-29 [2002-09-28]\n",
      "× 2002 August 20 Tuesday        = 2000-08-20 [2002-08-20]\n",
      "× 2023 April 10 Monday          = 2000-05-23 [2023-04-10]\n",
      "[24] Corrects 0 / 3\tloss: 0.8607420325279236\n"
     ]
    },
    {
     "name": "stderr",
     "output_type": "stream",
     "text": [
      "100%|█████████████████████████████████████████████████████████████████████████████████████████████████████████████████████████| 390/390 [00:26<00:00, 14.97it/s]\n"
     ]
    },
    {
     "name": "stdout",
     "output_type": "stream",
     "text": [
      "× 1997 January 19 Sunday        = 2000-01-17 [1997-01-19]\n",
      "× 2036 May 06 Tuesday           = 2000-05-06 [2036-05-06]\n",
      "× 2040 May 29 Tuesday           = 2000-05-07 [2040-05-29]\n",
      "[25] Corrects 0 / 3\tloss: 0.8527868390083313\n"
     ]
    },
    {
     "name": "stderr",
     "output_type": "stream",
     "text": [
      "100%|█████████████████████████████████████████████████████████████████████████████████████████████████████████████████████████| 390/390 [00:26<00:00, 14.83it/s]\n"
     ]
    },
    {
     "name": "stdout",
     "output_type": "stream",
     "text": [
      "× 2002 August 30 Friday         = 2010-05-28 [2002-08-30]\n",
      "× 2003 April 14 Monday          = 2010-05-28 [2003-04-14]\n",
      "× 2040 June 04 Monday           = 2019-05-26 [2040-06-04]\n",
      "[26] Corrects 0 / 3\tloss: 0.8783330917358398\n"
     ]
    },
    {
     "name": "stderr",
     "output_type": "stream",
     "text": [
      "100%|█████████████████████████████████████████████████████████████████████████████████████████████████████████████████████████| 390/390 [00:26<00:00, 14.86it/s]\n"
     ]
    },
    {
     "name": "stdout",
     "output_type": "stream",
     "text": [
      "× 2022 May 10 Tuesday           = 2010-05-10 [2022-05-10]\n",
      "× 2014 August 02 Saturday       = 2010-08-11 [2014-08-02]\n",
      "× 2025 May 28 Wednesday         = 2010-03-19 [2025-05-28]\n",
      "[27] Corrects 0 / 3\tloss: 0.8575801849365234\n"
     ]
    },
    {
     "name": "stderr",
     "output_type": "stream",
     "text": [
      "100%|█████████████████████████████████████████████████████████████████████████████████████████████████████████████████████████| 390/390 [00:26<00:00, 14.82it/s]\n"
     ]
    },
    {
     "name": "stdout",
     "output_type": "stream",
     "text": [
      "× 2019 October 03 Thursday      = 2010-01-13 [2019-10-03]\n",
      "× 2005 July 26 Tuesday          = 2000-05-20 [2005-07-26]\n",
      "× 2036 October 12 Sunday        = 2010-01-11 [2036-10-12]\n",
      "[28] Corrects 0 / 3\tloss: 0.8388051986694336\n"
     ]
    },
    {
     "name": "stderr",
     "output_type": "stream",
     "text": [
      "100%|█████████████████████████████████████████████████████████████████████████████████████████████████████████████████████████| 390/390 [00:25<00:00, 15.02it/s]\n"
     ]
    },
    {
     "name": "stdout",
     "output_type": "stream",
     "text": [
      "× 2028 October 28 Saturday      = 2020-11-28 [2028-10-28]\n",
      "× 2037 December 09 Wednesday    = 2020-11-28 [2037-12-09]\n",
      "× 2001 January 23 Tuesday       = 2040-01-13 [2001-01-23]\n",
      "[29] Corrects 0 / 3\tloss: 0.8256712555885315\n"
     ]
    },
    {
     "name": "stderr",
     "output_type": "stream",
     "text": [
      "100%|█████████████████████████████████████████████████████████████████████████████████████████████████████████████████████████| 390/390 [00:26<00:00, 14.80it/s]\n"
     ]
    },
    {
     "name": "stdout",
     "output_type": "stream",
     "text": [
      "× 2016 September 21 Wednesday   = 2011-09-11 [2016-09-21]\n",
      "× 2008 July 16 Wednesday        = 2000-08-20 [2008-07-16]\n",
      "× 2017 May 06 Saturday          = 2011-05-20 [2017-05-06]\n",
      "[30] Corrects 0 / 3\tloss: 0.8010959625244141\n"
     ]
    },
    {
     "name": "stderr",
     "output_type": "stream",
     "text": [
      "100%|█████████████████████████████████████████████████████████████████████████████████████████████████████████████████████████| 390/390 [00:26<00:00, 14.78it/s]\n"
     ]
    },
    {
     "name": "stdout",
     "output_type": "stream",
     "text": [
      "× 2004 July 04 Sunday           = 2030-05-03 [2004-07-04]\n",
      "× 2040 March 26 Monday          = 2041-05-13 [2040-03-26]\n",
      "× 2017 May 24 Wednesday         = 2011-08-10 [2017-05-24]\n",
      "[31] Corrects 0 / 3\tloss: 0.7629983425140381\n"
     ]
    },
    {
     "name": "stderr",
     "output_type": "stream",
     "text": [
      "100%|█████████████████████████████████████████████████████████████████████████████████████████████████████████████████████████| 390/390 [00:26<00:00, 14.56it/s]\n"
     ]
    },
    {
     "name": "stdout",
     "output_type": "stream",
     "text": [
      "× 2044 May 11 Wednesday         = 2041-05-11 [2044-05-11]\n",
      "× 2050 June 06 Monday           = 2000-05-00 [2050-06-06]\n",
      "× 2010 August 02 Monday         = 2041-03-01 [2010-08-02]\n",
      "[32] Corrects 0 / 3\tloss: 0.7417186498641968\n"
     ]
    },
    {
     "name": "stderr",
     "output_type": "stream",
     "text": [
      "100%|█████████████████████████████████████████████████████████████████████████████████████████████████████████████████████████| 390/390 [00:26<00:00, 14.48it/s]\n"
     ]
    },
    {
     "name": "stdout",
     "output_type": "stream",
     "text": [
      "× 2049 January 07 Thursday      = 2049-02-07 [2049-01-07]\n",
      "× 2007 February 25 Sunday       = 2000-11-03 [2007-02-25]\n",
      "× 2046 September 20 Thursday    = 2016-09-10 [2046-09-20]\n",
      "[33] Corrects 0 / 3\tloss: 0.7227723598480225\n"
     ]
    },
    {
     "name": "stderr",
     "output_type": "stream",
     "text": [
      "100%|█████████████████████████████████████████████████████████████████████████████████████████████████████████████████████████| 390/390 [00:26<00:00, 14.55it/s]\n"
     ]
    },
    {
     "name": "stdout",
     "output_type": "stream",
     "text": [
      "× 1999 August 06 Friday         = 2998-08-03 [1999-08-06]\n",
      "× 2002 March 09 Saturday        = 2000-08-03 [2002-03-09]\n",
      "× 2044 September 10 Saturday    = 2048-09-10 [2044-09-10]\n",
      "[34] Corrects 0 / 3\tloss: 0.7039678692817688\n"
     ]
    },
    {
     "name": "stderr",
     "output_type": "stream",
     "text": [
      "100%|█████████████████████████████████████████████████████████████████████████████████████████████████████████████████████████| 390/390 [00:26<00:00, 14.49it/s]\n"
     ]
    },
    {
     "name": "stdout",
     "output_type": "stream",
     "text": [
      "× 2012 March 05 Monday          = 2012-05-03 [2012-03-05]\n",
      "× 2013 May 10 Friday            = 2013-05-11 [2013-05-10]\n",
      "× 2032 May 13 Thursday          = 2000-05-13 [2032-05-13]\n",
      "[35] Corrects 0 / 3\tloss: 0.6662900447845459\n"
     ]
    },
    {
     "name": "stderr",
     "output_type": "stream",
     "text": [
      "100%|█████████████████████████████████████████████████████████████████████████████████████████████████████████████████████████| 390/390 [00:26<00:00, 14.57it/s]\n"
     ]
    },
    {
     "name": "stdout",
     "output_type": "stream",
     "text": [
      "× 2008 January 12 Saturday      = 2000-11-01 [2008-01-12]\n",
      "○ 2026 August 17 Monday         = 2026-08-17 [2026-08-17]\n",
      "× 2049 December 29 Wednesday    = 2045-11-13 [2049-12-29]\n",
      "[36] Corrects 1 / 3\tloss: 0.6506381630897522\n"
     ]
    },
    {
     "name": "stderr",
     "output_type": "stream",
     "text": [
      "100%|█████████████████████████████████████████████████████████████████████████████████████████████████████████████████████████| 390/390 [00:26<00:00, 14.58it/s]\n"
     ]
    },
    {
     "name": "stdout",
     "output_type": "stream",
     "text": [
      "× 2034 July 05 Wednesday        = 2036-08-07 [2034-07-05]\n",
      "× 2047 July 14 Sunday           = 2047-05-10 [2047-07-14]\n",
      "× 2044 February 05 Friday       = 2049-02-03 [2044-02-05]\n",
      "[37] Corrects 0 / 3\tloss: 0.6395039558410645\n"
     ]
    },
    {
     "name": "stderr",
     "output_type": "stream",
     "text": [
      "100%|█████████████████████████████████████████████████████████████████████████████████████████████████████████████████████████| 390/390 [00:26<00:00, 14.57it/s]\n"
     ]
    },
    {
     "name": "stdout",
     "output_type": "stream",
     "text": [
      "× 2038 May 24 Monday            = 2030-05-10 [2038-05-24]\n",
      "× 2040 June 10 Sunday           = 2041-05-11 [2040-06-10]\n",
      "× 2025 April 06 Sunday          = 2020-05-01 [2025-04-06]\n",
      "[38] Corrects 0 / 3\tloss: 0.625211775302887\n"
     ]
    },
    {
     "name": "stderr",
     "output_type": "stream",
     "text": [
      "100%|█████████████████████████████████████████████████████████████████████████████████████████████████████████████████████████| 390/390 [00:26<00:00, 14.57it/s]\n"
     ]
    },
    {
     "name": "stdout",
     "output_type": "stream",
     "text": [
      "× 2016 September 30 Friday      = 2017-09-00 [2016-09-30]\n",
      "× 2004 March 28 Sunday          = 2034-05-23 [2004-03-28]\n",
      "× 2042 April 19 Saturday        = 2041-08-13 [2042-04-19]\n",
      "[39] Corrects 0 / 3\tloss: 0.6031246185302734\n"
     ]
    },
    {
     "name": "stderr",
     "output_type": "stream",
     "text": [
      "100%|█████████████████████████████████████████████████████████████████████████████████████████████████████████████████████████| 390/390 [00:27<00:00, 14.34it/s]\n"
     ]
    },
    {
     "name": "stdout",
     "output_type": "stream",
     "text": [
      "× 2020 June 01 Monday           = 2020-05-01 [2020-06-01]\n",
      "× 1999 September 30 Thursday    = 2999-09-09 [1999-09-30]\n",
      "× 2044 March 13 Sunday          = 2049-05-13 [2044-03-13]\n",
      "[40] Corrects 0 / 3\tloss: 0.5975330471992493\n"
     ]
    },
    {
     "name": "stderr",
     "output_type": "stream",
     "text": [
      "100%|█████████████████████████████████████████████████████████████████████████████████████████████████████████████████████████| 390/390 [00:26<00:00, 14.46it/s]\n"
     ]
    },
    {
     "name": "stdout",
     "output_type": "stream",
     "text": [
      "× 2041 January 19 Saturday      = 2041-01-29 [2041-01-19]\n",
      "× 2035 May 14 Monday            = 2030-05-11 [2035-05-14]\n",
      "× 2028 August 01 Tuesday        = 2020-08-02 [2028-08-01]\n",
      "[41] Corrects 0 / 3\tloss: 0.5851200222969055\n"
     ]
    },
    {
     "name": "stderr",
     "output_type": "stream",
     "text": [
      "100%|█████████████████████████████████████████████████████████████████████████████████████████████████████████████████████████| 390/390 [00:27<00:00, 14.37it/s]\n"
     ]
    },
    {
     "name": "stdout",
     "output_type": "stream",
     "text": [
      "× 2031 December 20 Saturday     = 2031-11-20 [2031-12-20]\n",
      "× 2002 June 12 Wednesday        = 2022-08-11 [2002-06-12]\n",
      "× 2014 November 20 Thursday     = 2016-11-21 [2014-11-20]\n",
      "[42] Corrects 0 / 3\tloss: 0.58054119348526\n"
     ]
    },
    {
     "name": "stderr",
     "output_type": "stream",
     "text": [
      "100%|█████████████████████████████████████████████████████████████████████████████████████████████████████████████████████████| 390/390 [00:26<00:00, 14.46it/s]\n"
     ]
    },
    {
     "name": "stdout",
     "output_type": "stream",
     "text": [
      "× 2035 December 30 Sunday       = 2035-11-01 [2035-12-30]\n",
      "× 2017 May 19 Friday            = 2017-05-13 [2017-05-19]\n",
      "× 2003 April 29 Tuesday         = 2003-03-13 [2003-04-29]\n",
      "[43] Corrects 0 / 3\tloss: 0.5413612127304077\n"
     ]
    },
    {
     "name": "stderr",
     "output_type": "stream",
     "text": [
      "100%|█████████████████████████████████████████████████████████████████████████████████████████████████████████████████████████| 390/390 [00:26<00:00, 14.62it/s]\n"
     ]
    },
    {
     "name": "stdout",
     "output_type": "stream",
     "text": [
      "× 2024 December 29 Sunday       = 2026-11-23 [2024-12-29]\n",
      "× 1999 May 25 Tuesday           = 2998-05-25 [1999-05-25]\n",
      "× 2023 September 04 Monday      = 2023-09-00 [2023-09-04]\n",
      "[44] Corrects 0 / 3\tloss: 0.5196526050567627\n"
     ]
    },
    {
     "name": "stderr",
     "output_type": "stream",
     "text": [
      "100%|█████████████████████████████████████████████████████████████████████████████████████████████████████████████████████████| 390/390 [00:26<00:00, 14.46it/s]\n"
     ]
    },
    {
     "name": "stdout",
     "output_type": "stream",
     "text": [
      "○ 2040 October 05 Friday        = 2040-10-05 [2040-10-05]\n",
      "× 2030 July 09 Tuesday          = 2030-05-09 [2030-07-09]\n",
      "× 2014 February 11 Tuesday      = 2014-01-11 [2014-02-11]\n",
      "[45] Corrects 1 / 3\tloss: 0.5346515774726868\n"
     ]
    },
    {
     "name": "stderr",
     "output_type": "stream",
     "text": [
      "100%|█████████████████████████████████████████████████████████████████████████████████████████████████████████████████████████| 390/390 [00:27<00:00, 14.42it/s]\n"
     ]
    },
    {
     "name": "stdout",
     "output_type": "stream",
     "text": [
      "× 2024 October 28 Monday        = 2026-10-25 [2024-10-28]\n",
      "× 2051 January 29 Sunday        = 2041-02-23 [2051-01-29]\n",
      "× 2042 June 08 Sunday           = 2042-05-08 [2042-06-08]\n",
      "[46] Corrects 0 / 3\tloss: 0.5077794790267944\n"
     ]
    },
    {
     "name": "stderr",
     "output_type": "stream",
     "text": [
      "100%|█████████████████████████████████████████████████████████████████████████████████████████████████████████████████████████| 390/390 [00:26<00:00, 14.57it/s]\n"
     ]
    },
    {
     "name": "stdout",
     "output_type": "stream",
     "text": [
      "× 1998 January 13 Tuesday       = 2997-01-13 [1998-01-13]\n",
      "× 2046 August 31 Friday         = 2047-08-02 [2046-08-31]\n",
      "× 2003 December 19 Friday       = 2000-11-18 [2003-12-19]\n",
      "[47] Corrects 0 / 3\tloss: 0.49513480067253113\n"
     ]
    },
    {
     "name": "stderr",
     "output_type": "stream",
     "text": [
      "100%|█████████████████████████████████████████████████████████████████████████████████████████████████████████████████████████| 390/390 [00:27<00:00, 14.43it/s]\n"
     ]
    },
    {
     "name": "stdout",
     "output_type": "stream",
     "text": [
      "○ 2020 November 08 Sunday       = 2020-11-08 [2020-11-08]\n",
      "× 2013 July 28 Sunday           = 2013-05-28 [2013-07-28]\n",
      "○ 2004 May 29 Saturday          = 2004-05-29 [2004-05-29]\n",
      "[48] Corrects 2 / 3\tloss: 0.4780913293361664\n"
     ]
    },
    {
     "name": "stderr",
     "output_type": "stream",
     "text": [
      "100%|█████████████████████████████████████████████████████████████████████████████████████████████████████████████████████████| 390/390 [00:27<00:00, 14.39it/s]\n"
     ]
    },
    {
     "name": "stdout",
     "output_type": "stream",
     "text": [
      "× 2034 June 10 Saturday         = 2034-07-16 [2034-06-10]\n",
      "× 2028 February 04 Friday       = 2028-02-02 [2028-02-04]\n",
      "× 2005 April 18 Monday          = 2005-05-13 [2005-04-18]\n",
      "[49] Corrects 0 / 3\tloss: 0.5183485150337219\n"
     ]
    },
    {
     "name": "stderr",
     "output_type": "stream",
     "text": [
      "100%|█████████████████████████████████████████████████████████████████████████████████████████████████████████████████████████| 390/390 [00:27<00:00, 14.25it/s]\n"
     ]
    },
    {
     "name": "stdout",
     "output_type": "stream",
     "text": [
      "× 2027 June 08 Tuesday          = 2025-05-03 [2027-06-08]\n",
      "× 2019 April 08 Monday          = 2015-05-03 [2019-04-08]\n",
      "× 2041 February 19 Tuesday      = 2041-01-17 [2041-02-19]\n",
      "[50] Corrects 0 / 3\tloss: 0.4579779803752899\n"
     ]
    },
    {
     "name": "stderr",
     "output_type": "stream",
     "text": [
      "100%|█████████████████████████████████████████████████████████████████████████████████████████████████████████████████████████| 390/390 [00:27<00:00, 14.22it/s]\n"
     ]
    },
    {
     "name": "stdout",
     "output_type": "stream",
     "text": [
      "× 2030 September 12 Thursday    = 2033-09-21 [2030-09-12]\n",
      "× 2037 December 08 Tuesday      = 2037-11-08 [2037-12-08]\n",
      "× 2045 January 18 Wednesday     = 2049-01-25 [2045-01-18]\n",
      "[51] Corrects 0 / 3\tloss: 0.5969424843788147\n"
     ]
    },
    {
     "name": "stderr",
     "output_type": "stream",
     "text": [
      "100%|█████████████████████████████████████████████████████████████████████████████████████████████████████████████████████████| 390/390 [00:27<00:00, 14.30it/s]\n"
     ]
    },
    {
     "name": "stdout",
     "output_type": "stream",
     "text": [
      "× 2014 September 16 Tuesday     = 2014-09-11 [2014-09-16]\n",
      "× 2016 April 05 Tuesday         = 2016-03-03 [2016-04-05]\n",
      "× 2018 November 14 Wednesday    = 2013-11-11 [2018-11-14]\n",
      "[52] Corrects 0 / 3\tloss: 0.440512478351593\n"
     ]
    },
    {
     "name": "stderr",
     "output_type": "stream",
     "text": [
      "100%|█████████████████████████████████████████████████████████████████████████████████████████████████████████████████████████| 390/390 [00:27<00:00, 14.33it/s]\n"
     ]
    },
    {
     "name": "stdout",
     "output_type": "stream",
     "text": [
      "○ 2047 November 15 Friday       = 2047-11-15 [2047-11-15]\n",
      "× 2049 September 03 Friday      = 2049-09-09 [2049-09-03]\n",
      "× 2015 November 20 Friday       = 2015-11-21 [2015-11-20]\n",
      "[53] Corrects 1 / 3\tloss: 0.43639615178108215\n"
     ]
    },
    {
     "name": "stderr",
     "output_type": "stream",
     "text": [
      "100%|█████████████████████████████████████████████████████████████████████████████████████████████████████████████████████████| 390/390 [00:27<00:00, 14.37it/s]\n"
     ]
    },
    {
     "name": "stdout",
     "output_type": "stream",
     "text": [
      "× 2039 April 09 Saturday        = 2039-08-03 [2039-04-09]\n",
      "○ 2019 August 23 Friday         = 2019-08-23 [2019-08-23]\n",
      "○ 2008 October 01 Wednesday     = 2008-10-01 [2008-10-01]\n",
      "[54] Corrects 2 / 3\tloss: 0.43062877655029297\n"
     ]
    },
    {
     "name": "stderr",
     "output_type": "stream",
     "text": [
      "100%|█████████████████████████████████████████████████████████████████████████████████████████████████████████████████████████| 390/390 [00:27<00:00, 14.25it/s]\n"
     ]
    },
    {
     "name": "stdout",
     "output_type": "stream",
     "text": [
      "× 1998 January 26 Monday        = 2994-01-21 [1998-01-26]\n",
      "× 2008 July 19 Saturday         = 2003-04-19 [2008-07-19]\n",
      "× 2050 October 21 Friday        = 2030-10-21 [2050-10-21]\n",
      "[55] Corrects 0 / 3\tloss: 0.4523870348930359\n"
     ]
    },
    {
     "name": "stderr",
     "output_type": "stream",
     "text": [
      "100%|█████████████████████████████████████████████████████████████████████████████████████████████████████████████████████████| 390/390 [00:27<00:00, 14.31it/s]\n"
     ]
    },
    {
     "name": "stdout",
     "output_type": "stream",
     "text": [
      "× 2040 May 28 Monday            = 2040-05-23 [2040-05-28]\n",
      "× 2005 April 06 Wednesday       = 2005-08-06 [2005-04-06]\n",
      "× 2006 March 20 Monday          = 2006-05-21 [2006-03-20]\n",
      "[56] Corrects 0 / 3\tloss: 0.4233287572860718\n"
     ]
    },
    {
     "name": "stderr",
     "output_type": "stream",
     "text": [
      "100%|█████████████████████████████████████████████████████████████████████████████████████████████████████████████████████████| 390/390 [00:27<00:00, 14.19it/s]\n"
     ]
    },
    {
     "name": "stdout",
     "output_type": "stream",
     "text": [
      "× 2002 March 26 Tuesday         = 2002-03-21 [2002-03-26]\n",
      "× 2035 January 05 Friday        = 2035-02-05 [2035-01-05]\n",
      "× 2032 March 05 Friday          = 2032-05-03 [2032-03-05]\n",
      "[57] Corrects 0 / 3\tloss: 0.42764517664909363\n"
     ]
    },
    {
     "name": "stderr",
     "output_type": "stream",
     "text": [
      "100%|█████████████████████████████████████████████████████████████████████████████████████████████████████████████████████████| 390/390 [00:27<00:00, 14.12it/s]\n"
     ]
    },
    {
     "name": "stdout",
     "output_type": "stream",
     "text": [
      "○ 2005 November 28 Monday       = 2005-11-28 [2005-11-28]\n",
      "× 2015 August 12 Wednesday      = 2015-08-11 [2015-08-12]\n",
      "× 2030 December 16 Monday       = 2030-11-16 [2030-12-16]\n",
      "[58] Corrects 1 / 3\tloss: 0.417190819978714\n"
     ]
    },
    {
     "name": "stderr",
     "output_type": "stream",
     "text": [
      "100%|█████████████████████████████████████████████████████████████████████████████████████████████████████████████████████████| 390/390 [00:27<00:00, 14.34it/s]\n"
     ]
    },
    {
     "name": "stdout",
     "output_type": "stream",
     "text": [
      "× 2037 July 28 Tuesday          = 2037-05-23 [2037-07-28]\n",
      "× 2009 July 12 Sunday           = 2009-05-11 [2009-07-12]\n",
      "× 2006 March 05 Sunday          = 2006-05-03 [2006-03-05]\n",
      "[59] Corrects 0 / 3\tloss: 0.4126042425632477\n"
     ]
    },
    {
     "name": "stderr",
     "output_type": "stream",
     "text": [
      "100%|█████████████████████████████████████████████████████████████████████████████████████████████████████████████████████████| 390/390 [00:27<00:00, 14.32it/s]\n"
     ]
    },
    {
     "name": "stdout",
     "output_type": "stream",
     "text": [
      "× 2023 November 20 Monday       = 2023-11-21 [2023-11-20]\n",
      "× 2001 August 29 Wednesday      = 2001-08-17 [2001-08-29]\n",
      "× 2036 April 27 Sunday          = 2036-05-23 [2036-04-27]\n",
      "[60] Corrects 0 / 3\tloss: 0.4110763669013977\n"
     ]
    },
    {
     "name": "stderr",
     "output_type": "stream",
     "text": [
      "100%|█████████████████████████████████████████████████████████████████████████████████████████████████████████████████████████| 390/390 [00:27<00:00, 14.13it/s]\n"
     ]
    },
    {
     "name": "stdout",
     "output_type": "stream",
     "text": [
      "× 2046 June 19 Tuesday          = 2046-05-17 [2046-06-19]\n",
      "× 2006 August 08 Tuesday        = 2006-08-03 [2006-08-08]\n",
      "○ 2009 May 26 Tuesday           = 2009-05-26 [2009-05-26]\n",
      "[61] Corrects 1 / 3\tloss: 0.4148584306240082\n"
     ]
    },
    {
     "name": "stderr",
     "output_type": "stream",
     "text": [
      "100%|█████████████████████████████████████████████████████████████████████████████████████████████████████████████████████████| 390/390 [00:27<00:00, 14.28it/s]\n"
     ]
    },
    {
     "name": "stdout",
     "output_type": "stream",
     "text": [
      "× 2002 June 21 Friday           = 2002-05-21 [2002-06-21]\n",
      "○ 2021 November 13 Saturday     = 2021-11-13 [2021-11-13]\n",
      "× 2017 July 17 Monday           = 2017-05-17 [2017-07-17]\n",
      "[62] Corrects 1 / 3\tloss: 0.42626798152923584\n"
     ]
    },
    {
     "name": "stderr",
     "output_type": "stream",
     "text": [
      "100%|█████████████████████████████████████████████████████████████████████████████████████████████████████████████████████████| 390/390 [00:27<00:00, 14.36it/s]\n"
     ]
    },
    {
     "name": "stdout",
     "output_type": "stream",
     "text": [
      "○ 2014 February 03 Monday       = 2014-02-03 [2014-02-03]\n",
      "× 2002 January 28 Monday        = 2002-02-25 [2002-01-28]\n",
      "× 2025 April 04 Friday          = 2025-05-03 [2025-04-04]\n",
      "[63] Corrects 1 / 3\tloss: 0.40202319622039795\n"
     ]
    },
    {
     "name": "stderr",
     "output_type": "stream",
     "text": [
      "100%|█████████████████████████████████████████████████████████████████████████████████████████████████████████████████████████| 390/390 [00:27<00:00, 14.41it/s]\n"
     ]
    },
    {
     "name": "stdout",
     "output_type": "stream",
     "text": [
      "× 2033 November 05 Saturday     = 2033-12-09 [2033-11-05]\n",
      "× 2014 May 04 Sunday            = 2014-05-01 [2014-05-04]\n",
      "○ 2044 May 23 Monday            = 2044-05-23 [2044-05-23]\n",
      "[64] Corrects 1 / 3\tloss: 0.3910188674926758\n"
     ]
    },
    {
     "name": "stderr",
     "output_type": "stream",
     "text": [
      "100%|█████████████████████████████████████████████████████████████████████████████████████████████████████████████████████████| 390/390 [00:27<00:00, 14.39it/s]\n"
     ]
    },
    {
     "name": "stdout",
     "output_type": "stream",
     "text": [
      "× 2027 January 19 Tuesday       = 2029-02-13 [2027-01-19]\n",
      "× 2039 February 15 Tuesday      = 2039-01-15 [2039-02-15]\n",
      "× 2027 December 30 Thursday     = 2029-12-02 [2027-12-30]\n",
      "[65] Corrects 0 / 3\tloss: 0.4035559892654419\n"
     ]
    },
    {
     "name": "stderr",
     "output_type": "stream",
     "text": [
      "100%|█████████████████████████████████████████████████████████████████████████████████████████████████████████████████████████| 390/390 [00:26<00:00, 14.45it/s]\n"
     ]
    },
    {
     "name": "stdout",
     "output_type": "stream",
     "text": [
      "× 2038 September 09 Thursday    = 2033-09-09 [2038-09-09]\n",
      "○ 2042 October 23 Thursday      = 2042-10-23 [2042-10-23]\n",
      "○ 2019 September 20 Friday      = 2019-09-20 [2019-09-20]\n",
      "[66] Corrects 2 / 3\tloss: 0.3964485824108124\n"
     ]
    },
    {
     "name": "stderr",
     "output_type": "stream",
     "text": [
      "100%|█████████████████████████████████████████████████████████████████████████████████████████████████████████████████████████| 390/390 [00:26<00:00, 14.51it/s]\n"
     ]
    },
    {
     "name": "stdout",
     "output_type": "stream",
     "text": [
      "× 2033 September 03 Saturday    = 2033-09-09 [2033-09-03]\n",
      "○ 2037 February 06 Friday       = 2037-02-06 [2037-02-06]\n",
      "× 2001 January 27 Saturday      = 2001-02-27 [2001-01-27]\n",
      "[67] Corrects 1 / 3\tloss: 0.3832419514656067\n"
     ]
    },
    {
     "name": "stderr",
     "output_type": "stream",
     "text": [
      "100%|█████████████████████████████████████████████████████████████████████████████████████████████████████████████████████████| 390/390 [00:27<00:00, 14.40it/s]\n"
     ]
    },
    {
     "name": "stdout",
     "output_type": "stream",
     "text": [
      "× 2034 August 31 Thursday       = 2034-08-02 [2034-08-31]\n",
      "× 2003 December 30 Tuesday      = 2003-12-02 [2003-12-30]\n",
      "○ 2046 December 03 Monday       = 2046-12-03 [2046-12-03]\n",
      "[68] Corrects 1 / 3\tloss: 0.37681806087493896\n"
     ]
    },
    {
     "name": "stderr",
     "output_type": "stream",
     "text": [
      "100%|█████████████████████████████████████████████████████████████████████████████████████████████████████████████████████████| 390/390 [00:27<00:00, 14.44it/s]\n"
     ]
    },
    {
     "name": "stdout",
     "output_type": "stream",
     "text": [
      "× 2024 July 01 Monday           = 2024-05-02 [2024-07-01]\n",
      "× 2037 September 18 Friday      = 2037-09-19 [2037-09-18]\n",
      "○ 2016 February 25 Thursday     = 2016-02-25 [2016-02-25]\n",
      "[69] Corrects 1 / 3\tloss: 0.38226595520973206\n"
     ]
    },
    {
     "name": "stderr",
     "output_type": "stream",
     "text": [
      "100%|█████████████████████████████████████████████████████████████████████████████████████████████████████████████████████████| 390/390 [00:26<00:00, 14.50it/s]\n"
     ]
    },
    {
     "name": "stdout",
     "output_type": "stream",
     "text": [
      "× 2000 December 22 Friday       = 2000-11-21 [2000-12-22]\n",
      "× 2044 June 23 Thursday         = 2044-08-23 [2044-06-23]\n",
      "○ 2008 May 09 Friday            = 2008-05-09 [2008-05-09]\n",
      "[70] Corrects 1 / 3\tloss: 0.37889155745506287\n"
     ]
    },
    {
     "name": "stderr",
     "output_type": "stream",
     "text": [
      "100%|█████████████████████████████████████████████████████████████████████████████████████████████████████████████████████████| 390/390 [00:26<00:00, 14.61it/s]\n"
     ]
    },
    {
     "name": "stdout",
     "output_type": "stream",
     "text": [
      "× 2001 March 09 Friday          = 2001-03-03 [2001-03-09]\n",
      "× 2022 November 27 Sunday       = 2022-12-28 [2022-11-27]\n",
      "× 2037 August 31 Monday         = 2037-08-02 [2037-08-31]\n",
      "[71] Corrects 0 / 3\tloss: 0.36796581745147705\n"
     ]
    },
    {
     "name": "stderr",
     "output_type": "stream",
     "text": [
      "100%|█████████████████████████████████████████████████████████████████████████████████████████████████████████████████████████| 390/390 [00:26<00:00, 14.50it/s]\n"
     ]
    },
    {
     "name": "stdout",
     "output_type": "stream",
     "text": [
      "× 2032 July 02 Friday           = 2032-05-02 [2032-07-02]\n",
      "× 2026 October 30 Friday        = 2026-10-02 [2026-10-30]\n",
      "× 2035 September 22 Saturday    = 2035-09-21 [2035-09-22]\n",
      "[72] Corrects 0 / 3\tloss: 0.3574833571910858\n"
     ]
    },
    {
     "name": "stderr",
     "output_type": "stream",
     "text": [
      "100%|█████████████████████████████████████████████████████████████████████████████████████████████████████████████████████████| 390/390 [00:27<00:00, 14.42it/s]\n"
     ]
    },
    {
     "name": "stdout",
     "output_type": "stream",
     "text": [
      "× 2004 June 03 Thursday         = 2004-08-03 [2004-06-03]\n",
      "× 2029 October 30 Tuesday       = 2029-02-11 [2029-10-30]\n",
      "× 2011 May 11 Wednesday         = 2011-08-12 [2011-05-11]\n",
      "[73] Corrects 0 / 3\tloss: 0.36366480588912964\n"
     ]
    },
    {
     "name": "stderr",
     "output_type": "stream",
     "text": [
      "100%|█████████████████████████████████████████████████████████████████████████████████████████████████████████████████████████| 390/390 [00:27<00:00, 14.34it/s]\n"
     ]
    },
    {
     "name": "stdout",
     "output_type": "stream",
     "text": [
      "× 2021 June 25 Friday           = 2021-05-25 [2021-06-25]\n",
      "× 2014 August 10 Sunday         = 2014-08-21 [2014-08-10]\n",
      "○ 2020 December 15 Tuesday      = 2020-12-15 [2020-12-15]\n",
      "[74] Corrects 1 / 3\tloss: 0.37249624729156494\n"
     ]
    },
    {
     "name": "stderr",
     "output_type": "stream",
     "text": [
      "100%|█████████████████████████████████████████████████████████████████████████████████████████████████████████████████████████| 390/390 [00:27<00:00, 14.41it/s]\n"
     ]
    },
    {
     "name": "stdout",
     "output_type": "stream",
     "text": [
      "× 2050 April 20 Wednesday       = 2030-08-20 [2050-04-20]\n",
      "○ 2014 August 01 Friday         = 2014-08-01 [2014-08-01]\n",
      "× 2026 January 01 Thursday      = 2026-02-02 [2026-01-01]\n",
      "[75] Corrects 1 / 3\tloss: 0.39648592472076416\n"
     ]
    },
    {
     "name": "stderr",
     "output_type": "stream",
     "text": [
      "100%|█████████████████████████████████████████████████████████████████████████████████████████████████████████████████████████| 390/390 [00:27<00:00, 14.41it/s]\n"
     ]
    },
    {
     "name": "stdout",
     "output_type": "stream",
     "text": [
      "× 2040 April 30 Monday          = 2040-03-06 [2040-04-30]\n",
      "× 2015 August 27 Thursday       = 2015-08-23 [2015-08-27]\n",
      "× 2037 February 15 Sunday       = 2037-01-18 [2037-02-15]\n",
      "[76] Corrects 0 / 3\tloss: 0.35802480578422546\n"
     ]
    },
    {
     "name": "stderr",
     "output_type": "stream",
     "text": [
      "100%|█████████████████████████████████████████████████████████████████████████████████████████████████████████████████████████| 390/390 [00:27<00:00, 14.34it/s]\n"
     ]
    },
    {
     "name": "stdout",
     "output_type": "stream",
     "text": [
      "○ 2014 March 07 Friday          = 2014-03-07 [2014-03-07]\n",
      "○ 2037 July 10 Friday           = 2037-07-10 [2037-07-10]\n",
      "○ 2000 September 29 Friday      = 2000-09-29 [2000-09-29]\n",
      "[77] Corrects 3 / 3\tloss: 0.35307151079177856\n"
     ]
    },
    {
     "name": "stderr",
     "output_type": "stream",
     "text": [
      "100%|█████████████████████████████████████████████████████████████████████████████████████████████████████████████████████████| 390/390 [00:27<00:00, 14.29it/s]\n"
     ]
    },
    {
     "name": "stdout",
     "output_type": "stream",
     "text": [
      "× 2047 October 17 Thursday      = 2047-10-10 [2047-10-17]\n",
      "× 2022 November 01 Tuesday      = 2022-12-02 [2022-11-01]\n",
      "○ 2008 August 08 Friday         = 2008-08-08 [2008-08-08]\n",
      "[78] Corrects 1 / 3\tloss: 0.34365135431289673\n"
     ]
    },
    {
     "name": "stderr",
     "output_type": "stream",
     "text": [
      "100%|█████████████████████████████████████████████████████████████████████████████████████████████████████████████████████████| 390/390 [00:27<00:00, 14.34it/s]\n"
     ]
    },
    {
     "name": "stdout",
     "output_type": "stream",
     "text": [
      "○ 2017 February 08 Wednesday    = 2017-02-08 [2017-02-08]\n",
      "× 2034 August 14 Monday         = 2034-08-16 [2034-08-14]\n",
      "× 1997 December 09 Tuesday      = 1997-12-08 [1997-12-09]\n",
      "[79] Corrects 1 / 3\tloss: 0.3405943512916565\n",
      "Saved: network.state.pkl\n",
      "× 1998 June 28 Sunday           = 1998-05-23 [1998-06-28]\n",
      "○ 2041 May 05 Sunday            = 2041-05-05 [2041-05-05]\n",
      "× 2001 November 22 Thursday     = 2001-12-21 [2001-11-22]\n",
      "○ 2034 December 04 Monday       = 2034-12-04 [2034-12-04]\n",
      "○ 2021 July 23 Friday           = 2021-07-23 [2021-07-23]\n",
      "○ 2027 October 21 Thursday      = 2027-10-21 [2027-10-21]\n",
      "○ 2045 March 17 Friday          = 2045-03-17 [2045-03-17]\n",
      "× 2012 June 10 Sunday           = 2012-05-10 [2012-06-10]\n",
      "× 2048 April 30 Thursday        = 2048-08-04 [2048-04-30]\n",
      "× 2047 December 03 Tuesday      = 2047-11-03 [2047-12-03]\n",
      "× 2023 November 20 Monday       = 2023-12-20 [2023-11-20]\n",
      "× 2010 May 26 Wednesday         = 2010-03-21 [2010-05-26]\n",
      "× 2017 July 30 Sunday           = 2017-05-05 [2017-07-30]\n",
      "○ 2045 May 28 Sunday            = 2045-05-28 [2045-05-28]\n",
      "× 2027 September 27 Monday      = 2027-09-29 [2027-09-27]\n",
      "× 2036 May 13 Tuesday           = 2036-07-13 [2036-05-13]\n",
      "× 1998 October 02 Friday        = 1998-10-01 [1998-10-02]\n",
      "× 2022 January 27 Thursday      = 2022-02-23 [2022-01-27]\n",
      "× 2036 March 16 Sunday          = 2036-07-12 [2036-03-16]\n",
      "× 2049 December 14 Tuesday      = 2049-11-14 [2049-12-14]\n",
      "× 2007 February 04 Sunday       = 2007-02-06 [2007-02-04]\n",
      "× 2029 November 22 Thursday     = 2029-12-21 [2029-11-22]\n",
      "× 2014 December 18 Thursday     = 2014-11-18 [2014-12-18]\n",
      "× 2020 September 22 Tuesday     = 2020-09-21 [2020-09-22]\n",
      "× 2002 June 09 Sunday           = 2002-05-09 [2002-06-09]\n",
      "× 2031 December 11 Thursday     = 2031-11-11 [2031-12-11]\n",
      "× 2002 February 01 Friday       = 2002-02-02 [2002-02-01]\n",
      "× 2016 December 29 Thursday     = 2016-11-29 [2016-12-29]\n",
      "× 2016 June 22 Wednesday        = 2016-04-21 [2016-06-22]\n",
      "× 1997 March 13 Thursday        = 1997-08-13 [1997-03-13]\n",
      "× 2037 October 30 Friday        = 2037-10-02 [2037-10-30]\n",
      "× 2008 October 27 Monday        = 2008-10-25 [2008-10-27]\n",
      "× 2011 April 19 Tuesday         = 2011-04-13 [2011-04-19]\n",
      "× 2007 November 30 Friday       = 2007-12-01 [2007-11-30]\n",
      "○ 2040 August 23 Thursday       = 2040-08-23 [2040-08-23]\n",
      "× 2006 April 18 Tuesday         = 2006-04-13 [2006-04-18]\n",
      "× 2029 January 08 Monday        = 2029-02-07 [2029-01-08]\n",
      "× 2035 October 06 Saturday      = 2035-10-01 [2035-10-06]\n",
      "○ 2017 November 18 Saturday     = 2017-11-18 [2017-11-18]\n",
      "× 2010 June 13 Sunday           = 2010-07-13 [2010-06-13]\n",
      "○ 2002 May 07 Tuesday           = 2002-05-07 [2002-05-07]\n",
      "× 2013 June 12 Wednesday        = 2013-04-12 [2013-06-12]\n",
      "× 2046 May 29 Tuesday           = 2046-07-23 [2046-05-29]\n",
      "× 2020 August 11 Tuesday        = 2020-04-11 [2020-08-11]\n",
      "○ 2036 December 20 Saturday     = 2036-12-20 [2036-12-20]\n",
      "○ 2012 October 29 Monday        = 2012-10-29 [2012-10-29]\n",
      "○ 2024 October 17 Thursday      = 2024-10-17 [2024-10-17]\n",
      "○ 2037 April 21 Tuesday         = 2037-04-21 [2037-04-21]\n",
      "○ 2000 February 23 Wednesday    = 2000-02-23 [2000-02-23]\n",
      "× 2029 April 11 Wednesday       = 2029-08-11 [2029-04-11]\n",
      "× 2031 April 25 Friday          = 2031-03-23 [2031-04-25]\n",
      "○ 2017 May 05 Friday            = 2017-05-05 [2017-05-05]\n",
      "× 2014 March 24 Monday          = 2014-03-21 [2014-03-24]\n",
      "× 2007 March 11 Sunday          = 2007-07-11 [2007-03-11]\n",
      "× 2014 December 09 Tuesday      = 2014-12-08 [2014-12-09]\n",
      "× 2030 June 23 Sunday           = 2030-07-23 [2030-06-23]\n",
      "× 2023 January 22 Sunday        = 2023-02-21 [2023-01-22]\n",
      "○ 2007 April 10 Tuesday         = 2007-04-10 [2007-04-10]\n",
      "× 2010 March 10 Wednesday       = 2010-08-10 [2010-03-10]\n",
      "○ 2019 October 17 Thursday      = 2019-10-17 [2019-10-17]\n",
      "○ 2012 December 25 Tuesday      = 2012-12-25 [2012-12-25]\n",
      "○ 2018 November 13 Tuesday      = 2018-11-13 [2018-11-13]\n",
      "○ 2000 December 08 Friday       = 2000-12-08 [2000-12-08]\n",
      "× 2015 November 05 Thursday     = 2015-12-05 [2015-11-05]\n",
      "× 2009 December 27 Sunday       = 2009-12-28 [2009-12-27]\n",
      "× 2046 June 19 Tuesday          = 2046-07-13 [2046-06-19]\n",
      "× 1998 February 03 Tuesday      = 1998-01-03 [1998-02-03]\n",
      "× 1996 December 04 Wednesday    = 1997-12-01 [1996-12-04]\n",
      "× 2029 January 23 Tuesday       = 2029-02-23 [2029-01-23]\n",
      "× 2044 April 09 Saturday        = 2044-08-07 [2044-04-09]\n",
      "× 2050 September 14 Wednesday   = 2030-09-12 [2050-09-14]\n",
      "× 2019 July 16 Tuesday          = 2019-05-11 [2019-07-16]\n",
      "○ 2040 November 18 Sunday       = 2040-11-18 [2040-11-18]\n",
      "× 2003 September 24 Wednesday   = 2003-09-29 [2003-09-24]\n",
      "× 2033 December 30 Friday       = 2033-12-02 [2033-12-30]\n",
      "○ 2043 February 07 Saturday     = 2043-02-07 [2043-02-07]\n",
      "× 2027 November 29 Monday       = 2027-12-23 [2027-11-29]\n",
      "○ 2046 February 08 Thursday     = 2046-02-08 [2046-02-08]\n",
      "× 2003 November 09 Sunday       = 2003-12-07 [2003-11-09]\n",
      "○ 1997 May 06 Tuesday           = 1997-05-06 [1997-05-06]\n",
      "× 2025 July 28 Monday           = 2025-05-23 [2025-07-28]\n",
      "× 2014 July 24 Thursday         = 2014-04-26 [2014-07-24]\n",
      "× 1997 March 18 Tuesday         = 1997-04-18 [1997-03-18]\n",
      "× 2032 January 15 Thursday      = 2032-02-15 [2032-01-15]\n",
      "× 2016 October 06 Thursday      = 2016-10-01 [2016-10-06]\n",
      "× 2047 August 19 Monday         = 2047-08-13 [2047-08-19]\n",
      "○ 2050 March 04 Friday          = 2050-03-04 [2050-03-04]\n",
      "× 2006 May 04 Thursday          = 2006-03-04 [2006-05-04]\n",
      "○ 2036 October 10 Friday        = 2036-10-10 [2036-10-10]\n",
      "× 1998 September 28 Monday      = 1998-09-29 [1998-09-28]\n",
      "○ 2011 February 07 Monday       = 2011-02-07 [2011-02-07]\n",
      "○ 2010 August 19 Thursday       = 2010-08-19 [2010-08-19]\n",
      "○ 2004 October 01 Friday        = 2004-10-01 [2004-10-01]\n",
      "○ 2029 May 13 Sunday            = 2029-05-13 [2029-05-13]\n",
      "× 1998 February 22 Sunday       = 1998-01-21 [1998-02-22]\n",
      "× 2041 January 24 Thursday      = 2041-01-26 [2041-01-24]\n",
      "× 2033 May 04 Wednesday         = 2033-03-06 [2033-05-04]\n",
      "○ 2023 October 20 Friday        = 2023-10-20 [2023-10-20]\n",
      "○ 2010 September 29 Wednesday   = 2010-09-29 [2010-09-29]\n",
      "× 2046 January 31 Wednesday     = 2046-02-01 [2046-01-31]\n",
      "Score: 32 / 100\tAccuracy: 0.32\n",
      "Saved: temp.state.pkl\n",
      "Change to cpu.\n",
      "Loaded: temp.state.pkl\n"
     ]
    },
    {
     "name": "stderr",
     "output_type": "stream",
     "text": [
      "  0%|                                                                                                                       | 1/50000 [00:00<2:04:01,  6.72it/s]"
     ]
    },
    {
     "name": "stdout",
     "output_type": "stream",
     "text": [
      "Saved: figure.png\n",
      "Change to gpu.\n"
     ]
    },
    {
     "name": "stderr",
     "output_type": "stream",
     "text": [
      "\n"
     ]
    }
   ],
   "source": [
    "program = Program3()\n",
    "if __name__ == '__main__':\n",
    "    program()"
   ]
  },
  {
   "cell_type": "code",
   "execution_count": 11,
   "metadata": {},
   "outputs": [
    {
     "data": {
      "image/png": "[encoded data removed]",
      "text/plain": [
       "<Figure size 640x480 with 1 Axes>"
      ]
     },
     "metadata": {},
     "output_type": "display_data"
    },
    {
     "data": {
      "image/png": "[encoded data removed]",
      "text/plain": [
       "<Figure size 1280x960 with 1 Axes>"
      ]
     },
     "metadata": {},
     "output_type": "display_data"
    }
   ],
   "source": [
    "%matplotlib inline\n",
    "import matplotlib.pyplot as plt\n",
    "from PIL import Image\n",
    "\n",
    "plt.plot(program.losses, label='loss')\n",
    "plt.legend()\n",
    "plt.show()\n",
    "\n",
    "img = Image.open('figure.png')\n",
    "fig = plt.figure(dpi=200)\n",
    "ax = fig.add_subplot(1, 1, 1) # (row, col, num)\n",
    "ax.set_xticks([])\n",
    "ax.set_yticks([])\n",
    "plt.imshow(img)\n",
    "plt.show()"
   ]
  }
 ],
 "metadata": {
  "kernelspec": {
   "display_name": "Python 3 (ipykernel)",
   "language": "python",
   "name": "python3"
  },
  "language_info": {
   "codemirror_mode": {
    "name": "ipython",
    "version": 3
   },
   "file_extension": ".py",
   "mimetype": "text/x-python",
   "name": "python",
   "nbconvert_exporter": "python",
   "pygments_lexer": "ipython3",
   "version": "3.9.15"
  }
 },
 "nbformat": 4,
 "nbformat_minor": 4
}
