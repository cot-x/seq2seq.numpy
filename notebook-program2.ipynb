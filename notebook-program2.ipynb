{
 "cells": [
  {
   "cell_type": "code",
   "execution_count": 1,
   "metadata": {},
   "outputs": [],
   "source": [
    "## for comet\n",
    "#from comet_ml import Experiment\n",
    "\n",
    "import numpy\n",
    "from tqdm import tqdm\n",
    "from collections import OrderedDict\n",
    "from dataset import ptb\n",
    "import sys\n",
    "import os\n",
    "import pickle\n",
    "import random\n",
    "import datetime\n",
    "\n",
    "import matplotlib\n",
    "matplotlib.use('Agg')\n",
    "import matplotlib.pyplot as plt"
   ]
  },
  {
   "cell_type": "code",
   "execution_count": 2,
   "metadata": {},
   "outputs": [
    {
     "name": "stdout",
     "output_type": "stream",
     "text": [
      "Use gpu.\n"
     ]
    }
   ],
   "source": [
    "#device = 'cpu'\n",
    "device = 'gpu'\n",
    "\n",
    "np = numpy\n",
    "if device == 'gpu':\n",
    "    import cupy\n",
    "    import cupyx\n",
    "    np = cupy\n",
    "print(f'Use {device}.')"
   ]
  },
  {
   "cell_type": "code",
   "execution_count": 3,
   "metadata": {},
   "outputs": [],
   "source": [
    "def sigmoid(x):\n",
    "    return 1 / (1 + np.exp(-x))\n",
    "\n",
    "def softmax(x, ndim=-1):\n",
    "    x = x.astype('float64')\n",
    "    if x.ndim == -1:\n",
    "        ndim = len(x.shape) - 1\n",
    "    c = x.max()\n",
    "    exp_x = np.exp(x - c)\n",
    "    sum_exp_x = np.sum(exp_x, axis=ndim)\n",
    "    out = (exp_x.T / sum_exp_x).T\n",
    "    return out.astype('f')\n",
    "\n",
    "def cross_entropy_error(y, t, onehot=False):\n",
    "    if y.ndim == 1:\n",
    "        t = t.reshape(1, t.size)\n",
    "        y = y.reshape(1, y.size)\n",
    "    batch_size = y.shape[0]\n",
    "    if not onehot:\n",
    "        out = -np.sum(np.log(y[np.arange(batch_size), t] + 1e-7)) / batch_size\n",
    "    else:\n",
    "        out = -np.sum(np.dot(t, np.log(y + 1e-7))) / batch_size\n",
    "    return out\n",
    "\n",
    "def numerical_diff(f, x, i):\n",
    "    h = 1e-4\n",
    "    h_vec = np.zeros_like(x)\n",
    "    h_vec[i] = h\n",
    "    return (f(x + h_vec) - f(x - h_vec)) / (2*h)\n",
    "\n",
    "def numerical_diff2(f, x, i, j):\n",
    "    h = 1e-4\n",
    "    h_vec = np.zeros_like(x)\n",
    "    h_vec[i, j] = h\n",
    "    return (f(x + h_vec) - f(x - h_vec)) / (2*h)\n",
    "\n",
    "def numerical_gradient(f, x):\n",
    "    grad = np.zeros_like(x).astype(np.float128)\n",
    "    n, m = x.shape\n",
    "    for i in range(n):\n",
    "        for j in range(m):\n",
    "            grad[i, j] = numerical_diff2(f, x, i, j)\n",
    "    return grad\n",
    "\n",
    "def clip_grads(grads, max_norm):\n",
    "    total_norm = 0\n",
    "    for grad in grads:\n",
    "        total_norm += np.sum(grad ** 2)\n",
    "    total_norm = np.sqrt(total_norm)\n",
    "    rate = max_norm / (total_norm + 1e-6)\n",
    "    if rate < 1:\n",
    "        for grad in grads:\n",
    "            grad *= rate\n",
    "\n",
    "def to_cpu(x):\n",
    "    if type(x) == numpy.ndarray:\n",
    "        return x\n",
    "    return cupy.asnumpy(x)\n",
    "\n",
    "def to_gpu(x):\n",
    "    if type(x) == cupy.ndarray:\n",
    "        return x\n",
    "    return cupy.array(x)\n",
    "\n",
    "def to_device(x, device=device):\n",
    "    if device == 'gpu':\n",
    "        return to_gpu(x)\n",
    "    else:\n",
    "        return to_cpu(x)"
   ]
  },
  {
   "cell_type": "code",
   "execution_count": 4,
   "metadata": {},
   "outputs": [],
   "source": [
    "class Adam:\n",
    "    def __init__(self, shape, alpha=0.001, beta1=0.9, beta2=0.999, epsilon=10**(-8)):\n",
    "        self.alpha = alpha\n",
    "        self.beta1 = beta1\n",
    "        self.beta2 = beta2\n",
    "        self.epsilon = epsilon\n",
    "        self.m = np.zeros(shape)\n",
    "        self.v = np.zeros(shape)\n",
    "        self.t = 0\n",
    "\n",
    "    def update(self, w, dw):\n",
    "        self.t += 1\n",
    "        self.m = (self.beta1 * self.m) + (1 - self.beta1) * dw\n",
    "        self.v = (self.beta2 * self.v) + (1 - self.beta2) * dw**2\n",
    "        mh = self.m / (1 - self.beta1 ** self.t)\n",
    "        vh = self.v / (1 - self.beta2 ** self.t)\n",
    "        w -= self.alpha * (mh / (np.sqrt(vh) + self.epsilon))\n",
    "\n",
    "class AdamContainer:\n",
    "    def __init__(self, layers, alpha=0.001, beta1=0.9, beta2=0.999, epsilon=10**(-8)):\n",
    "        self.params = []\n",
    "        for params in [layer.params for layer in layers]:\n",
    "            for param in params:\n",
    "                self.params.append(param)\n",
    "        self.grads = []\n",
    "        for grads in [layer.grads for layer in layers]:\n",
    "            for grad in grads:\n",
    "                self.grads.append(grad)\n",
    "        self.adams = [Adam(param.shape, alpha, beta1, beta2, epsilon) for param in self.params]\n",
    "    \n",
    "    def update(self):\n",
    "        for adam, param, grad in zip(self.adams, self.params, self.grads):\n",
    "            adam.update(param, grad)"
   ]
  },
  {
   "cell_type": "code",
   "execution_count": 5,
   "metadata": {
    "scrolled": true
   },
   "outputs": [],
   "source": [
    "class BaseLayer:\n",
    "    def __init__(self):\n",
    "        self.params = None\n",
    "        self.grads = None\n",
    "        \n",
    "    def to_cpu(self):\n",
    "        for param in self.params:\n",
    "            param = to_cpu(param)\n",
    "        for grad in self.grads:\n",
    "            grad = to_cpu(grad)\n",
    "            \n",
    "    def to_gpu(self):\n",
    "        for param in self.params:\n",
    "            param = to_gpu(param)\n",
    "        for grad in self.grads:\n",
    "            grad = to_gpu(grad)\n",
    "\n",
    "class Affine(BaseLayer):\n",
    "    def __init__(self, w, b):\n",
    "        self.params = [w, b]\n",
    "        self.grads = [np.zeros_like(w), np.zeros_like(b)]\n",
    "    \n",
    "    def forward(self, x):\n",
    "        w, b = self.params\n",
    "        self.x = x\n",
    "        return np.dot(x, w) + b\n",
    "    \n",
    "    def backward(self, dout):\n",
    "        w = self.params[0]\n",
    "        dx = np.dot(dout, w.T)\n",
    "        self.grads[0] = self.dw = np.dot(self.x.T, dout)\n",
    "        self.grads[1] = self.db = np.sum(dout, axis=0)\n",
    "        return dx\n",
    "\n",
    "class TimeAffine(BaseLayer):\n",
    "    def __init__(self, w, b):\n",
    "        self.params = [w, b]\n",
    "        self.grads = [np.zeros_like(w), np.zeros_like(b)]\n",
    "        self.layers = None\n",
    "        self.cache = None\n",
    "        \n",
    "    def forward(self, xs):\n",
    "        w, b = self.params\n",
    "        N, T, D = xs.shape\n",
    "        D, V = w.shape\n",
    "        \n",
    "        out = np.empty((N, T, V), dtype='f')\n",
    "        self.layers = []\n",
    "        \n",
    "        for t in range(T):\n",
    "            layer = Affine(w, b)\n",
    "            out[:,t,:] = layer.forward(xs[:,t,:])\n",
    "            self.layers.append(layer)\n",
    "        \n",
    "        self.cache = (N, T, D, V)\n",
    "        return out\n",
    "    \n",
    "    def backward(self, dout):\n",
    "        N, T, D, V = self.cache\n",
    "        \n",
    "        out = np.empty((N, T, D), dtype='f')\n",
    "        dw = np.empty((D, T, V), dtype='f')\n",
    "        db = np.empty((T, V), dtype='f')\n",
    "        for t in range(T):\n",
    "            layer = self.layers[t]\n",
    "            out[:,t,:] = layer.backward(dout[:,t,:])\n",
    "            dw[:,t,:] = layer.dw\n",
    "            db[t,:] = layer.db\n",
    "        self.grads[0] = self.dw = dw.sum(axis=1)\n",
    "        self.grads[1] = self.db = db.sum(axis=0)\n",
    "        \n",
    "        return out\n",
    "\n",
    "class ReLU(BaseLayer):\n",
    "    def __init__(self):\n",
    "        self.params = []\n",
    "        self.grads = []\n",
    "    \n",
    "    def forward(self, x):\n",
    "        self.mask = (x <= 0)\n",
    "        out = x.copy()\n",
    "        out[self.mask] = 0\n",
    "        return out\n",
    "    \n",
    "    def backward(self, dout):\n",
    "        dout[self.mask] = 0\n",
    "        return dout\n",
    "\n",
    "class Sigmoid(BaseLayer):\n",
    "    def __init__(self):\n",
    "        self.params = []\n",
    "        self.grads = []\n",
    "        \n",
    "    def forward(self, x):\n",
    "        self.out = sigmoid(x)\n",
    "        return self.out\n",
    "    \n",
    "    def backward(self, dout):\n",
    "        dx = dout * self.out * (1 - self.out)\n",
    "        return dx\n",
    "    \n",
    "class Softmax(BaseLayer):\n",
    "    def __init__(self):\n",
    "        self.params = []\n",
    "        self.grads = []\n",
    "        \n",
    "    def forward(self, x):\n",
    "        self.y = softmax(x)\n",
    "        return self.y\n",
    "    \n",
    "    def backward(self, dout):\n",
    "        dx = self.y * dout\n",
    "        sumdx = np.sum(dx, axis=1, keepdims=True)\n",
    "        dx -= self.y * sumdx\n",
    "        return dx\n",
    "\n",
    "class SoftmaxWithLoss(BaseLayer):\n",
    "    def __init__(self):\n",
    "        self.params = []\n",
    "        self.grads = []\n",
    "        \n",
    "    def forward(self, x, t):\n",
    "        self.t = t\n",
    "        self.y = softmax(x)\n",
    "        self.loss = cross_entropy_error(self.y, self.t)\n",
    "        return self.loss\n",
    "    \n",
    "    def backward(self, dout=1, onehot=False):\n",
    "        batch_size = self.t.shape[0]\n",
    "        if not onehot:\n",
    "            dx = self.y.copy()\n",
    "            dx[np.arange(batch_size), self.t] -= 1\n",
    "            dx *= dout\n",
    "            dx = dx / batch_size\n",
    "        else:\n",
    "            dx = (self.y - self.t) / batch_size\n",
    "        return dx\n",
    "\n",
    "class TimeSoftmaxWithLoss(BaseLayer):\n",
    "    def __init__(self):\n",
    "        self.params = []\n",
    "        self.grads = []\n",
    "        self.layers = None\n",
    "        self.cache = None\n",
    "        \n",
    "    def forward(self, xs, ts):\n",
    "        N, T, V = xs.shape\n",
    "        \n",
    "        # if ts is one-hot vector\n",
    "        if ts.ndim == 3:\n",
    "            ts = ts.argmax(axis=2).reshape(N, T)\n",
    "        \n",
    "        ys = np.empty(T, dtype='f')\n",
    "        self.layers = []\n",
    "        \n",
    "        for t in range(T):\n",
    "            layer = SoftmaxWithLoss()\n",
    "            ys[t] = layer.forward(xs[:,t,:], ts[:,t])\n",
    "            self.layers.append(layer)\n",
    "            \n",
    "        loss = ys.sum() / T\n",
    "        \n",
    "        self.cache = (N, T, V)\n",
    "        return loss\n",
    "    \n",
    "    def backward(self):\n",
    "        N, T, V = self.cache\n",
    "        dx = np.empty((N, T, V), dtype='f')\n",
    "        for t in range(T):\n",
    "            layer = self.layers[t]\n",
    "            dx[:,t,:] = layer.backward()\n",
    "        self.dx = dx / T\n",
    "        \n",
    "        return self.dx\n",
    "\n",
    "class Dropout(BaseLayer):\n",
    "    def __init__(self, ratio=0.5):\n",
    "        self.params = []\n",
    "        self.grads = []\n",
    "        self.ratio = ratio\n",
    "        self.mask = None\n",
    "        self.train = True\n",
    "\n",
    "    def forward(self, x):\n",
    "        if self.train:\n",
    "            self.mask = np.random.rand(*x.shape) > self.ratio\n",
    "            self.mask = self.mask.astype('f') / (1.0 - self.ratio)\n",
    "            return x * self.mask\n",
    "        else:\n",
    "            return x\n",
    "\n",
    "    def backward(self, dout):\n",
    "        return dout * self.mask\n",
    "\n",
    "class Embedding(BaseLayer):\n",
    "    def __init__(self, w):\n",
    "        self.params = [w]\n",
    "        self.grads = [np.zeros_like(w)]\n",
    "        self.idx = None\n",
    "        \n",
    "    def forward(self, idx):\n",
    "        w = self.params[0]\n",
    "        self.idx = idx\n",
    "        return w[idx]\n",
    "    \n",
    "    def backward(self, dout):\n",
    "        if device == 'gpu':\n",
    "            add_at = cupyx.scatter_add\n",
    "        else:\n",
    "            add_at = np.add.at\n",
    "            \n",
    "        dw = self.grads[0]\n",
    "        dw[...] = 0\n",
    "        add_at(dw, self.idx, dout)\n",
    "        self.grads[0] = self.dw = dw\n",
    "        return None\n",
    "\n",
    "class TimeEmbedding(BaseLayer):\n",
    "    def __init__(self, w):\n",
    "        self.params = [w]\n",
    "        self.grads = [np.zeros_like(w)]\n",
    "        self.layers = None\n",
    "        \n",
    "    def forward(self, xs):\n",
    "        w = self.params[0]\n",
    "        N, T = xs.shape\n",
    "        V, D = w.shape\n",
    "        \n",
    "        out = np.empty((N, T, D), dtype='f')\n",
    "        self.layers = []\n",
    "        \n",
    "        for t in range(T):\n",
    "            layer = Embedding(w)\n",
    "            out[:,t,:] = layer.forward(xs[:,t])\n",
    "            self.layers.append(layer)\n",
    "            \n",
    "        return out\n",
    "    \n",
    "    def backward(self, dout):\n",
    "        N, T, D = dout.shape\n",
    "        \n",
    "        dw = 0\n",
    "        for t in range(T):\n",
    "            layer = self.layers[t]\n",
    "            layer.backward(dout[:,t,:])\n",
    "            dw += layer.dw\n",
    "        self.grads[0] = self.dw = dw\n",
    "        \n",
    "        return None\n",
    "\n",
    "class RNN(BaseLayer):\n",
    "    def __init__(self, wx, wh, b):\n",
    "        self.params = [wx, wh, b]\n",
    "        self.grads = [np.zeros_like(wx), np.zeros_like(wh), np.zeros_like(b)]\n",
    "    \n",
    "    def forward(self, x, h_prev):\n",
    "        wx, wh, b = self.params\n",
    "        t = np.dot(h_prev, wh) + np.dot(x, wx) + b\n",
    "        h_next = np.tanh(t)\n",
    "        self.cache = (x, h_prev, h_next)\n",
    "        return h_next\n",
    "    \n",
    "    def backward(self, dh_next):\n",
    "        wx, wh, b = self.params\n",
    "        x, h_prev, h_next = self.cache\n",
    "        \n",
    "        dt = dh_next * (1 - dh_next ** 2)\n",
    "        db = np.sum(dt, axis=0)\n",
    "        dwh = np.dot(h_prev.T, dt)\n",
    "        dh_prev = np.dot(dt, wh.T)\n",
    "        dwx = np.dot(x.T, dt)\n",
    "        dx = np.dot(dt, wx.T)\n",
    "        self.grads[0][...] = self.dwx = dwx\n",
    "        self.grads[1][...] = self.dwh = dwh\n",
    "        self.grads[2][...] = self.db = db\n",
    "        \n",
    "        return dx, dh_prev\n",
    "\n",
    "class TimeRNN(BaseLayer):\n",
    "    def __init__(self, wx, wh, b, stateful=False):\n",
    "        self.params = [wx, wh, b]\n",
    "        self.grads = [np.zeros_like(wx), np.zeros_like(wh), np.zeros_like(b)]\n",
    "        self.layers = None\n",
    "        self.h, self.dh = None, None\n",
    "        self.stateful = stateful\n",
    "        \n",
    "    def set_state(self, h):\n",
    "        self.h = h\n",
    "        \n",
    "    def reset_state(self):\n",
    "        self.h = None\n",
    "        \n",
    "    def forward(self, xs):\n",
    "        wx, wh, b = self.params\n",
    "        N, T, D = xs.shape\n",
    "        D, H = wx.shape\n",
    "        \n",
    "        self.layers = []\n",
    "        hs = np.empty((N, T, H), dtype='f')\n",
    "        if not self.stateful or self.h is None:\n",
    "            self.h = np.zeros((N, H), dtype='f')\n",
    "        \n",
    "        for t in range(T):\n",
    "            layer = RNN(*self.params)\n",
    "            self.h = layer.forward(xs[:,t,:], self.h)\n",
    "            hs[:,t,:] = self.h\n",
    "            self.layers.append(layer)\n",
    "        \n",
    "        return hs\n",
    "    \n",
    "    def backward(self, dhs):\n",
    "        wx, wh, b  = self.params\n",
    "        N, T, H = dhs.shape\n",
    "        D, H = wx.shape\n",
    "        \n",
    "        dxs = np.empty((N, T, D), dtype='f')\n",
    "        dh = 0\n",
    "        grads = [0, 0, 0]\n",
    "        for t in reversed(range(T)):\n",
    "            layer = self.layers[t]\n",
    "            dx, dh = layer.backward(dhs[:,t,:] + dh)\n",
    "            dxs[:,t,:] = dx\n",
    "            for i, grad in enumerate(layer.grads):\n",
    "                grads[i] += grad\n",
    "        \n",
    "        for i, grad in enumerate(grads):\n",
    "            self.grads[i][...] = grad\n",
    "        self.dwx = self.grads[0]\n",
    "        self.dwh = self.grads[1]\n",
    "        self.db = self.grads[2]\n",
    "        self.dh = dh\n",
    "        \n",
    "        return dxs\n",
    "\n",
    "class LSTM(BaseLayer):\n",
    "    def __init__(self, wx, wh, b):\n",
    "        self.params = [wx, wh, b]\n",
    "        self.grads = [np.zeros_like(wx), np.zeros_like(wh), np.zeros_like(b)]\n",
    "        self.cache = None\n",
    "    \n",
    "    def forward(self, x, h_prev, c_prev):\n",
    "        wx, wh, b = self.params\n",
    "        N, H = h_prev.shape\n",
    "        \n",
    "        A = np.dot(h_prev, wh) + np.dot(x, wx) + b\n",
    "        \n",
    "        f = A[:, :H]\n",
    "        g = A[:, H:2*H]\n",
    "        i = A[:, 2*H:3*H]\n",
    "        o = A[:, 3*H:]\n",
    "        \n",
    "        f = sigmoid(f)\n",
    "        g = np.tanh(g)\n",
    "        i = sigmoid(i)\n",
    "        o = sigmoid(o)\n",
    "        \n",
    "        c_next = f * c_prev + g * i\n",
    "        h_next = o * np.tanh(c_next)\n",
    "        \n",
    "        self.cache = (x, h_prev, c_prev,i, f, g, o, c_next)\n",
    "        return h_next, c_next\n",
    "    \n",
    "    def backward(self, dh_next, dc_next):\n",
    "        wx, wh, b = self.params\n",
    "        x, h_prev, c_prev, i, f, g, o, c_next = self.cache\n",
    "        \n",
    "        tanh_c_next = np.tanh(c_next)\n",
    "        ds = dc_next + (dh_next * o) * (1 - tanh_c_next ** 2)\n",
    "        \n",
    "        dc_prev = ds * f\n",
    "        di = ds * g\n",
    "        df = ds * c_prev\n",
    "        do = dh_next * tanh_c_next\n",
    "        dg = ds * i\n",
    "        \n",
    "        di *= i * (1 - i)\n",
    "        df *= f * (1 - f)\n",
    "        do *= o * (1 - o)\n",
    "        dg *= 1 - g ** 2\n",
    "        \n",
    "        dA = np.hstack((df, dg, di, do))\n",
    "        \n",
    "        dwh = np.dot(h_prev.T, dA)\n",
    "        dh_prev = np.dot(dA, wh.T)\n",
    "        dwx = np.dot(x.T, dA)\n",
    "        dx = np.dot(dA, wx.T)\n",
    "        db = dA.sum(axis=0)\n",
    "        \n",
    "        self.grads[0][...] = self.dwx = dwx\n",
    "        self.grads[1][...] = self.dwh = dwh\n",
    "        self.grads[2][...] = self.db = db\n",
    "        \n",
    "        return dx, dh_prev, dc_prev\n",
    "\n",
    "class TimeLSTM(BaseLayer):\n",
    "    def __init__(self, wx, wh, b, stateful=False):\n",
    "        self.params = [wx, wh, b]\n",
    "        self.grads = [np.zeros_like(wx), np.zeros_like(wh), np.zeros_like(b)]\n",
    "        self.layers = None\n",
    "        self.h, self.dh, self.c = None, None, None\n",
    "        self.stateful = stateful\n",
    "        \n",
    "    def set_state(self, h, c=None):\n",
    "        self.h, self.c = h, c\n",
    "        \n",
    "    def reset_state(self):\n",
    "        self.h, self.c = None, None\n",
    "        \n",
    "    def forward(self, xs):\n",
    "        wx, wh, b = self.params\n",
    "        N, T, D = xs.shape\n",
    "        H = wh.shape[0]\n",
    "        \n",
    "        self.layers = []\n",
    "        hs = np.empty((N, T, H), dtype='f')\n",
    "        if not self.stateful or self.h is None:\n",
    "            self.h = np.zeros((N, H), dtype='f')\n",
    "        if not self.stateful or self.c is None:\n",
    "            self.c = np.zeros((N, H), dtype='f')\n",
    "        \n",
    "        for t in range(T):\n",
    "            layer = LSTM(*self.params)\n",
    "            self.h, self.c = layer.forward(xs[:,t,:], self.h, self.c)\n",
    "            hs[:,t,:] = self.h\n",
    "            self.layers.append(layer)\n",
    "        \n",
    "        return hs\n",
    "    \n",
    "    def backward(self, dhs):\n",
    "        wx, wh, b  = self.params\n",
    "        N, T, H = dhs.shape\n",
    "        D = wx.shape[0]\n",
    "        \n",
    "        dxs = np.empty((N, T, D), dtype='f')\n",
    "        dh, dc = 0, 0\n",
    "        grads = [0, 0, 0]\n",
    "        for t in reversed(range(T)):\n",
    "            layer = self.layers[t]\n",
    "            dx, dh, dc = layer.backward(dhs[:,t,:] + dh, dc)\n",
    "            dxs[:,t,:] = dx\n",
    "            for i, grad in enumerate(layer.grads):\n",
    "                grads[i] += grad\n",
    "        \n",
    "        for i, grad in enumerate(grads):\n",
    "            self.grads[i][...] = grad\n",
    "        self.dwx = self.grads[0]\n",
    "        self.dwh = self.grads[1]\n",
    "        self.db = self.grads[2]\n",
    "        self.dh = dh\n",
    "        \n",
    "        return dxs\n",
    "\n",
    "class BaseNetwork:\n",
    "    def __init__(self):\n",
    "        self.layers = None\n",
    "        self.lastLayer = None\n",
    "        self.adam = None\n",
    "        \n",
    "    def train(self, x, t):\n",
    "        # forward\n",
    "        loss = self.loss(x, t)\n",
    "        \n",
    "        # backward\n",
    "        dout = self.lastLayer.backward()\n",
    "        layers = list(self.layers.values())\n",
    "        layers.reverse()\n",
    "        for layer in layers:\n",
    "            dout = layer.backward(dout)\n",
    "        \n",
    "        self.update()\n",
    "            \n",
    "        return loss\n",
    "    \n",
    "    def update(self):\n",
    "        for grads in [layer.grads for layer in self.layers.values()]:\n",
    "            clip_grads(grads, self.max_grad)\n",
    "        self.adam.update()\n",
    "    \n",
    "    def save(self, state_file_name = 'network.state.pkl'):\n",
    "        params = self.adam.params.copy()\n",
    "        for i, param in enumerate(params):\n",
    "            params[i] = to_cpu(params[i])\n",
    "            \n",
    "        with open(state_file_name, 'wb') as f:\n",
    "            pickle.dump(params, f)\n",
    "            print(f'Saved: {state_file_name}')\n",
    "            \n",
    "    def load(self, state_file_name = 'network.state.pkl'):\n",
    "        if os.path.exists(state_file_name):\n",
    "            with open(state_file_name, 'rb') as f:\n",
    "                params = pickle.load(f)\n",
    "                for i, param in enumerate(params):\n",
    "                    self.adam.params[i][:] = to_device(param, device)\n",
    "                print(f'Loaded: {state_file_name}')"
   ]
  },
  {
   "cell_type": "code",
   "execution_count": 6,
   "metadata": {},
   "outputs": [],
   "source": [
    "class Encoder(BaseLayer):\n",
    "    def __init__(self, vocab_size, wordvec_size, hidden_size):\n",
    "        V, D, H = vocab_size, wordvec_size, hidden_size\n",
    "        rn = np.random.randn\n",
    "        \n",
    "        embed_w = (rn(V, D) / 100).astype('f')\n",
    "        lstm_wx = (rn(D, 4 * H) / np.sqrt(D)).astype('f')\n",
    "        lstm_wh = (rn(H, 4 * H) / np.sqrt(H)).astype('f')\n",
    "        lstm_b = np.zeros(4 * H).astype('f')\n",
    "        \n",
    "        self.layers = OrderedDict()\n",
    "        self.layers['Embedding'] = TimeEmbedding(embed_w)\n",
    "        self.layers['LSTM'] = TimeLSTM(lstm_wx, lstm_wh, lstm_b, stateful=False)\n",
    "        \n",
    "        self.params = []\n",
    "        for params in [layer.params for layer in self.layers.values()]:\n",
    "            for param in params:\n",
    "                self.params.append(param)\n",
    "        self.grads = []\n",
    "        for grads in [layer.grads for layer in self.layers.values()]:\n",
    "            for grad in grads:\n",
    "                self.grads.append(grad)\n",
    "        self.hs = None\n",
    "        \n",
    "    def forward(self, xs):\n",
    "        for layer in self.layers.values():\n",
    "            xs = layer.forward(xs)\n",
    "        self.hs = xs\n",
    "        return xs[:,-1,:]\n",
    "    \n",
    "    def backward(self, dh):\n",
    "        dhs = np.zeros_like(self.hs)\n",
    "        dhs[:,-1,:] = dh\n",
    "        layers = list(self.layers.values())\n",
    "        layers.reverse()\n",
    "        for layer in layers:\n",
    "            dhs = layer.backward(dhs)\n",
    "        return dhs"
   ]
  },
  {
   "cell_type": "code",
   "execution_count": 7,
   "metadata": {},
   "outputs": [],
   "source": [
    "class Decoder(BaseLayer):\n",
    "    def __init__(self, vocab_size, wordvec_size, hidden_size):\n",
    "        V, D, H = vocab_size, wordvec_size, hidden_size\n",
    "        rn = np.random.randn\n",
    "        \n",
    "        embed_w = (rn(V, D) / 100).astype('f')\n",
    "        lstm_wx = (rn(D, 4 * H) / np.sqrt(D)).astype('f')\n",
    "        lstm_wh = (rn(H, 4 * H) / np.sqrt(H)).astype('f')\n",
    "        lstm_b = np.zeros(4 * H).astype('f')\n",
    "        \n",
    "        affine_w = (rn(H, V) / np.sqrt(H)).astype('f')\n",
    "        affine_b = np.zeros(V).astype('f')\n",
    "        \n",
    "        self.layers = OrderedDict()\n",
    "        self.layers['Embedding'] = TimeEmbedding(embed_w)\n",
    "        self.layers['LSTM'] = TimeLSTM(lstm_wx, lstm_wh, lstm_b, stateful=True)\n",
    "        self.layers['Affine'] = TimeAffine(affine_w, affine_b)\n",
    "        \n",
    "        self.params = []\n",
    "        for params in [layer.params for layer in self.layers.values()]:\n",
    "            for param in params:\n",
    "                self.params.append(param)\n",
    "        self.grads = []\n",
    "        for grads in [layer.grads for layer in self.layers.values()]:\n",
    "            for grad in grads:\n",
    "                self.grads.append(grad)\n",
    "        \n",
    "    def forward(self, xs, h):\n",
    "        self.layers['LSTM'].set_state(h)\n",
    "        for layer in self.layers.values():\n",
    "            xs = layer.forward(xs)\n",
    "        return xs\n",
    "    \n",
    "    def backward(self, dh):\n",
    "        layers = list(self.layers.values())\n",
    "        layers.reverse()\n",
    "        for layer in layers:\n",
    "            dh = layer.backward(dh)\n",
    "        return self.layers['LSTM'].dh\n",
    "    \n",
    "    def generate(self, h, start_id, sample_size):\n",
    "        sampled = []\n",
    "        sample_id = start_id\n",
    "        self.layers['LSTM'].set_state(h)\n",
    "\n",
    "        for _ in range(sample_size):\n",
    "            x = np.array(sample_id).reshape(1,1)\n",
    "            for layer in self.layers.values():\n",
    "                x = layer.forward(x)\n",
    "            sample_id = np.argmax(x.flatten())\n",
    "            sampled.append(int(sample_id))\n",
    "\n",
    "        return np.array(sampled)\n",
    "\n",
    "class PeekyDecoder(BaseLayer):\n",
    "    def __init__(self, vocab_size, wordvec_size, hidden_size):\n",
    "        V, D, H = vocab_size, wordvec_size, hidden_size\n",
    "        rn = np.random.randn\n",
    "        \n",
    "        embed_w = (rn(V, D) / 100).astype('f')\n",
    "        lstm_wx = (rn(H + D, 4 * H) / np.sqrt(D)).astype('f')\n",
    "        lstm_wh = (rn(H, 4 * H) / np.sqrt(H)).astype('f')\n",
    "        lstm_b = np.zeros(4 * H).astype('f')\n",
    "        \n",
    "        affine_w = (rn(H + H, V) / np.sqrt(H)).astype('f')\n",
    "        affine_b = np.zeros(V).astype('f')\n",
    "        \n",
    "        self.layers = OrderedDict()\n",
    "        self.layers['Embedding'] = TimeEmbedding(embed_w)\n",
    "        self.layers['LSTM'] = TimeLSTM(lstm_wx, lstm_wh, lstm_b, stateful=True)\n",
    "        self.layers['Affine'] = TimeAffine(affine_w, affine_b)\n",
    "        \n",
    "        self.params = []\n",
    "        for params in [layer.params for layer in self.layers.values()]:\n",
    "            for param in params:\n",
    "                self.params.append(param)\n",
    "        self.grads = []\n",
    "        for grads in [layer.grads for layer in self.layers.values()]:\n",
    "            for grad in grads:\n",
    "                self.grads.append(grad)\n",
    "        self.cache = None\n",
    "        \n",
    "    def forward(self, xs, h):\n",
    "        N, T = xs.shape\n",
    "        N, H = h.shape\n",
    "        \n",
    "        self.layers['LSTM'].set_state(h)\n",
    "        \n",
    "        out = self.layers['Embedding'].forward(xs)\n",
    "        hs = np.repeat(h, T, axis=0).reshape(N, T, H)\n",
    "        out = np.concatenate((hs, out), axis=2)\n",
    "        \n",
    "        out = self.layers['LSTM'].forward(out)\n",
    "        out = np.concatenate((hs, out), axis=2)\n",
    "        \n",
    "        score = self.layers['Affine'].forward(out)\n",
    "        self.cache = H\n",
    "        return score\n",
    "    \n",
    "    def backward(self, dh):\n",
    "        H = self.cache\n",
    "        \n",
    "        dout = self.layers['Affine'].backward(dh)\n",
    "        dout, dhs0 = dout[:, :, H:], dout[:, :, :H]\n",
    "        \n",
    "        dout = self.layers['LSTM'].backward(dout)\n",
    "        dout, dhs1 = dout[:, :, H:], dout[:, :, :H]\n",
    "        \n",
    "        self.layers['Embedding'].backward(dout)\n",
    "\n",
    "        dhs = dhs0 + dhs1\n",
    "        dh = self.layers['LSTM'].dh + np.sum(dhs, axis=1)\n",
    "        \n",
    "        return dh\n",
    "    \n",
    "    def generate(self, h, start_id, sample_size):\n",
    "        sampled = []\n",
    "        sample_id = start_id\n",
    "        self.layers['LSTM'].set_state(h)\n",
    "\n",
    "        H = h.shape[1]\n",
    "        peeky_h = h.reshape(1, 1, H)\n",
    "        for _ in range(sample_size):\n",
    "            x = np.array(sample_id).reshape(1,1)\n",
    "            out = self.layers['Embedding'].forward(x)\n",
    "            out = np.concatenate((peeky_h, out), axis=2)\n",
    "            out = self.layers['LSTM'].forward(out)\n",
    "            out = np.concatenate((peeky_h, out), axis=2)\n",
    "            score = self.layers['Affine'].forward(out)\n",
    "            sample_id = np.argmax(score.flatten())\n",
    "            sampled.append(int(sample_id))\n",
    "\n",
    "        return np.array(sampled)\n",
    "\n",
    "class Seq2SeqNetwork(BaseNetwork):\n",
    "    def __init__(self, vocab_size, wordvec_size, hidden_size, max_grad=5.0):\n",
    "        V, D, H = vocab_size, wordvec_size, hidden_size\n",
    "        self.max_grad = max_grad\n",
    "        self.layers = OrderedDict()\n",
    "        self.layers['Encoder'] = Encoder(V, D, H)\n",
    "        self.layers['Decoder'] = PeekyDecoder(V, D, H)\n",
    "        self.lastLayer = TimeSoftmaxWithLoss()\n",
    "        self.adam = AdamContainer(list(self.layers.values()))\n",
    "        \n",
    "    def generate(self, xs, start_id, sample_size):\n",
    "        h = self.layers['Encoder'].forward(xs)\n",
    "        sampled = self.layers['Decoder'].generate(h, start_id, sample_size)\n",
    "        return sampled\n",
    "        \n",
    "    def loss(self, xs, ts):\n",
    "        decoder_xs, decoder_ts = ts[:, :-1], ts[:, 1:]\n",
    "        h = self.layers['Encoder'].forward(xs)\n",
    "        score = self.layers['Decoder'].forward(decoder_xs, h)\n",
    "        loss = self.lastLayer.forward(score, decoder_ts)\n",
    "        return loss"
   ]
  },
  {
   "cell_type": "code",
   "execution_count": 8,
   "metadata": {},
   "outputs": [],
   "source": [
    "def generate_question():\n",
    "    num1 = random.randint(0, 999)\n",
    "    num2 = random.randint(0, 999)\n",
    "    question = str(num1) + '+' + str(num2)\n",
    "    correct = '=' + str(num1 + num2)\n",
    "    question = question.ljust(7)\n",
    "    correct = correct.ljust(5+1)\n",
    "    return question, correct\n",
    "\n",
    "def make_question_data(data_size, char_to_id):\n",
    "    questions = []\n",
    "    corrects = []\n",
    "    for _ in range(data_size):\n",
    "        q, c = generate_question()\n",
    "        q = [char_to_id[s] for s in q]\n",
    "        c = [char_to_id[s] for s in c]\n",
    "        questions.append(q)\n",
    "        corrects.append(c)\n",
    "    questions = np.array(questions)\n",
    "    corrects = np.array(corrects)\n",
    "    return questions[:, ::-1], corrects"
   ]
  },
  {
   "cell_type": "code",
   "execution_count": 9,
   "metadata": {},
   "outputs": [],
   "source": [
    "class Program2:\n",
    "    def __init__(self):\n",
    "        self.char_to_id = {'0':0, '1':1, '2':2, '3':3, '4':4, '5':5, '6':6, '7':7, '8':8, '9':9, '+':10, '=':11, ' ':12}\n",
    "        self.id_to_char = dict(zip(self.char_to_id.values(), self.char_to_id.keys()))\n",
    "        self.params = OrderedDict({'vocab_size': len(self.char_to_id), 'wordvec_size': 16, 'hidden_size': 256,\n",
    "                                   'max_grad': 5.0, 'max_epoch': 100, 'sample_size': 50000, 'batch_size': 128})\n",
    "        self.losses = []\n",
    "        \n",
    "    def fit(self, x, t, batch_size):\n",
    "        data_size = len(x)\n",
    "        max_iters = data_size // batch_size\n",
    "        \n",
    "        for iters in tqdm(range(max_iters)):\n",
    "            batch_x = x[iters*batch_size:(iters+1)*batch_size]\n",
    "            batch_t = t[iters*batch_size:(iters+1)*batch_size]\n",
    "\n",
    "            loss = self.net.train(batch_x, batch_t)\n",
    "            self.losses.append(loss.tolist())\n",
    "            \n",
    "        return loss\n",
    "        \n",
    "    def __call__(self):\n",
    "        ## for comet\n",
    "        #experiment = Experiment()\n",
    "        #experiment.log_parameters(self.params)\n",
    "        \n",
    "        for key in self.params.keys() :\n",
    "            print(f'{key}: {self.params[key]}')\n",
    "        vocab_size, wordvec_size, hidden_size, max_grad, max_epoch, sample_size, batch_size = self.params.values()\n",
    "\n",
    "        self.net = Seq2SeqNetwork(vocab_size, wordvec_size, hidden_size, max_grad)\n",
    "        self.net.load()\n",
    "        \n",
    "        if sample_size != -1:\n",
    "            questions, corrects = make_question_data(sample_size, self.char_to_id)\n",
    "            \n",
    "        for epoch in range(max_epoch):\n",
    "            if sample_size == -1:\n",
    "                questions, corrects = make_question_data(batch_size, self.char_to_id)\n",
    "            loss = self.fit(questions, corrects, batch_size)\n",
    "            \n",
    "            correct_num = 0\n",
    "            test_num = 3\n",
    "            for _ in range(test_num):\n",
    "                test_q, test_c = make_question_data(1, self.char_to_id)\n",
    "                answer = self.net.generate(test_q, start_id=self.char_to_id['='], sample_size=4)\n",
    "                question = ''.join([self.id_to_char[x] for x in to_cpu(test_q[0, ::-1])])\n",
    "                correct = ''.join([self.id_to_char[x] for x in to_cpu(test_c[0, 1:-1])])\n",
    "                answer = ''.join([self.id_to_char[x] for x in to_cpu(answer)])\n",
    "                is_correct = True if answer == correct else False\n",
    "                correct_num += 1 if is_correct else 0\n",
    "                print(f'{\"○\" if is_correct else \"×\"} {question} = {answer}[{correct}]')\n",
    "            print(f'[{epoch}] Corrects {correct_num} / {test_num}\\tloss: {loss}')\n",
    "            \n",
    "            ## for comet\n",
    "            #experiment.log_metric('loss', loss, step=epoch)\n",
    "        \n",
    "        self.net.save()\n",
    "        self.exam()\n",
    "\n",
    "        ## for comet\n",
    "        #experiment.end()\n",
    "    \n",
    "    def exam(self, question_num=100):\n",
    "        correct_num = 0\n",
    "        questions, corrects = make_question_data(question_num, self.char_to_id)\n",
    "        for i in range(question_num):\n",
    "            answer = self.net.generate(np.expand_dims(questions[i], axis=0), start_id=self.char_to_id['='], sample_size=4)\n",
    "            question = ''.join([self.id_to_char[x] for x in to_cpu(questions[i, ::-1])])\n",
    "            correct = ''.join([self.id_to_char[x] for x in to_cpu(corrects[i, 1:-1])])\n",
    "            answer = ''.join([self.id_to_char[x] for x in to_cpu(answer)])\n",
    "            is_correct = True if answer == correct else False\n",
    "            correct_num += 1 if is_correct else 0\n",
    "            print(f'{\"○\" if is_correct else \"×\"} {question} = {answer}[{correct}]')\n",
    "        print(f'Score: {correct_num} / {question_num}\\tAccuracy: {(correct_num / question_num)}')"
   ]
  },
  {
   "cell_type": "code",
   "execution_count": 10,
   "metadata": {},
   "outputs": [
    {
     "name": "stdout",
     "output_type": "stream",
     "text": [
      "vocab_size: 13\n",
      "wordvec_size: 16\n",
      "hidden_size: 256\n",
      "max_grad: 5.0\n",
      "max_epoch: 100\n",
      "sample_size: 50000\n",
      "batch_size: 128\n"
     ]
    },
    {
     "name": "stderr",
     "output_type": "stream",
     "text": [
      "100%|█████████████████████████████████████████████████████████████████████████████████████████████████████████████████████████| 390/390 [00:08<00:00, 45.11it/s]\n"
     ]
    },
    {
     "name": "stdout",
     "output_type": "stream",
     "text": [
      "× 497+701 = 1022[1198]\n",
      "× 574+905 = 1112[1479]\n",
      "× 429+20  = 102 [449 ]\n",
      "[0] Corrects 0 / 3\tloss: 1.4774787425994873\n"
     ]
    },
    {
     "name": "stderr",
     "output_type": "stream",
     "text": [
      "100%|█████████████████████████████████████████████████████████████████████████████████████████████████████████████████████████| 390/390 [00:08<00:00, 44.89it/s]\n"
     ]
    },
    {
     "name": "stdout",
     "output_type": "stream",
     "text": [
      "× 487+890 = 1222[1377]\n",
      "× 481+589 = 1022[1070]\n",
      "× 213+574 = 1002[787 ]\n",
      "[1] Corrects 0 / 3\tloss: 1.4219539165496826\n"
     ]
    },
    {
     "name": "stderr",
     "output_type": "stream",
     "text": [
      "100%|█████████████████████████████████████████████████████████████████████████████████████████████████████████████████████████| 390/390 [00:08<00:00, 43.75it/s]\n"
     ]
    },
    {
     "name": "stdout",
     "output_type": "stream",
     "text": [
      "× 598+718 = 1002[1316]\n",
      "× 744+238 = 1002[982 ]\n",
      "× 638+153 = 1004[791 ]\n",
      "[2] Corrects 0 / 3\tloss: 1.3948949575424194\n"
     ]
    },
    {
     "name": "stderr",
     "output_type": "stream",
     "text": [
      "100%|█████████████████████████████████████████████████████████████████████████████████████████████████████████████████████████| 390/390 [00:09<00:00, 42.37it/s]\n"
     ]
    },
    {
     "name": "stdout",
     "output_type": "stream",
     "text": [
      "× 196+208 = 649 [404 ]\n",
      "× 503+121 = 584 [624 ]\n",
      "× 311+264 = 549 [575 ]\n",
      "[3] Corrects 0 / 3\tloss: 1.3035507202148438\n"
     ]
    },
    {
     "name": "stderr",
     "output_type": "stream",
     "text": [
      "100%|█████████████████████████████████████████████████████████████████████████████████████████████████████████████████████████| 390/390 [00:09<00:00, 41.19it/s]\n"
     ]
    },
    {
     "name": "stdout",
     "output_type": "stream",
     "text": [
      "× 224+910 = 1122[1134]\n",
      "× 524+410 = 105 [934 ]\n",
      "× 243+318 = 649 [561 ]\n",
      "[4] Corrects 0 / 3\tloss: 1.2680461406707764\n"
     ]
    },
    {
     "name": "stderr",
     "output_type": "stream",
     "text": [
      "100%|█████████████████████████████████████████████████████████████████████████████████████████████████████████████████████████| 390/390 [00:09<00:00, 41.32it/s]\n"
     ]
    },
    {
     "name": "stdout",
     "output_type": "stream",
     "text": [
      "× 503+242 = 744 [745 ]\n",
      "× 72+974  = 900 [1046]\n",
      "× 987+115 = 1122[1102]\n",
      "[5] Corrects 0 / 3\tloss: 1.1763606071472168\n"
     ]
    },
    {
     "name": "stderr",
     "output_type": "stream",
     "text": [
      "100%|█████████████████████████████████████████████████████████████████████████████████████████████████████████████████████████| 390/390 [00:09<00:00, 41.19it/s]\n"
     ]
    },
    {
     "name": "stdout",
     "output_type": "stream",
     "text": [
      "× 279+109 = 477 [388 ]\n",
      "○ 668+376 = 1044[1044]\n",
      "× 950+414 = 1390[1364]\n",
      "[6] Corrects 1 / 3\tloss: 1.063449740409851\n"
     ]
    },
    {
     "name": "stderr",
     "output_type": "stream",
     "text": [
      "100%|█████████████████████████████████████████████████████████████████████████████████████████████████████████████████████████| 390/390 [00:09<00:00, 39.78it/s]\n"
     ]
    },
    {
     "name": "stdout",
     "output_type": "stream",
     "text": [
      "× 99+51   = 100 [150 ]\n",
      "× 738+336 = 1044[1074]\n",
      "× 432+973 = 1315[1405]\n",
      "[7] Corrects 0 / 3\tloss: 0.9656214714050293\n"
     ]
    },
    {
     "name": "stderr",
     "output_type": "stream",
     "text": [
      "100%|█████████████████████████████████████████████████████████████████████████████████████████████████████████████████████████| 390/390 [00:09<00:00, 41.30it/s]\n"
     ]
    },
    {
     "name": "stdout",
     "output_type": "stream",
     "text": [
      "× 766+442 = 1118[1208]\n",
      "○ 924+464 = 1388[1388]\n",
      "× 415+672 = 1077[1087]\n",
      "[8] Corrects 1 / 3\tloss: 0.8595948219299316\n"
     ]
    },
    {
     "name": "stderr",
     "output_type": "stream",
     "text": [
      "100%|█████████████████████████████████████████████████████████████████████████████████████████████████████████████████████████| 390/390 [00:09<00:00, 41.41it/s]\n"
     ]
    },
    {
     "name": "stdout",
     "output_type": "stream",
     "text": [
      "○ 553+469 = 1022[1022]\n",
      "× 823+817 = 1550[1640]\n",
      "× 724+915 = 1559[1639]\n",
      "[9] Corrects 1 / 3\tloss: 0.792756199836731\n"
     ]
    },
    {
     "name": "stderr",
     "output_type": "stream",
     "text": [
      "100%|█████████████████████████████████████████████████████████████████████████████████████████████████████████████████████████| 390/390 [00:09<00:00, 40.97it/s]\n"
     ]
    },
    {
     "name": "stdout",
     "output_type": "stream",
     "text": [
      "× 531+155 = 676 [686 ]\n",
      "× 94+492  = 646 [586 ]\n",
      "× 243+556 = 899 [799 ]\n",
      "[10] Corrects 0 / 3\tloss: 0.7306767702102661\n"
     ]
    },
    {
     "name": "stderr",
     "output_type": "stream",
     "text": [
      "100%|█████████████████████████████████████████████████████████████████████████████████████████████████████████████████████████| 390/390 [00:09<00:00, 40.53it/s]\n"
     ]
    },
    {
     "name": "stdout",
     "output_type": "stream",
     "text": [
      "○ 535+453 = 988 [988 ]\n",
      "× 273+186 = 489 [459 ]\n",
      "× 752+860 = 1512[1612]\n",
      "[11] Corrects 1 / 3\tloss: 0.6493179202079773\n"
     ]
    },
    {
     "name": "stderr",
     "output_type": "stream",
     "text": [
      "100%|█████████████████████████████████████████████████████████████████████████████████████████████████████████████████████████| 390/390 [00:09<00:00, 41.29it/s]\n"
     ]
    },
    {
     "name": "stdout",
     "output_type": "stream",
     "text": [
      "× 478+312 = 890 [790 ]\n",
      "× 496+541 = 1137[1037]\n",
      "○ 665+144 = 809 [809 ]\n",
      "[12] Corrects 1 / 3\tloss: 0.6138715744018555\n"
     ]
    },
    {
     "name": "stderr",
     "output_type": "stream",
     "text": [
      "100%|█████████████████████████████████████████████████████████████████████████████████████████████████████████████████████████| 390/390 [00:09<00:00, 41.57it/s]\n"
     ]
    },
    {
     "name": "stdout",
     "output_type": "stream",
     "text": [
      "○ 895+727 = 1622[1622]\n",
      "× 482+190 = 662 [672 ]\n",
      "○ 858+183 = 1041[1041]\n",
      "[13] Corrects 2 / 3\tloss: 0.5510691404342651\n"
     ]
    },
    {
     "name": "stderr",
     "output_type": "stream",
     "text": [
      "100%|█████████████████████████████████████████████████████████████████████████████████████████████████████████████████████████| 390/390 [00:09<00:00, 41.13it/s]\n"
     ]
    },
    {
     "name": "stdout",
     "output_type": "stream",
     "text": [
      "× 363+933 = 1396[1296]\n",
      "× 3+451   = 145 [454 ]\n",
      "× 79+290  = 388 [369 ]\n",
      "[14] Corrects 0 / 3\tloss: 0.500867486000061\n"
     ]
    },
    {
     "name": "stderr",
     "output_type": "stream",
     "text": [
      "100%|█████████████████████████████████████████████████████████████████████████████████████████████████████████████████████████| 390/390 [00:09<00:00, 41.25it/s]\n"
     ]
    },
    {
     "name": "stdout",
     "output_type": "stream",
     "text": [
      "○ 129+980 = 1109[1109]\n",
      "○ 964+530 = 1494[1494]\n",
      "○ 878+496 = 1374[1374]\n",
      "[15] Corrects 3 / 3\tloss: 0.45857882499694824\n"
     ]
    },
    {
     "name": "stderr",
     "output_type": "stream",
     "text": [
      "100%|█████████████████████████████████████████████████████████████████████████████████████████████████████████████████████████| 390/390 [00:09<00:00, 41.22it/s]\n"
     ]
    },
    {
     "name": "stdout",
     "output_type": "stream",
     "text": [
      "○ 272+371 = 643 [643 ]\n",
      "○ 520+954 = 1474[1474]\n",
      "○ 414+548 = 962 [962 ]\n",
      "[16] Corrects 3 / 3\tloss: 0.4263331890106201\n"
     ]
    },
    {
     "name": "stderr",
     "output_type": "stream",
     "text": [
      "100%|█████████████████████████████████████████████████████████████████████████████████████████████████████████████████████████| 390/390 [00:09<00:00, 40.25it/s]\n"
     ]
    },
    {
     "name": "stdout",
     "output_type": "stream",
     "text": [
      "○ 264+628 = 892 [892 ]\n",
      "○ 663+853 = 1516[1516]\n",
      "× 367+188 = 655 [555 ]\n",
      "[17] Corrects 2 / 3\tloss: 0.3972957730293274\n"
     ]
    },
    {
     "name": "stderr",
     "output_type": "stream",
     "text": [
      "100%|█████████████████████████████████████████████████████████████████████████████████████████████████████████████████████████| 390/390 [00:09<00:00, 40.98it/s]\n"
     ]
    },
    {
     "name": "stdout",
     "output_type": "stream",
     "text": [
      "× 879+822 = 1601[1701]\n",
      "× 0+116   = 222 [116 ]\n",
      "○ 954+265 = 1219[1219]\n",
      "[18] Corrects 1 / 3\tloss: 0.3796938359737396\n"
     ]
    },
    {
     "name": "stderr",
     "output_type": "stream",
     "text": [
      "100%|█████████████████████████████████████████████████████████████████████████████████████████████████████████████████████████| 390/390 [00:09<00:00, 41.05it/s]\n"
     ]
    },
    {
     "name": "stdout",
     "output_type": "stream",
     "text": [
      "○ 647+64  = 711 [711 ]\n",
      "○ 460+97  = 557 [557 ]\n",
      "○ 718+221 = 939 [939 ]\n",
      "[19] Corrects 3 / 3\tloss: 0.36229902505874634\n"
     ]
    },
    {
     "name": "stderr",
     "output_type": "stream",
     "text": [
      "100%|█████████████████████████████████████████████████████████████████████████████████████████████████████████████████████████| 390/390 [00:09<00:00, 40.33it/s]\n"
     ]
    },
    {
     "name": "stdout",
     "output_type": "stream",
     "text": [
      "○ 622+172 = 794 [794 ]\n",
      "○ 781+489 = 1270[1270]\n",
      "× 992+709 = 1791[1701]\n",
      "[20] Corrects 2 / 3\tloss: 0.3449919819831848\n"
     ]
    },
    {
     "name": "stderr",
     "output_type": "stream",
     "text": [
      "100%|█████████████████████████████████████████████████████████████████████████████████████████████████████████████████████████| 390/390 [00:09<00:00, 39.52it/s]\n"
     ]
    },
    {
     "name": "stdout",
     "output_type": "stream",
     "text": [
      "○ 923+379 = 1302[1302]\n",
      "× 272+768 = 1030[1040]\n",
      "○ 854+834 = 1688[1688]\n",
      "[21] Corrects 2 / 3\tloss: 0.348852276802063\n"
     ]
    },
    {
     "name": "stderr",
     "output_type": "stream",
     "text": [
      "100%|█████████████████████████████████████████████████████████████████████████████████████████████████████████████████████████| 390/390 [00:09<00:00, 40.79it/s]\n"
     ]
    },
    {
     "name": "stdout",
     "output_type": "stream",
     "text": [
      "× 215+81  = 396 [296 ]\n",
      "× 236+356 = 692 [592 ]\n",
      "○ 861+631 = 1492[1492]\n",
      "[22] Corrects 1 / 3\tloss: 0.30580323934555054\n"
     ]
    },
    {
     "name": "stderr",
     "output_type": "stream",
     "text": [
      "100%|█████████████████████████████████████████████████████████████████████████████████████████████████████████████████████████| 390/390 [00:09<00:00, 39.85it/s]\n"
     ]
    },
    {
     "name": "stdout",
     "output_type": "stream",
     "text": [
      "○ 575+370 = 945 [945 ]\n",
      "○ 616+49  = 665 [665 ]\n",
      "× 13+655  = 678 [668 ]\n",
      "[23] Corrects 2 / 3\tloss: 0.2941296696662903\n"
     ]
    },
    {
     "name": "stderr",
     "output_type": "stream",
     "text": [
      "100%|█████████████████████████████████████████████████████████████████████████████████████████████████████████████████████████| 390/390 [00:09<00:00, 40.30it/s]\n"
     ]
    },
    {
     "name": "stdout",
     "output_type": "stream",
     "text": [
      "○ 517+450 = 967 [967 ]\n",
      "× 300+512 = 712 [812 ]\n",
      "× 992+858 = 1750[1850]\n",
      "[24] Corrects 1 / 3\tloss: 0.2872253656387329\n"
     ]
    },
    {
     "name": "stderr",
     "output_type": "stream",
     "text": [
      "100%|█████████████████████████████████████████████████████████████████████████████████████████████████████████████████████████| 390/390 [00:09<00:00, 39.63it/s]\n"
     ]
    },
    {
     "name": "stdout",
     "output_type": "stream",
     "text": [
      "○ 270+468 = 738 [738 ]\n",
      "○ 719+242 = 961 [961 ]\n",
      "○ 432+737 = 1169[1169]\n",
      "[25] Corrects 3 / 3\tloss: 0.26607441902160645\n"
     ]
    },
    {
     "name": "stderr",
     "output_type": "stream",
     "text": [
      "100%|█████████████████████████████████████████████████████████████████████████████████████████████████████████████████████████| 390/390 [00:09<00:00, 39.58it/s]\n"
     ]
    },
    {
     "name": "stdout",
     "output_type": "stream",
     "text": [
      "○ 302+364 = 666 [666 ]\n",
      "× 133+52  = 385 [185 ]\n",
      "○ 288+407 = 695 [695 ]\n",
      "[26] Corrects 2 / 3\tloss: 0.25834372639656067\n"
     ]
    },
    {
     "name": "stderr",
     "output_type": "stream",
     "text": [
      "100%|█████████████████████████████████████████████████████████████████████████████████████████████████████████████████████████| 390/390 [00:10<00:00, 38.86it/s]\n"
     ]
    },
    {
     "name": "stdout",
     "output_type": "stream",
     "text": [
      "○ 350+752 = 1102[1102]\n",
      "○ 715+525 = 1240[1240]\n",
      "○ 716+561 = 1277[1277]\n",
      "[27] Corrects 3 / 3\tloss: 0.24956460297107697\n"
     ]
    },
    {
     "name": "stderr",
     "output_type": "stream",
     "text": [
      "100%|█████████████████████████████████████████████████████████████████████████████████████████████████████████████████████████| 390/390 [00:10<00:00, 38.23it/s]\n"
     ]
    },
    {
     "name": "stdout",
     "output_type": "stream",
     "text": [
      "○ 491+485 = 976 [976 ]\n",
      "○ 662+547 = 1209[1209]\n",
      "○ 370+485 = 855 [855 ]\n",
      "[28] Corrects 3 / 3\tloss: 0.24167558550834656\n"
     ]
    },
    {
     "name": "stderr",
     "output_type": "stream",
     "text": [
      "100%|█████████████████████████████████████████████████████████████████████████████████████████████████████████████████████████| 390/390 [00:09<00:00, 39.11it/s]\n"
     ]
    },
    {
     "name": "stdout",
     "output_type": "stream",
     "text": [
      "○ 840+494 = 1334[1334]\n",
      "○ 536+884 = 1420[1420]\n",
      "○ 876+363 = 1239[1239]\n",
      "[29] Corrects 3 / 3\tloss: 0.23188337683677673\n"
     ]
    },
    {
     "name": "stderr",
     "output_type": "stream",
     "text": [
      "100%|█████████████████████████████████████████████████████████████████████████████████████████████████████████████████████████| 390/390 [00:09<00:00, 40.01it/s]\n"
     ]
    },
    {
     "name": "stdout",
     "output_type": "stream",
     "text": [
      "○ 581+50  = 631 [631 ]\n",
      "○ 668+479 = 1147[1147]\n",
      "○ 994+742 = 1736[1736]\n",
      "[30] Corrects 3 / 3\tloss: 0.22802221775054932\n"
     ]
    },
    {
     "name": "stderr",
     "output_type": "stream",
     "text": [
      "100%|█████████████████████████████████████████████████████████████████████████████████████████████████████████████████████████| 390/390 [00:09<00:00, 39.78it/s]\n"
     ]
    },
    {
     "name": "stdout",
     "output_type": "stream",
     "text": [
      "○ 899+770 = 1669[1669]\n",
      "○ 940+467 = 1407[1407]\n",
      "○ 736+562 = 1298[1298]\n",
      "[31] Corrects 3 / 3\tloss: 0.22739291191101074\n"
     ]
    },
    {
     "name": "stderr",
     "output_type": "stream",
     "text": [
      "100%|█████████████████████████████████████████████████████████████████████████████████████████████████████████████████████████| 390/390 [00:09<00:00, 39.74it/s]\n"
     ]
    },
    {
     "name": "stdout",
     "output_type": "stream",
     "text": [
      "○ 212+57  = 269 [269 ]\n",
      "○ 830+507 = 1337[1337]\n",
      "× 78+718  = 816 [796 ]\n",
      "[32] Corrects 2 / 3\tloss: 0.21637777984142303\n"
     ]
    },
    {
     "name": "stderr",
     "output_type": "stream",
     "text": [
      "100%|█████████████████████████████████████████████████████████████████████████████████████████████████████████████████████████| 390/390 [00:09<00:00, 39.84it/s]\n"
     ]
    },
    {
     "name": "stdout",
     "output_type": "stream",
     "text": [
      "○ 107+425 = 532 [532 ]\n",
      "× 23+965  = 998 [988 ]\n",
      "○ 484+758 = 1242[1242]\n",
      "[33] Corrects 2 / 3\tloss: 0.21014969050884247\n"
     ]
    },
    {
     "name": "stderr",
     "output_type": "stream",
     "text": [
      "100%|█████████████████████████████████████████████████████████████████████████████████████████████████████████████████████████| 390/390 [00:09<00:00, 40.36it/s]\n"
     ]
    },
    {
     "name": "stdout",
     "output_type": "stream",
     "text": [
      "○ 658+799 = 1457[1457]\n",
      "○ 999+856 = 1855[1855]\n",
      "○ 534+229 = 763 [763 ]\n",
      "[34] Corrects 3 / 3\tloss: 0.2222270518541336\n"
     ]
    },
    {
     "name": "stderr",
     "output_type": "stream",
     "text": [
      "100%|█████████████████████████████████████████████████████████████████████████████████████████████████████████████████████████| 390/390 [00:09<00:00, 39.62it/s]\n"
     ]
    },
    {
     "name": "stdout",
     "output_type": "stream",
     "text": [
      "○ 789+475 = 1264[1264]\n",
      "○ 525+496 = 1021[1021]\n",
      "○ 907+580 = 1487[1487]\n",
      "[35] Corrects 3 / 3\tloss: 0.19005276262760162\n"
     ]
    },
    {
     "name": "stderr",
     "output_type": "stream",
     "text": [
      "100%|█████████████████████████████████████████████████████████████████████████████████████████████████████████████████████████| 390/390 [00:09<00:00, 40.66it/s]\n"
     ]
    },
    {
     "name": "stdout",
     "output_type": "stream",
     "text": [
      "○ 486+975 = 1461[1461]\n",
      "○ 226+374 = 600 [600 ]\n",
      "○ 562+411 = 973 [973 ]\n",
      "[36] Corrects 3 / 3\tloss: 0.18645413219928741\n"
     ]
    },
    {
     "name": "stderr",
     "output_type": "stream",
     "text": [
      "100%|█████████████████████████████████████████████████████████████████████████████████████████████████████████████████████████| 390/390 [00:09<00:00, 40.78it/s]\n"
     ]
    },
    {
     "name": "stdout",
     "output_type": "stream",
     "text": [
      "○ 792+478 = 1270[1270]\n",
      "○ 374+888 = 1262[1262]\n",
      "○ 414+789 = 1203[1203]\n",
      "[37] Corrects 3 / 3\tloss: 0.19039727747440338\n"
     ]
    },
    {
     "name": "stderr",
     "output_type": "stream",
     "text": [
      "100%|█████████████████████████████████████████████████████████████████████████████████████████████████████████████████████████| 390/390 [00:10<00:00, 38.82it/s]\n"
     ]
    },
    {
     "name": "stdout",
     "output_type": "stream",
     "text": [
      "○ 751+110 = 861 [861 ]\n",
      "× 36+17   = 13  [53  ]\n",
      "○ 412+483 = 895 [895 ]\n",
      "[38] Corrects 2 / 3\tloss: 0.19613198935985565\n"
     ]
    },
    {
     "name": "stderr",
     "output_type": "stream",
     "text": [
      "100%|█████████████████████████████████████████████████████████████████████████████████████████████████████████████████████████| 390/390 [00:09<00:00, 39.80it/s]\n"
     ]
    },
    {
     "name": "stdout",
     "output_type": "stream",
     "text": [
      "○ 483+806 = 1289[1289]\n",
      "○ 207+914 = 1121[1121]\n",
      "○ 948+529 = 1477[1477]\n",
      "[39] Corrects 3 / 3\tloss: 0.17321209609508514\n"
     ]
    },
    {
     "name": "stderr",
     "output_type": "stream",
     "text": [
      "100%|█████████████████████████████████████████████████████████████████████████████████████████████████████████████████████████| 390/390 [00:10<00:00, 38.66it/s]\n"
     ]
    },
    {
     "name": "stdout",
     "output_type": "stream",
     "text": [
      "○ 748+213 = 961 [961 ]\n",
      "○ 843+652 = 1495[1495]\n",
      "○ 432+77  = 509 [509 ]\n",
      "[40] Corrects 3 / 3\tloss: 0.17423424124717712\n"
     ]
    },
    {
     "name": "stderr",
     "output_type": "stream",
     "text": [
      "100%|█████████████████████████████████████████████████████████████████████████████████████████████████████████████████████████| 390/390 [00:09<00:00, 39.67it/s]\n"
     ]
    },
    {
     "name": "stdout",
     "output_type": "stream",
     "text": [
      "○ 711+994 = 1705[1705]\n",
      "× 91+399  = 470 [490 ]\n",
      "○ 208+15  = 223 [223 ]\n",
      "[41] Corrects 2 / 3\tloss: 0.1780482530593872\n"
     ]
    },
    {
     "name": "stderr",
     "output_type": "stream",
     "text": [
      "100%|█████████████████████████████████████████████████████████████████████████████████████████████████████████████████████████| 390/390 [00:09<00:00, 39.74it/s]\n"
     ]
    },
    {
     "name": "stdout",
     "output_type": "stream",
     "text": [
      "○ 121+324 = 445 [445 ]\n",
      "○ 465+86  = 551 [551 ]\n",
      "○ 300+187 = 487 [487 ]\n",
      "[42] Corrects 3 / 3\tloss: 0.16369707882404327\n"
     ]
    },
    {
     "name": "stderr",
     "output_type": "stream",
     "text": [
      "100%|█████████████████████████████████████████████████████████████████████████████████████████████████████████████████████████| 390/390 [00:09<00:00, 39.07it/s]\n"
     ]
    },
    {
     "name": "stdout",
     "output_type": "stream",
     "text": [
      "○ 200+743 = 943 [943 ]\n",
      "○ 935+356 = 1291[1291]\n",
      "○ 110+863 = 973 [973 ]\n",
      "[43] Corrects 3 / 3\tloss: 0.15797558426856995\n"
     ]
    },
    {
     "name": "stderr",
     "output_type": "stream",
     "text": [
      "100%|█████████████████████████████████████████████████████████████████████████████████████████████████████████████████████████| 390/390 [00:09<00:00, 39.28it/s]\n"
     ]
    },
    {
     "name": "stdout",
     "output_type": "stream",
     "text": [
      "○ 828+777 = 1605[1605]\n",
      "○ 456+808 = 1264[1264]\n",
      "○ 360+304 = 664 [664 ]\n",
      "[44] Corrects 3 / 3\tloss: 0.16132524609565735\n"
     ]
    },
    {
     "name": "stderr",
     "output_type": "stream",
     "text": [
      "100%|█████████████████████████████████████████████████████████████████████████████████████████████████████████████████████████| 390/390 [00:09<00:00, 39.04it/s]\n"
     ]
    },
    {
     "name": "stdout",
     "output_type": "stream",
     "text": [
      "○ 417+113 = 530 [530 ]\n",
      "○ 859+447 = 1306[1306]\n",
      "○ 971+256 = 1227[1227]\n",
      "[45] Corrects 3 / 3\tloss: 0.1530684530735016\n"
     ]
    },
    {
     "name": "stderr",
     "output_type": "stream",
     "text": [
      "100%|█████████████████████████████████████████████████████████████████████████████████████████████████████████████████████████| 390/390 [00:09<00:00, 40.00it/s]\n"
     ]
    },
    {
     "name": "stdout",
     "output_type": "stream",
     "text": [
      "○ 514+741 = 1255[1255]\n",
      "○ 151+728 = 879 [879 ]\n",
      "○ 444+358 = 802 [802 ]\n",
      "[46] Corrects 3 / 3\tloss: 0.17374292016029358\n"
     ]
    },
    {
     "name": "stderr",
     "output_type": "stream",
     "text": [
      "100%|█████████████████████████████████████████████████████████████████████████████████████████████████████████████████████████| 390/390 [00:09<00:00, 40.28it/s]\n"
     ]
    },
    {
     "name": "stdout",
     "output_type": "stream",
     "text": [
      "× 109+151 = 360 [260 ]\n",
      "○ 991+92  = 1083[1083]\n",
      "○ 187+963 = 1150[1150]\n",
      "[47] Corrects 2 / 3\tloss: 0.15126895904541016\n"
     ]
    },
    {
     "name": "stderr",
     "output_type": "stream",
     "text": [
      "100%|█████████████████████████████████████████████████████████████████████████████████████████████████████████████████████████| 390/390 [00:09<00:00, 39.75it/s]\n"
     ]
    },
    {
     "name": "stdout",
     "output_type": "stream",
     "text": [
      "○ 273+833 = 1106[1106]\n",
      "○ 248+668 = 916 [916 ]\n",
      "○ 352+649 = 1001[1001]\n",
      "[48] Corrects 3 / 3\tloss: 0.14712095260620117\n"
     ]
    },
    {
     "name": "stderr",
     "output_type": "stream",
     "text": [
      "100%|█████████████████████████████████████████████████████████████████████████████████████████████████████████████████████████| 390/390 [00:09<00:00, 40.12it/s]\n"
     ]
    },
    {
     "name": "stdout",
     "output_type": "stream",
     "text": [
      "○ 74+348  = 422 [422 ]\n",
      "○ 814+788 = 1602[1602]\n",
      "○ 814+986 = 1800[1800]\n",
      "[49] Corrects 3 / 3\tloss: 0.14758172631263733\n"
     ]
    },
    {
     "name": "stderr",
     "output_type": "stream",
     "text": [
      "100%|█████████████████████████████████████████████████████████████████████████████████████████████████████████████████████████| 390/390 [00:09<00:00, 39.45it/s]\n"
     ]
    },
    {
     "name": "stdout",
     "output_type": "stream",
     "text": [
      "○ 372+293 = 665 [665 ]\n",
      "○ 930+515 = 1445[1445]\n",
      "○ 13+22   = 35  [35  ]\n",
      "[50] Corrects 3 / 3\tloss: 0.13714565336704254\n"
     ]
    },
    {
     "name": "stderr",
     "output_type": "stream",
     "text": [
      "100%|█████████████████████████████████████████████████████████████████████████████████████████████████████████████████████████| 390/390 [00:09<00:00, 39.96it/s]\n"
     ]
    },
    {
     "name": "stdout",
     "output_type": "stream",
     "text": [
      "○ 166+900 = 1066[1066]\n",
      "○ 168+332 = 500 [500 ]\n",
      "○ 768+294 = 1062[1062]\n",
      "[51] Corrects 3 / 3\tloss: 0.14324969053268433\n"
     ]
    },
    {
     "name": "stderr",
     "output_type": "stream",
     "text": [
      "100%|█████████████████████████████████████████████████████████████████████████████████████████████████████████████████████████| 390/390 [00:09<00:00, 39.91it/s]\n"
     ]
    },
    {
     "name": "stdout",
     "output_type": "stream",
     "text": [
      "○ 926+934 = 1860[1860]\n",
      "× 2+738   = 640 [740 ]\n",
      "○ 995+401 = 1396[1396]\n",
      "[52] Corrects 2 / 3\tloss: 0.13195039331912994\n"
     ]
    },
    {
     "name": "stderr",
     "output_type": "stream",
     "text": [
      "100%|█████████████████████████████████████████████████████████████████████████████████████████████████████████████████████████| 390/390 [00:09<00:00, 40.08it/s]\n"
     ]
    },
    {
     "name": "stdout",
     "output_type": "stream",
     "text": [
      "○ 142+894 = 1036[1036]\n",
      "○ 748+890 = 1638[1638]\n",
      "○ 444+657 = 1101[1101]\n",
      "[53] Corrects 3 / 3\tloss: 0.1311648190021515\n"
     ]
    },
    {
     "name": "stderr",
     "output_type": "stream",
     "text": [
      "100%|█████████████████████████████████████████████████████████████████████████████████████████████████████████████████████████| 390/390 [00:09<00:00, 39.19it/s]\n"
     ]
    },
    {
     "name": "stdout",
     "output_type": "stream",
     "text": [
      "○ 614+577 = 1191[1191]\n",
      "○ 526+353 = 879 [879 ]\n",
      "○ 656+749 = 1405[1405]\n",
      "[54] Corrects 3 / 3\tloss: 0.13003161549568176\n"
     ]
    },
    {
     "name": "stderr",
     "output_type": "stream",
     "text": [
      "100%|█████████████████████████████████████████████████████████████████████████████████████████████████████████████████████████| 390/390 [00:09<00:00, 39.80it/s]\n"
     ]
    },
    {
     "name": "stdout",
     "output_type": "stream",
     "text": [
      "○ 489+830 = 1319[1319]\n",
      "○ 848+861 = 1709[1709]\n",
      "○ 746+323 = 1069[1069]\n",
      "[55] Corrects 3 / 3\tloss: 0.13425356149673462\n"
     ]
    },
    {
     "name": "stderr",
     "output_type": "stream",
     "text": [
      "100%|█████████████████████████████████████████████████████████████████████████████████████████████████████████████████████████| 390/390 [00:09<00:00, 39.79it/s]\n"
     ]
    },
    {
     "name": "stdout",
     "output_type": "stream",
     "text": [
      "○ 172+222 = 394 [394 ]\n",
      "○ 155+483 = 638 [638 ]\n",
      "○ 959+222 = 1181[1181]\n",
      "[56] Corrects 3 / 3\tloss: 0.1320599615573883\n"
     ]
    },
    {
     "name": "stderr",
     "output_type": "stream",
     "text": [
      "100%|█████████████████████████████████████████████████████████████████████████████████████████████████████████████████████████| 390/390 [00:09<00:00, 39.47it/s]\n"
     ]
    },
    {
     "name": "stdout",
     "output_type": "stream",
     "text": [
      "○ 212+801 = 1013[1013]\n",
      "○ 101+175 = 276 [276 ]\n",
      "○ 113+131 = 244 [244 ]\n",
      "[57] Corrects 3 / 3\tloss: 0.12846185266971588\n"
     ]
    },
    {
     "name": "stderr",
     "output_type": "stream",
     "text": [
      "100%|█████████████████████████████████████████████████████████████████████████████████████████████████████████████████████████| 390/390 [00:10<00:00, 38.05it/s]\n"
     ]
    },
    {
     "name": "stdout",
     "output_type": "stream",
     "text": [
      "○ 938+984 = 1922[1922]\n",
      "○ 965+650 = 1615[1615]\n",
      "○ 385+596 = 981 [981 ]\n",
      "[58] Corrects 3 / 3\tloss: 0.11810829490423203\n"
     ]
    },
    {
     "name": "stderr",
     "output_type": "stream",
     "text": [
      "100%|█████████████████████████████████████████████████████████████████████████████████████████████████████████████████████████| 390/390 [00:09<00:00, 40.04it/s]\n"
     ]
    },
    {
     "name": "stdout",
     "output_type": "stream",
     "text": [
      "○ 630+267 = 897 [897 ]\n",
      "○ 556+552 = 1108[1108]\n",
      "○ 254+914 = 1168[1168]\n",
      "[59] Corrects 3 / 3\tloss: 0.1172235980629921\n"
     ]
    },
    {
     "name": "stderr",
     "output_type": "stream",
     "text": [
      "100%|█████████████████████████████████████████████████████████████████████████████████████████████████████████████████████████| 390/390 [00:09<00:00, 40.00it/s]\n"
     ]
    },
    {
     "name": "stdout",
     "output_type": "stream",
     "text": [
      "○ 643+529 = 1172[1172]\n",
      "○ 888+881 = 1769[1769]\n",
      "○ 860+391 = 1251[1251]\n",
      "[60] Corrects 3 / 3\tloss: 0.15614967048168182\n"
     ]
    },
    {
     "name": "stderr",
     "output_type": "stream",
     "text": [
      "100%|█████████████████████████████████████████████████████████████████████████████████████████████████████████████████████████| 390/390 [00:09<00:00, 39.56it/s]\n"
     ]
    },
    {
     "name": "stdout",
     "output_type": "stream",
     "text": [
      "○ 958+848 = 1806[1806]\n",
      "× 98+521  = 629 [619 ]\n",
      "○ 721+915 = 1636[1636]\n",
      "[61] Corrects 2 / 3\tloss: 0.12397316843271255\n"
     ]
    },
    {
     "name": "stderr",
     "output_type": "stream",
     "text": [
      "100%|█████████████████████████████████████████████████████████████████████████████████████████████████████████████████████████| 390/390 [00:09<00:00, 39.88it/s]\n"
     ]
    },
    {
     "name": "stdout",
     "output_type": "stream",
     "text": [
      "○ 947+15  = 962 [962 ]\n",
      "○ 200+473 = 673 [673 ]\n",
      "○ 428+945 = 1373[1373]\n",
      "[62] Corrects 3 / 3\tloss: 0.11375454813241959\n"
     ]
    },
    {
     "name": "stderr",
     "output_type": "stream",
     "text": [
      "100%|█████████████████████████████████████████████████████████████████████████████████████████████████████████████████████████| 390/390 [00:09<00:00, 39.48it/s]\n"
     ]
    },
    {
     "name": "stdout",
     "output_type": "stream",
     "text": [
      "○ 923+87  = 1010[1010]\n",
      "○ 450+33  = 483 [483 ]\n",
      "○ 853+213 = 1066[1066]\n",
      "[63] Corrects 3 / 3\tloss: 0.11081725358963013\n"
     ]
    },
    {
     "name": "stderr",
     "output_type": "stream",
     "text": [
      "100%|█████████████████████████████████████████████████████████████████████████████████████████████████████████████████████████| 390/390 [00:09<00:00, 40.05it/s]\n"
     ]
    },
    {
     "name": "stdout",
     "output_type": "stream",
     "text": [
      "○ 866+46  = 912 [912 ]\n",
      "× 454+147 = 501 [601 ]\n",
      "○ 639+300 = 939 [939 ]\n",
      "[64] Corrects 2 / 3\tloss: 0.12586338818073273\n"
     ]
    },
    {
     "name": "stderr",
     "output_type": "stream",
     "text": [
      "100%|█████████████████████████████████████████████████████████████████████████████████████████████████████████████████████████| 390/390 [00:09<00:00, 39.67it/s]\n"
     ]
    },
    {
     "name": "stdout",
     "output_type": "stream",
     "text": [
      "○ 501+792 = 1293[1293]\n",
      "○ 628+264 = 892 [892 ]\n",
      "○ 909+561 = 1470[1470]\n",
      "[65] Corrects 3 / 3\tloss: 0.10782359540462494\n"
     ]
    },
    {
     "name": "stderr",
     "output_type": "stream",
     "text": [
      "100%|█████████████████████████████████████████████████████████████████████████████████████████████████████████████████████████| 390/390 [00:09<00:00, 39.55it/s]\n"
     ]
    },
    {
     "name": "stdout",
     "output_type": "stream",
     "text": [
      "○ 23+189  = 212 [212 ]\n",
      "○ 194+254 = 448 [448 ]\n",
      "○ 73+663  = 736 [736 ]\n",
      "[66] Corrects 3 / 3\tloss: 0.10625286400318146\n"
     ]
    },
    {
     "name": "stderr",
     "output_type": "stream",
     "text": [
      "100%|█████████████████████████████████████████████████████████████████████████████████████████████████████████████████████████| 390/390 [00:09<00:00, 39.74it/s]\n"
     ]
    },
    {
     "name": "stdout",
     "output_type": "stream",
     "text": [
      "○ 361+79  = 440 [440 ]\n",
      "○ 942+212 = 1154[1154]\n",
      "○ 16+142  = 158 [158 ]\n",
      "[67] Corrects 3 / 3\tloss: 0.11434928327798843\n"
     ]
    },
    {
     "name": "stderr",
     "output_type": "stream",
     "text": [
      "100%|█████████████████████████████████████████████████████████████████████████████████████████████████████████████████████████| 390/390 [00:09<00:00, 39.56it/s]\n"
     ]
    },
    {
     "name": "stdout",
     "output_type": "stream",
     "text": [
      "○ 686+580 = 1266[1266]\n",
      "○ 919+703 = 1622[1622]\n",
      "○ 719+942 = 1661[1661]\n",
      "[68] Corrects 3 / 3\tloss: 0.10339125245809555\n"
     ]
    },
    {
     "name": "stderr",
     "output_type": "stream",
     "text": [
      "100%|█████████████████████████████████████████████████████████████████████████████████████████████████████████████████████████| 390/390 [00:09<00:00, 40.37it/s]\n"
     ]
    },
    {
     "name": "stdout",
     "output_type": "stream",
     "text": [
      "○ 173+251 = 424 [424 ]\n",
      "○ 985+786 = 1771[1771]\n",
      "○ 822+41  = 863 [863 ]\n",
      "[69] Corrects 3 / 3\tloss: 0.10159305483102798\n"
     ]
    },
    {
     "name": "stderr",
     "output_type": "stream",
     "text": [
      "100%|█████████████████████████████████████████████████████████████████████████████████████████████████████████████████████████| 390/390 [00:09<00:00, 39.57it/s]\n"
     ]
    },
    {
     "name": "stdout",
     "output_type": "stream",
     "text": [
      "○ 625+251 = 876 [876 ]\n",
      "○ 709+721 = 1430[1430]\n",
      "○ 560+996 = 1556[1556]\n",
      "[70] Corrects 3 / 3\tloss: 0.10077480226755142\n"
     ]
    },
    {
     "name": "stderr",
     "output_type": "stream",
     "text": [
      "100%|█████████████████████████████████████████████████████████████████████████████████████████████████████████████████████████| 390/390 [00:09<00:00, 39.44it/s]\n"
     ]
    },
    {
     "name": "stdout",
     "output_type": "stream",
     "text": [
      "○ 818+659 = 1477[1477]\n",
      "○ 440+224 = 664 [664 ]\n",
      "○ 255+850 = 1105[1105]\n",
      "[71] Corrects 3 / 3\tloss: 0.13802431523799896\n"
     ]
    },
    {
     "name": "stderr",
     "output_type": "stream",
     "text": [
      "100%|█████████████████████████████████████████████████████████████████████████████████████████████████████████████████████████| 390/390 [00:09<00:00, 39.30it/s]\n"
     ]
    },
    {
     "name": "stdout",
     "output_type": "stream",
     "text": [
      "○ 650+877 = 1527[1527]\n",
      "○ 185+508 = 693 [693 ]\n",
      "○ 127+183 = 310 [310 ]\n",
      "[72] Corrects 3 / 3\tloss: 0.09791173040866852\n"
     ]
    },
    {
     "name": "stderr",
     "output_type": "stream",
     "text": [
      "100%|█████████████████████████████████████████████████████████████████████████████████████████████████████████████████████████| 390/390 [00:10<00:00, 38.15it/s]\n"
     ]
    },
    {
     "name": "stdout",
     "output_type": "stream",
     "text": [
      "○ 182+864 = 1046[1046]\n",
      "○ 207+475 = 682 [682 ]\n",
      "○ 439+439 = 878 [878 ]\n",
      "[73] Corrects 3 / 3\tloss: 0.09704922139644623\n"
     ]
    },
    {
     "name": "stderr",
     "output_type": "stream",
     "text": [
      "100%|█████████████████████████████████████████████████████████████████████████████████████████████████████████████████████████| 390/390 [00:10<00:00, 38.39it/s]\n"
     ]
    },
    {
     "name": "stdout",
     "output_type": "stream",
     "text": [
      "○ 263+400 = 663 [663 ]\n",
      "○ 164+741 = 905 [905 ]\n",
      "○ 194+796 = 990 [990 ]\n",
      "[74] Corrects 3 / 3\tloss: 0.09884200990200043\n"
     ]
    },
    {
     "name": "stderr",
     "output_type": "stream",
     "text": [
      "100%|█████████████████████████████████████████████████████████████████████████████████████████████████████████████████████████| 390/390 [00:10<00:00, 38.86it/s]\n"
     ]
    },
    {
     "name": "stdout",
     "output_type": "stream",
     "text": [
      "○ 941+678 = 1619[1619]\n",
      "○ 766+791 = 1557[1557]\n",
      "○ 171+80  = 251 [251 ]\n",
      "[75] Corrects 3 / 3\tloss: 0.09337300062179565\n"
     ]
    },
    {
     "name": "stderr",
     "output_type": "stream",
     "text": [
      "100%|█████████████████████████████████████████████████████████████████████████████████████████████████████████████████████████| 390/390 [00:09<00:00, 39.27it/s]\n"
     ]
    },
    {
     "name": "stdout",
     "output_type": "stream",
     "text": [
      "○ 907+176 = 1083[1083]\n",
      "○ 477+5   = 482 [482 ]\n",
      "○ 590+799 = 1389[1389]\n",
      "[76] Corrects 3 / 3\tloss: 0.11121807992458344\n"
     ]
    },
    {
     "name": "stderr",
     "output_type": "stream",
     "text": [
      "100%|█████████████████████████████████████████████████████████████████████████████████████████████████████████████████████████| 390/390 [00:10<00:00, 38.63it/s]\n"
     ]
    },
    {
     "name": "stdout",
     "output_type": "stream",
     "text": [
      "○ 833+463 = 1296[1296]\n",
      "○ 157+783 = 940 [940 ]\n",
      "○ 241+355 = 596 [596 ]\n",
      "[77] Corrects 3 / 3\tloss: 0.09454415738582611\n"
     ]
    },
    {
     "name": "stderr",
     "output_type": "stream",
     "text": [
      "100%|█████████████████████████████████████████████████████████████████████████████████████████████████████████████████████████| 390/390 [00:09<00:00, 39.18it/s]\n"
     ]
    },
    {
     "name": "stdout",
     "output_type": "stream",
     "text": [
      "× 91+195  = 276 [286 ]\n",
      "○ 344+161 = 505 [505 ]\n",
      "○ 986+205 = 1191[1191]\n",
      "[78] Corrects 2 / 3\tloss: 0.09245423972606659\n"
     ]
    },
    {
     "name": "stderr",
     "output_type": "stream",
     "text": [
      "100%|█████████████████████████████████████████████████████████████████████████████████████████████████████████████████████████| 390/390 [00:09<00:00, 39.41it/s]\n"
     ]
    },
    {
     "name": "stdout",
     "output_type": "stream",
     "text": [
      "○ 928+569 = 1497[1497]\n",
      "○ 940+151 = 1091[1091]\n",
      "○ 151+215 = 366 [366 ]\n",
      "[79] Corrects 3 / 3\tloss: 0.09058817476034164\n"
     ]
    },
    {
     "name": "stderr",
     "output_type": "stream",
     "text": [
      "100%|█████████████████████████████████████████████████████████████████████████████████████████████████████████████████████████| 390/390 [00:10<00:00, 38.46it/s]\n"
     ]
    },
    {
     "name": "stdout",
     "output_type": "stream",
     "text": [
      "○ 564+422 = 986 [986 ]\n",
      "○ 710+126 = 836 [836 ]\n",
      "○ 944+66  = 1010[1010]\n",
      "[80] Corrects 3 / 3\tloss: 0.10852702707052231\n"
     ]
    },
    {
     "name": "stderr",
     "output_type": "stream",
     "text": [
      "100%|█████████████████████████████████████████████████████████████████████████████████████████████████████████████████████████| 390/390 [00:09<00:00, 39.07it/s]\n"
     ]
    },
    {
     "name": "stdout",
     "output_type": "stream",
     "text": [
      "○ 577+666 = 1243[1243]\n",
      "○ 525+817 = 1342[1342]\n",
      "○ 356+851 = 1207[1207]\n",
      "[81] Corrects 3 / 3\tloss: 0.10098092257976532\n"
     ]
    },
    {
     "name": "stderr",
     "output_type": "stream",
     "text": [
      "100%|█████████████████████████████████████████████████████████████████████████████████████████████████████████████████████████| 390/390 [00:10<00:00, 38.98it/s]\n"
     ]
    },
    {
     "name": "stdout",
     "output_type": "stream",
     "text": [
      "○ 950+599 = 1549[1549]\n",
      "○ 683+523 = 1206[1206]\n",
      "○ 464+316 = 780 [780 ]\n",
      "[82] Corrects 3 / 3\tloss: 0.0903182104229927\n"
     ]
    },
    {
     "name": "stderr",
     "output_type": "stream",
     "text": [
      "100%|█████████████████████████████████████████████████████████████████████████████████████████████████████████████████████████| 390/390 [00:09<00:00, 39.77it/s]\n"
     ]
    },
    {
     "name": "stdout",
     "output_type": "stream",
     "text": [
      "○ 815+402 = 1217[1217]\n",
      "○ 880+856 = 1736[1736]\n",
      "○ 913+720 = 1633[1633]\n",
      "[83] Corrects 3 / 3\tloss: 0.08788476139307022\n"
     ]
    },
    {
     "name": "stderr",
     "output_type": "stream",
     "text": [
      "100%|█████████████████████████████████████████████████████████████████████████████████████████████████████████████████████████| 390/390 [00:09<00:00, 39.28it/s]\n"
     ]
    },
    {
     "name": "stdout",
     "output_type": "stream",
     "text": [
      "○ 505+824 = 1329[1329]\n",
      "○ 624+923 = 1547[1547]\n",
      "○ 27+884  = 911 [911 ]\n",
      "[84] Corrects 3 / 3\tloss: 0.09649576246738434\n"
     ]
    },
    {
     "name": "stderr",
     "output_type": "stream",
     "text": [
      "100%|█████████████████████████████████████████████████████████████████████████████████████████████████████████████████████████| 390/390 [00:09<00:00, 39.23it/s]\n"
     ]
    },
    {
     "name": "stdout",
     "output_type": "stream",
     "text": [
      "○ 884+685 = 1569[1569]\n",
      "○ 966+575 = 1541[1541]\n",
      "○ 914+320 = 1234[1234]\n",
      "[85] Corrects 3 / 3\tloss: 0.08782421797513962\n"
     ]
    },
    {
     "name": "stderr",
     "output_type": "stream",
     "text": [
      "100%|█████████████████████████████████████████████████████████████████████████████████████████████████████████████████████████| 390/390 [00:09<00:00, 39.30it/s]\n"
     ]
    },
    {
     "name": "stdout",
     "output_type": "stream",
     "text": [
      "○ 53+940  = 993 [993 ]\n",
      "○ 331+328 = 659 [659 ]\n",
      "○ 326+93  = 419 [419 ]\n",
      "[86] Corrects 3 / 3\tloss: 0.09439194947481155\n"
     ]
    },
    {
     "name": "stderr",
     "output_type": "stream",
     "text": [
      "100%|█████████████████████████████████████████████████████████████████████████████████████████████████████████████████████████| 390/390 [00:10<00:00, 38.60it/s]\n"
     ]
    },
    {
     "name": "stdout",
     "output_type": "stream",
     "text": [
      "× 5+588   = 588 [593 ]\n",
      "○ 184+254 = 438 [438 ]\n",
      "○ 226+303 = 529 [529 ]\n",
      "[87] Corrects 2 / 3\tloss: 0.08581797778606415\n"
     ]
    },
    {
     "name": "stderr",
     "output_type": "stream",
     "text": [
      "100%|█████████████████████████████████████████████████████████████████████████████████████████████████████████████████████████| 390/390 [00:09<00:00, 39.44it/s]\n"
     ]
    },
    {
     "name": "stdout",
     "output_type": "stream",
     "text": [
      "○ 925+63  = 988 [988 ]\n",
      "○ 411+424 = 835 [835 ]\n",
      "○ 102+228 = 330 [330 ]\n",
      "[88] Corrects 3 / 3\tloss: 0.08438146859407425\n"
     ]
    },
    {
     "name": "stderr",
     "output_type": "stream",
     "text": [
      "100%|█████████████████████████████████████████████████████████████████████████████████████████████████████████████████████████| 390/390 [00:09<00:00, 39.07it/s]\n"
     ]
    },
    {
     "name": "stdout",
     "output_type": "stream",
     "text": [
      "○ 940+294 = 1234[1234]\n",
      "○ 271+882 = 1153[1153]\n",
      "○ 655+323 = 978 [978 ]\n",
      "[89] Corrects 3 / 3\tloss: 0.09535884857177734\n"
     ]
    },
    {
     "name": "stderr",
     "output_type": "stream",
     "text": [
      "100%|█████████████████████████████████████████████████████████████████████████████████████████████████████████████████████████| 390/390 [00:09<00:00, 39.39it/s]\n"
     ]
    },
    {
     "name": "stdout",
     "output_type": "stream",
     "text": [
      "○ 539+803 = 1342[1342]\n",
      "○ 549+481 = 1030[1030]\n",
      "○ 540+548 = 1088[1088]\n",
      "[90] Corrects 3 / 3\tloss: 0.08538176119327545\n"
     ]
    },
    {
     "name": "stderr",
     "output_type": "stream",
     "text": [
      "100%|█████████████████████████████████████████████████████████████████████████████████████████████████████████████████████████| 390/390 [00:09<00:00, 39.01it/s]\n"
     ]
    },
    {
     "name": "stdout",
     "output_type": "stream",
     "text": [
      "× 410+6   = 426 [416 ]\n",
      "○ 36+607  = 643 [643 ]\n",
      "× 74+36   = 100 [110 ]\n",
      "[91] Corrects 1 / 3\tloss: 0.08238285034894943\n"
     ]
    },
    {
     "name": "stderr",
     "output_type": "stream",
     "text": [
      "100%|█████████████████████████████████████████████████████████████████████████████████████████████████████████████████████████| 390/390 [00:09<00:00, 39.38it/s]\n"
     ]
    },
    {
     "name": "stdout",
     "output_type": "stream",
     "text": [
      "○ 550+805 = 1355[1355]\n",
      "○ 612+798 = 1410[1410]\n",
      "○ 844+19  = 863 [863 ]\n",
      "[92] Corrects 3 / 3\tloss: 0.08145488798618317\n"
     ]
    },
    {
     "name": "stderr",
     "output_type": "stream",
     "text": [
      "100%|█████████████████████████████████████████████████████████████████████████████████████████████████████████████████████████| 390/390 [00:09<00:00, 39.18it/s]\n"
     ]
    },
    {
     "name": "stdout",
     "output_type": "stream",
     "text": [
      "○ 929+773 = 1702[1702]\n",
      "○ 527+646 = 1173[1173]\n",
      "○ 422+970 = 1392[1392]\n",
      "[93] Corrects 3 / 3\tloss: 0.10169687122106552\n"
     ]
    },
    {
     "name": "stderr",
     "output_type": "stream",
     "text": [
      "100%|█████████████████████████████████████████████████████████████████████████████████████████████████████████████████████████| 390/390 [00:10<00:00, 38.71it/s]\n"
     ]
    },
    {
     "name": "stdout",
     "output_type": "stream",
     "text": [
      "○ 208+265 = 473 [473 ]\n",
      "○ 903+949 = 1852[1852]\n",
      "○ 261+248 = 509 [509 ]\n",
      "[94] Corrects 3 / 3\tloss: 0.08505451679229736\n"
     ]
    },
    {
     "name": "stderr",
     "output_type": "stream",
     "text": [
      "100%|█████████████████████████████████████████████████████████████████████████████████████████████████████████████████████████| 390/390 [00:09<00:00, 39.29it/s]\n"
     ]
    },
    {
     "name": "stdout",
     "output_type": "stream",
     "text": [
      "○ 599+188 = 787 [787 ]\n",
      "○ 102+677 = 779 [779 ]\n",
      "○ 641+513 = 1154[1154]\n",
      "[95] Corrects 3 / 3\tloss: 0.07986775040626526\n"
     ]
    },
    {
     "name": "stderr",
     "output_type": "stream",
     "text": [
      "100%|█████████████████████████████████████████████████████████████████████████████████████████████████████████████████████████| 390/390 [00:10<00:00, 38.46it/s]\n"
     ]
    },
    {
     "name": "stdout",
     "output_type": "stream",
     "text": [
      "○ 261+626 = 887 [887 ]\n",
      "○ 356+918 = 1274[1274]\n",
      "○ 157+833 = 990 [990 ]\n",
      "[96] Corrects 3 / 3\tloss: 0.08598624914884567\n"
     ]
    },
    {
     "name": "stderr",
     "output_type": "stream",
     "text": [
      "100%|█████████████████████████████████████████████████████████████████████████████████████████████████████████████████████████| 390/390 [00:09<00:00, 39.46it/s]\n"
     ]
    },
    {
     "name": "stdout",
     "output_type": "stream",
     "text": [
      "○ 273+170 = 443 [443 ]\n",
      "○ 679+718 = 1397[1397]\n",
      "○ 164+364 = 528 [528 ]\n",
      "[97] Corrects 3 / 3\tloss: 0.09594393521547318\n"
     ]
    },
    {
     "name": "stderr",
     "output_type": "stream",
     "text": [
      "100%|█████████████████████████████████████████████████████████████████████████████████████████████████████████████████████████| 390/390 [00:09<00:00, 39.27it/s]\n"
     ]
    },
    {
     "name": "stdout",
     "output_type": "stream",
     "text": [
      "○ 508+789 = 1297[1297]\n",
      "○ 569+912 = 1481[1481]\n",
      "○ 60+248  = 308 [308 ]\n",
      "[98] Corrects 3 / 3\tloss: 0.07828453183174133\n"
     ]
    },
    {
     "name": "stderr",
     "output_type": "stream",
     "text": [
      "100%|█████████████████████████████████████████████████████████████████████████████████████████████████████████████████████████| 390/390 [00:10<00:00, 38.80it/s]\n"
     ]
    },
    {
     "name": "stdout",
     "output_type": "stream",
     "text": [
      "○ 638+673 = 1311[1311]\n",
      "○ 190+536 = 726 [726 ]\n",
      "○ 64+863  = 927 [927 ]\n",
      "[99] Corrects 3 / 3\tloss: 0.07735516130924225\n",
      "Saved: network.state.pkl\n",
      "○ 897+819 = 1716[1716]\n",
      "○ 642+895 = 1537[1537]\n",
      "○ 721+239 = 960 [960 ]\n",
      "○ 55+360  = 415 [415 ]\n",
      "○ 810+725 = 1535[1535]\n",
      "○ 185+894 = 1079[1079]\n",
      "○ 864+958 = 1822[1822]\n",
      "○ 498+489 = 987 [987 ]\n",
      "× 7+450   = 550 [457 ]\n",
      "○ 707+914 = 1621[1621]\n",
      "○ 523+802 = 1325[1325]\n",
      "○ 254+980 = 1234[1234]\n",
      "○ 874+162 = 1036[1036]\n",
      "○ 303+441 = 744 [744 ]\n",
      "○ 826+902 = 1728[1728]\n",
      "○ 61+520  = 581 [581 ]\n",
      "○ 386+609 = 995 [995 ]\n",
      "○ 363+91  = 454 [454 ]\n",
      "○ 221+46  = 267 [267 ]\n",
      "○ 202+803 = 1005[1005]\n",
      "○ 720+174 = 894 [894 ]\n",
      "○ 199+863 = 1062[1062]\n",
      "○ 73+340  = 413 [413 ]\n",
      "○ 982+740 = 1722[1722]\n",
      "○ 878+829 = 1707[1707]\n",
      "○ 839+839 = 1678[1678]\n",
      "○ 837+307 = 1144[1144]\n",
      "○ 579+895 = 1474[1474]\n",
      "○ 683+733 = 1416[1416]\n",
      "○ 459+895 = 1354[1354]\n",
      "○ 635+247 = 882 [882 ]\n",
      "○ 128+900 = 1028[1028]\n",
      "○ 582+974 = 1556[1556]\n",
      "○ 475+634 = 1109[1109]\n",
      "○ 817+609 = 1426[1426]\n",
      "○ 386+495 = 881 [881 ]\n",
      "○ 709+215 = 924 [924 ]\n",
      "○ 613+27  = 640 [640 ]\n",
      "○ 134+107 = 241 [241 ]\n",
      "○ 820+109 = 929 [929 ]\n",
      "○ 564+432 = 996 [996 ]\n",
      "○ 638+685 = 1323[1323]\n",
      "○ 929+572 = 1501[1501]\n",
      "○ 120+262 = 382 [382 ]\n",
      "○ 997+778 = 1775[1775]\n",
      "○ 295+13  = 308 [308 ]\n",
      "○ 388+459 = 847 [847 ]\n",
      "○ 266+860 = 1126[1126]\n",
      "○ 121+108 = 229 [229 ]\n",
      "○ 615+346 = 961 [961 ]\n",
      "○ 469+598 = 1067[1067]\n",
      "○ 590+760 = 1350[1350]\n",
      "○ 435+562 = 997 [997 ]\n",
      "○ 848+47  = 895 [895 ]\n",
      "○ 361+678 = 1039[1039]\n",
      "○ 614+117 = 731 [731 ]\n",
      "○ 881+908 = 1789[1789]\n",
      "○ 752+889 = 1641[1641]\n",
      "○ 40+887  = 927 [927 ]\n",
      "○ 305+706 = 1011[1011]\n",
      "○ 695+906 = 1601[1601]\n",
      "○ 881+603 = 1484[1484]\n",
      "○ 353+522 = 875 [875 ]\n",
      "○ 205+804 = 1009[1009]\n",
      "○ 928+659 = 1587[1587]\n",
      "× 10+203  = 222 [213 ]\n",
      "○ 871+75  = 946 [946 ]\n",
      "○ 400+901 = 1301[1301]\n",
      "○ 493+952 = 1445[1445]\n",
      "○ 425+151 = 576 [576 ]\n",
      "○ 204+468 = 672 [672 ]\n",
      "○ 821+321 = 1142[1142]\n",
      "○ 839+20  = 859 [859 ]\n",
      "○ 726+150 = 876 [876 ]\n",
      "○ 105+974 = 1079[1079]\n",
      "○ 449+511 = 960 [960 ]\n",
      "○ 634+255 = 889 [889 ]\n",
      "○ 255+295 = 550 [550 ]\n",
      "○ 979+123 = 1102[1102]\n",
      "○ 242+91  = 333 [333 ]\n",
      "○ 107+524 = 631 [631 ]\n",
      "○ 787+987 = 1774[1774]\n",
      "○ 96+360  = 456 [456 ]\n",
      "○ 991+641 = 1632[1632]\n",
      "○ 554+953 = 1507[1507]\n",
      "○ 176+66  = 242 [242 ]\n",
      "○ 63+643  = 706 [706 ]\n",
      "○ 995+695 = 1690[1690]\n",
      "○ 895+993 = 1888[1888]\n",
      "○ 516+878 = 1394[1394]\n",
      "○ 619+574 = 1193[1193]\n",
      "○ 119+886 = 1005[1005]\n",
      "○ 973+974 = 1947[1947]\n",
      "○ 275+343 = 618 [618 ]\n",
      "○ 523+677 = 1200[1200]\n",
      "○ 83+247  = 330 [330 ]\n",
      "○ 381+925 = 1306[1306]\n",
      "○ 833+581 = 1414[1414]\n",
      "○ 878+184 = 1062[1062]\n",
      "○ 97+283  = 380 [380 ]\n",
      "Score: 98 / 100\tAccuracy: 0.98\n"
     ]
    }
   ],
   "source": [
    "program = Program2()\n",
    "if __name__ == '__main__':\n",
    "    program()"
   ]
  },
  {
   "cell_type": "code",
   "execution_count": 11,
   "metadata": {},
   "outputs": [
    {
     "name": "stdout",
     "output_type": "stream",
     "text": [
      "loss\n"
     ]
    },
    {
     "data": {
      "image/png": "[encoded data removed]",
      "text/plain": [
       "<Figure size 640x480 with 1 Axes>"
      ]
     },
     "metadata": {},
     "output_type": "display_data"
    }
   ],
   "source": [
    "%matplotlib inline\n",
    "import matplotlib.pyplot as plt\n",
    "\n",
    "print('loss')\n",
    "plt.plot(program.losses, label='loss')\n",
    "plt.legend\n",
    "plt.show()"
   ]
  }
 ],
 "metadata": {
  "kernelspec": {
   "display_name": "Python 3 (ipykernel)",
   "language": "python",
   "name": "python3"
  },
  "language_info": {
   "codemirror_mode": {
    "name": "ipython",
    "version": 3
   },
   "file_extension": ".py",
   "mimetype": "text/x-python",
   "name": "python",
   "nbconvert_exporter": "python",
   "pygments_lexer": "ipython3",
   "version": "3.9.15"
  }
 },
 "nbformat": 4,
 "nbformat_minor": 4
}
