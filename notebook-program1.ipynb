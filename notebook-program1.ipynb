{
 "cells": [
  {
   "cell_type": "code",
   "execution_count": 1,
   "metadata": {},
   "outputs": [],
   "source": [
    "## for comet\n",
    "#from comet_ml import Experiment\n",
    "\n",
    "import numpy\n",
    "from tqdm import tqdm\n",
    "from collections import OrderedDict\n",
    "from dataset import ptb\n",
    "import sys\n",
    "import os\n",
    "import pickle\n",
    "import random\n",
    "import datetime\n",
    "\n",
    "import matplotlib\n",
    "matplotlib.use('Agg')\n",
    "import matplotlib.pyplot as plt"
   ]
  },
  {
   "cell_type": "code",
   "execution_count": 2,
   "metadata": {},
   "outputs": [
    {
     "name": "stdout",
     "output_type": "stream",
     "text": [
      "Use gpu.\n"
     ]
    }
   ],
   "source": [
    "#device = 'cpu'\n",
    "device = 'gpu'\n",
    "\n",
    "np = numpy\n",
    "if device == 'gpu':\n",
    "    import cupy\n",
    "    import cupyx\n",
    "    np = cupy\n",
    "print(f'Use {device}.')"
   ]
  },
  {
   "cell_type": "code",
   "execution_count": 3,
   "metadata": {},
   "outputs": [],
   "source": [
    "def sigmoid(x):\n",
    "    return 1 / (1 + np.exp(-x))\n",
    "\n",
    "def softmax(x, ndim=-1):\n",
    "    x = x.astype('float64')\n",
    "    if x.ndim == -1:\n",
    "        ndim = len(x.shape) - 1\n",
    "    c = x.max()\n",
    "    exp_x = np.exp(x - c)\n",
    "    sum_exp_x = np.sum(exp_x, axis=ndim)\n",
    "    out = (exp_x.T / sum_exp_x).T\n",
    "    return out.astype('f')\n",
    "\n",
    "def cross_entropy_error(y, t, onehot=False):\n",
    "    if y.ndim == 1:\n",
    "        t = t.reshape(1, t.size)\n",
    "        y = y.reshape(1, y.size)\n",
    "    batch_size = y.shape[0]\n",
    "    if not onehot:\n",
    "        out = -np.sum(np.log(y[np.arange(batch_size), t] + 1e-7)) / batch_size\n",
    "    else:\n",
    "        out = -np.sum(np.dot(t, np.log(y + 1e-7))) / batch_size\n",
    "    return out\n",
    "\n",
    "def numerical_diff(f, x, i):\n",
    "    h = 1e-4\n",
    "    h_vec = np.zeros_like(x)\n",
    "    h_vec[i] = h\n",
    "    return (f(x + h_vec) - f(x - h_vec)) / (2*h)\n",
    "\n",
    "def numerical_diff2(f, x, i, j):\n",
    "    h = 1e-4\n",
    "    h_vec = np.zeros_like(x)\n",
    "    h_vec[i, j] = h\n",
    "    return (f(x + h_vec) - f(x - h_vec)) / (2*h)\n",
    "\n",
    "def numerical_gradient(f, x):\n",
    "    grad = np.zeros_like(x).astype(np.float128)\n",
    "    n, m = x.shape\n",
    "    for i in range(n):\n",
    "        for j in range(m):\n",
    "            grad[i, j] = numerical_diff2(f, x, i, j)\n",
    "    return grad\n",
    "\n",
    "def clip_grads(grads, max_norm):\n",
    "    total_norm = 0\n",
    "    for grad in grads:\n",
    "        total_norm += np.sum(grad ** 2)\n",
    "    total_norm = np.sqrt(total_norm)\n",
    "    rate = max_norm / (total_norm + 1e-6)\n",
    "    if rate < 1:\n",
    "        for grad in grads:\n",
    "            grad *= rate\n",
    "\n",
    "def to_cpu(x):\n",
    "    if type(x) == numpy.ndarray:\n",
    "        return x\n",
    "    return cupy.asnumpy(x)\n",
    "\n",
    "def to_gpu(x):\n",
    "    if type(x) == cupy.ndarray:\n",
    "        return x\n",
    "    return cupy.array(x)\n",
    "\n",
    "def to_device(x, device=device):\n",
    "    if device == 'gpu':\n",
    "        return to_gpu(x)\n",
    "    else:\n",
    "        return to_cpu(x)"
   ]
  },
  {
   "cell_type": "code",
   "execution_count": 4,
   "metadata": {},
   "outputs": [],
   "source": [
    "class Adam:\n",
    "    def __init__(self, shape, alpha=0.001, beta1=0.9, beta2=0.999, epsilon=10**(-8)):\n",
    "        self.alpha = alpha\n",
    "        self.beta1 = beta1\n",
    "        self.beta2 = beta2\n",
    "        self.epsilon = epsilon\n",
    "        self.m = np.zeros(shape)\n",
    "        self.v = np.zeros(shape)\n",
    "        self.t = 0\n",
    "\n",
    "    def update(self, w, dw):\n",
    "        self.t += 1\n",
    "        self.m = (self.beta1 * self.m) + (1 - self.beta1) * dw\n",
    "        self.v = (self.beta2 * self.v) + (1 - self.beta2) * dw**2\n",
    "        mh = self.m / (1 - self.beta1 ** self.t)\n",
    "        vh = self.v / (1 - self.beta2 ** self.t)\n",
    "        w -= self.alpha * (mh / (np.sqrt(vh) + self.epsilon))\n",
    "\n",
    "class AdamContainer:\n",
    "    def __init__(self, layers, alpha=0.001, beta1=0.9, beta2=0.999, epsilon=10**(-8)):\n",
    "        self.params = []\n",
    "        for params in [layer.params for layer in layers]:\n",
    "            for param in params:\n",
    "                self.params.append(param)\n",
    "        self.grads = []\n",
    "        for grads in [layer.grads for layer in layers]:\n",
    "            for grad in grads:\n",
    "                self.grads.append(grad)\n",
    "        self.adams = [Adam(param.shape, alpha, beta1, beta2, epsilon) for param in self.params]\n",
    "    \n",
    "    def update(self):\n",
    "        for adam, param, grad in zip(self.adams, self.params, self.grads):\n",
    "            adam.update(param, grad)"
   ]
  },
  {
   "cell_type": "code",
   "execution_count": 5,
   "metadata": {
    "scrolled": true
   },
   "outputs": [],
   "source": [
    "class BaseLayer:\n",
    "    def __init__(self):\n",
    "        self.params = None\n",
    "        self.grads = None\n",
    "        \n",
    "    def to_cpu(self):\n",
    "        for param in self.params:\n",
    "            param = to_cpu(param)\n",
    "        for grad in self.grads:\n",
    "            grad = to_cpu(grad)\n",
    "            \n",
    "    def to_gpu(self):\n",
    "        for param in self.params:\n",
    "            param = to_gpu(param)\n",
    "        for grad in self.grads:\n",
    "            grad = to_gpu(grad)\n",
    "\n",
    "class Affine(BaseLayer):\n",
    "    def __init__(self, w, b):\n",
    "        self.params = [w, b]\n",
    "        self.grads = [np.zeros_like(w), np.zeros_like(b)]\n",
    "    \n",
    "    def forward(self, x):\n",
    "        w, b = self.params\n",
    "        self.x = x\n",
    "        return np.dot(x, w) + b\n",
    "    \n",
    "    def backward(self, dout):\n",
    "        w = self.params[0]\n",
    "        dx = np.dot(dout, w.T)\n",
    "        self.grads[0] = self.dw = np.dot(self.x.T, dout)\n",
    "        self.grads[1] = self.db = np.sum(dout, axis=0)\n",
    "        return dx\n",
    "\n",
    "class TimeAffine(BaseLayer):\n",
    "    def __init__(self, w, b):\n",
    "        self.params = [w, b]\n",
    "        self.grads = [np.zeros_like(w), np.zeros_like(b)]\n",
    "        self.layers = None\n",
    "        self.cache = None\n",
    "        \n",
    "    def forward(self, xs):\n",
    "        w, b = self.params\n",
    "        N, T, D = xs.shape\n",
    "        D, V = w.shape\n",
    "        \n",
    "        out = np.empty((N, T, V), dtype='f')\n",
    "        self.layers = []\n",
    "        \n",
    "        for t in range(T):\n",
    "            layer = Affine(w, b)\n",
    "            out[:,t,:] = layer.forward(xs[:,t,:])\n",
    "            self.layers.append(layer)\n",
    "        \n",
    "        self.cache = (N, T, D, V)\n",
    "        return out\n",
    "    \n",
    "    def backward(self, dout):\n",
    "        N, T, D, V = self.cache\n",
    "        \n",
    "        out = np.empty((N, T, D), dtype='f')\n",
    "        dw = np.empty((D, T, V), dtype='f')\n",
    "        db = np.empty((T, V), dtype='f')\n",
    "        for t in range(T):\n",
    "            layer = self.layers[t]\n",
    "            out[:,t,:] = layer.backward(dout[:,t,:])\n",
    "            dw[:,t,:] = layer.dw\n",
    "            db[t,:] = layer.db\n",
    "        self.grads[0] = self.dw = dw.sum(axis=1)\n",
    "        self.grads[1] = self.db = db.sum(axis=0)\n",
    "        \n",
    "        return out\n",
    "\n",
    "class ReLU(BaseLayer):\n",
    "    def __init__(self):\n",
    "        self.params = []\n",
    "        self.grads = []\n",
    "    \n",
    "    def forward(self, x):\n",
    "        self.mask = (x <= 0)\n",
    "        out = x.copy()\n",
    "        out[self.mask] = 0\n",
    "        return out\n",
    "    \n",
    "    def backward(self, dout):\n",
    "        dout[self.mask] = 0\n",
    "        return dout\n",
    "\n",
    "class Sigmoid(BaseLayer):\n",
    "    def __init__(self):\n",
    "        self.params = []\n",
    "        self.grads = []\n",
    "        \n",
    "    def forward(self, x):\n",
    "        self.out = sigmoid(x)\n",
    "        return self.out\n",
    "    \n",
    "    def backward(self, dout):\n",
    "        dx = dout * self.out * (1 - self.out)\n",
    "        return dx\n",
    "    \n",
    "class Softmax(BaseLayer):\n",
    "    def __init__(self):\n",
    "        self.params = []\n",
    "        self.grads = []\n",
    "        \n",
    "    def forward(self, x):\n",
    "        self.y = softmax(x)\n",
    "        return self.y\n",
    "    \n",
    "    def backward(self, dout):\n",
    "        dx = self.y * dout\n",
    "        sumdx = np.sum(dx, axis=1, keepdims=True)\n",
    "        dx -= self.y * sumdx\n",
    "        return dx\n",
    "\n",
    "class SoftmaxWithLoss(BaseLayer):\n",
    "    def __init__(self):\n",
    "        self.params = []\n",
    "        self.grads = []\n",
    "        \n",
    "    def forward(self, x, t):\n",
    "        self.t = t\n",
    "        self.y = softmax(x)\n",
    "        self.loss = cross_entropy_error(self.y, self.t)\n",
    "        return self.loss\n",
    "    \n",
    "    def backward(self, dout=1, onehot=False):\n",
    "        batch_size = self.t.shape[0]\n",
    "        if not onehot:\n",
    "            dx = self.y.copy()\n",
    "            dx[np.arange(batch_size), self.t] -= 1\n",
    "            dx *= dout\n",
    "            dx = dx / batch_size\n",
    "        else:\n",
    "            dx = (self.y - self.t) / batch_size\n",
    "        return dx\n",
    "\n",
    "class TimeSoftmaxWithLoss(BaseLayer):\n",
    "    def __init__(self):\n",
    "        self.params = []\n",
    "        self.grads = []\n",
    "        self.layers = None\n",
    "        self.cache = None\n",
    "        \n",
    "    def forward(self, xs, ts):\n",
    "        N, T, V = xs.shape\n",
    "        \n",
    "        # if ts is one-hot vector\n",
    "        if ts.ndim == 3:\n",
    "            ts = ts.argmax(axis=2).reshape(N, T)\n",
    "        \n",
    "        ys = np.empty(T, dtype='f')\n",
    "        self.layers = []\n",
    "        \n",
    "        for t in range(T):\n",
    "            layer = SoftmaxWithLoss()\n",
    "            ys[t] = layer.forward(xs[:,t,:], ts[:,t])\n",
    "            self.layers.append(layer)\n",
    "            \n",
    "        loss = ys.sum() / T\n",
    "        \n",
    "        self.cache = (N, T, V)\n",
    "        return loss\n",
    "    \n",
    "    def backward(self):\n",
    "        N, T, V = self.cache\n",
    "        dx = np.empty((N, T, V), dtype='f')\n",
    "        for t in range(T):\n",
    "            layer = self.layers[t]\n",
    "            dx[:,t,:] = layer.backward()\n",
    "        self.dx = dx / T\n",
    "        \n",
    "        return self.dx\n",
    "\n",
    "class Dropout(BaseLayer):\n",
    "    def __init__(self, ratio=0.5):\n",
    "        self.params = []\n",
    "        self.grads = []\n",
    "        self.ratio = ratio\n",
    "        self.mask = None\n",
    "        self.train = True\n",
    "\n",
    "    def forward(self, x):\n",
    "        if self.train:\n",
    "            self.mask = np.random.rand(*x.shape) > self.ratio\n",
    "            self.mask = self.mask.astype('f') / (1.0 - self.ratio)\n",
    "            return x * self.mask\n",
    "        else:\n",
    "            return x\n",
    "\n",
    "    def backward(self, dout):\n",
    "        return dout * self.mask\n",
    "\n",
    "class Embedding(BaseLayer):\n",
    "    def __init__(self, w):\n",
    "        self.params = [w]\n",
    "        self.grads = [np.zeros_like(w)]\n",
    "        self.idx = None\n",
    "        \n",
    "    def forward(self, idx):\n",
    "        w = self.params[0]\n",
    "        self.idx = idx\n",
    "        return w[idx]\n",
    "    \n",
    "    def backward(self, dout):\n",
    "        if device == 'gpu':\n",
    "            add_at = cupyx.scatter_add\n",
    "        else:\n",
    "            add_at = np.add.at\n",
    "            \n",
    "        dw = self.grads[0]\n",
    "        dw[...] = 0\n",
    "        add_at(dw, self.idx, dout)\n",
    "        self.grads[0] = self.dw = dw\n",
    "        return None\n",
    "\n",
    "class TimeEmbedding(BaseLayer):\n",
    "    def __init__(self, w):\n",
    "        self.params = [w]\n",
    "        self.grads = [np.zeros_like(w)]\n",
    "        self.layers = None\n",
    "        \n",
    "    def forward(self, xs):\n",
    "        w = self.params[0]\n",
    "        N, T = xs.shape\n",
    "        V, D = w.shape\n",
    "        \n",
    "        out = np.empty((N, T, D), dtype='f')\n",
    "        self.layers = []\n",
    "        \n",
    "        for t in range(T):\n",
    "            layer = Embedding(w)\n",
    "            out[:,t,:] = layer.forward(xs[:,t])\n",
    "            self.layers.append(layer)\n",
    "            \n",
    "        return out\n",
    "    \n",
    "    def backward(self, dout):\n",
    "        N, T, D = dout.shape\n",
    "        \n",
    "        dw = 0\n",
    "        for t in range(T):\n",
    "            layer = self.layers[t]\n",
    "            layer.backward(dout[:,t,:])\n",
    "            dw += layer.dw\n",
    "        self.grads[0] = self.dw = dw\n",
    "        \n",
    "        return None\n",
    "\n",
    "class RNN(BaseLayer):\n",
    "    def __init__(self, wx, wh, b):\n",
    "        self.params = [wx, wh, b]\n",
    "        self.grads = [np.zeros_like(wx), np.zeros_like(wh), np.zeros_like(b)]\n",
    "    \n",
    "    def forward(self, x, h_prev):\n",
    "        wx, wh, b = self.params\n",
    "        t = np.dot(h_prev, wh) + np.dot(x, wx) + b\n",
    "        h_next = np.tanh(t)\n",
    "        self.cache = (x, h_prev, h_next)\n",
    "        return h_next\n",
    "    \n",
    "    def backward(self, dh_next):\n",
    "        wx, wh, b = self.params\n",
    "        x, h_prev, h_next = self.cache\n",
    "        \n",
    "        dt = dh_next * (1 - dh_next ** 2)\n",
    "        db = np.sum(dt, axis=0)\n",
    "        dwh = np.dot(h_prev.T, dt)\n",
    "        dh_prev = np.dot(dt, wh.T)\n",
    "        dwx = np.dot(x.T, dt)\n",
    "        dx = np.dot(dt, wx.T)\n",
    "        self.grads[0][...] = self.dwx = dwx\n",
    "        self.grads[1][...] = self.dwh = dwh\n",
    "        self.grads[2][...] = self.db = db\n",
    "        \n",
    "        return dx, dh_prev\n",
    "\n",
    "class TimeRNN(BaseLayer):\n",
    "    def __init__(self, wx, wh, b, stateful=False):\n",
    "        self.params = [wx, wh, b]\n",
    "        self.grads = [np.zeros_like(wx), np.zeros_like(wh), np.zeros_like(b)]\n",
    "        self.layers = None\n",
    "        self.h, self.dh = None, None\n",
    "        self.stateful = stateful\n",
    "        \n",
    "    def set_state(self, h):\n",
    "        self.h = h\n",
    "        \n",
    "    def reset_state(self):\n",
    "        self.h = None\n",
    "        \n",
    "    def forward(self, xs):\n",
    "        wx, wh, b = self.params\n",
    "        N, T, D = xs.shape\n",
    "        D, H = wx.shape\n",
    "        \n",
    "        self.layers = []\n",
    "        hs = np.empty((N, T, H), dtype='f')\n",
    "        if not self.stateful or self.h is None:\n",
    "            self.h = np.zeros((N, H), dtype='f')\n",
    "        \n",
    "        for t in range(T):\n",
    "            layer = RNN(*self.params)\n",
    "            self.h = layer.forward(xs[:,t,:], self.h)\n",
    "            hs[:,t,:] = self.h\n",
    "            self.layers.append(layer)\n",
    "        \n",
    "        return hs\n",
    "    \n",
    "    def backward(self, dhs):\n",
    "        wx, wh, b  = self.params\n",
    "        N, T, H = dhs.shape\n",
    "        D, H = wx.shape\n",
    "        \n",
    "        dxs = np.empty((N, T, D), dtype='f')\n",
    "        dh = 0\n",
    "        grads = [0, 0, 0]\n",
    "        for t in reversed(range(T)):\n",
    "            layer = self.layers[t]\n",
    "            dx, dh = layer.backward(dhs[:,t,:] + dh)\n",
    "            dxs[:,t,:] = dx\n",
    "            for i, grad in enumerate(layer.grads):\n",
    "                grads[i] += grad\n",
    "        \n",
    "        for i, grad in enumerate(grads):\n",
    "            self.grads[i][...] = grad\n",
    "        self.dwx = self.grads[0]\n",
    "        self.dwh = self.grads[1]\n",
    "        self.db = self.grads[2]\n",
    "        self.dh = dh\n",
    "        \n",
    "        return dxs\n",
    "\n",
    "class LSTM(BaseLayer):\n",
    "    def __init__(self, wx, wh, b):\n",
    "        self.params = [wx, wh, b]\n",
    "        self.grads = [np.zeros_like(wx), np.zeros_like(wh), np.zeros_like(b)]\n",
    "        self.cache = None\n",
    "    \n",
    "    def forward(self, x, h_prev, c_prev):\n",
    "        wx, wh, b = self.params\n",
    "        N, H = h_prev.shape\n",
    "        \n",
    "        A = np.dot(h_prev, wh) + np.dot(x, wx) + b\n",
    "        \n",
    "        f = A[:, :H]\n",
    "        g = A[:, H:2*H]\n",
    "        i = A[:, 2*H:3*H]\n",
    "        o = A[:, 3*H:]\n",
    "        \n",
    "        f = sigmoid(f)\n",
    "        g = np.tanh(g)\n",
    "        i = sigmoid(i)\n",
    "        o = sigmoid(o)\n",
    "        \n",
    "        c_next = f * c_prev + g * i\n",
    "        h_next = o * np.tanh(c_next)\n",
    "        \n",
    "        self.cache = (x, h_prev, c_prev,i, f, g, o, c_next)\n",
    "        return h_next, c_next\n",
    "    \n",
    "    def backward(self, dh_next, dc_next):\n",
    "        wx, wh, b = self.params\n",
    "        x, h_prev, c_prev, i, f, g, o, c_next = self.cache\n",
    "        \n",
    "        tanh_c_next = np.tanh(c_next)\n",
    "        ds = dc_next + (dh_next * o) * (1 - tanh_c_next ** 2)\n",
    "        \n",
    "        dc_prev = ds * f\n",
    "        di = ds * g\n",
    "        df = ds * c_prev\n",
    "        do = dh_next * tanh_c_next\n",
    "        dg = ds * i\n",
    "        \n",
    "        di *= i * (1 - i)\n",
    "        df *= f * (1 - f)\n",
    "        do *= o * (1 - o)\n",
    "        dg *= 1 - g ** 2\n",
    "        \n",
    "        dA = np.hstack((df, dg, di, do))\n",
    "        \n",
    "        dwh = np.dot(h_prev.T, dA)\n",
    "        dh_prev = np.dot(dA, wh.T)\n",
    "        dwx = np.dot(x.T, dA)\n",
    "        dx = np.dot(dA, wx.T)\n",
    "        db = dA.sum(axis=0)\n",
    "        \n",
    "        self.grads[0][...] = self.dwx = dwx\n",
    "        self.grads[1][...] = self.dwh = dwh\n",
    "        self.grads[2][...] = self.db = db\n",
    "        \n",
    "        return dx, dh_prev, dc_prev\n",
    "\n",
    "class TimeLSTM(BaseLayer):\n",
    "    def __init__(self, wx, wh, b, stateful=False):\n",
    "        self.params = [wx, wh, b]\n",
    "        self.grads = [np.zeros_like(wx), np.zeros_like(wh), np.zeros_like(b)]\n",
    "        self.layers = None\n",
    "        self.h, self.dh, self.c = None, None, None\n",
    "        self.stateful = stateful\n",
    "        \n",
    "    def set_state(self, h, c=None):\n",
    "        self.h, self.c = h, c\n",
    "        \n",
    "    def reset_state(self):\n",
    "        self.h, self.c = None, None\n",
    "        \n",
    "    def forward(self, xs):\n",
    "        wx, wh, b = self.params\n",
    "        N, T, D = xs.shape\n",
    "        H = wh.shape[0]\n",
    "        \n",
    "        self.layers = []\n",
    "        hs = np.empty((N, T, H), dtype='f')\n",
    "        if not self.stateful or self.h is None:\n",
    "            self.h = np.zeros((N, H), dtype='f')\n",
    "        if not self.stateful or self.c is None:\n",
    "            self.c = np.zeros((N, H), dtype='f')\n",
    "        \n",
    "        for t in range(T):\n",
    "            layer = LSTM(*self.params)\n",
    "            self.h, self.c = layer.forward(xs[:,t,:], self.h, self.c)\n",
    "            hs[:,t,:] = self.h\n",
    "            self.layers.append(layer)\n",
    "        \n",
    "        return hs\n",
    "    \n",
    "    def backward(self, dhs):\n",
    "        wx, wh, b  = self.params\n",
    "        N, T, H = dhs.shape\n",
    "        D = wx.shape[0]\n",
    "        \n",
    "        dxs = np.empty((N, T, D), dtype='f')\n",
    "        dh, dc = 0, 0\n",
    "        grads = [0, 0, 0]\n",
    "        for t in reversed(range(T)):\n",
    "            layer = self.layers[t]\n",
    "            dx, dh, dc = layer.backward(dhs[:,t,:] + dh, dc)\n",
    "            dxs[:,t,:] = dx\n",
    "            for i, grad in enumerate(layer.grads):\n",
    "                grads[i] += grad\n",
    "        \n",
    "        for i, grad in enumerate(grads):\n",
    "            self.grads[i][...] = grad\n",
    "        self.dwx = self.grads[0]\n",
    "        self.dwh = self.grads[1]\n",
    "        self.db = self.grads[2]\n",
    "        self.dh = dh\n",
    "        \n",
    "        return dxs\n",
    "\n",
    "class BaseNetwork:\n",
    "    def __init__(self):\n",
    "        self.layers = None\n",
    "        self.lastLayer = None\n",
    "        self.adam = None\n",
    "        \n",
    "    def train(self, x, t):\n",
    "        # forward\n",
    "        loss = self.loss(x, t)\n",
    "        \n",
    "        # backward\n",
    "        dout = self.lastLayer.backward()\n",
    "        layers = list(self.layers.values())\n",
    "        layers.reverse()\n",
    "        for layer in layers:\n",
    "            dout = layer.backward(dout)\n",
    "        \n",
    "        self.update()\n",
    "            \n",
    "        return loss\n",
    "    \n",
    "    def update(self):\n",
    "        for grads in [layer.grads for layer in self.layers.values()]:\n",
    "            clip_grads(grads, self.max_grad)\n",
    "        self.adam.update()\n",
    "    \n",
    "    def save(self, state_file_name = 'network.state.pkl'):\n",
    "        params = self.adam.params.copy()\n",
    "        for i, param in enumerate(params):\n",
    "            params[i] = to_cpu(params[i])\n",
    "            \n",
    "        with open(state_file_name, 'wb') as f:\n",
    "            pickle.dump(params, f)\n",
    "            print(f'Saved: {state_file_name}')\n",
    "            \n",
    "    def load(self, state_file_name = 'network.state.pkl'):\n",
    "        if os.path.exists(state_file_name):\n",
    "            with open(state_file_name, 'rb') as f:\n",
    "                params = pickle.load(f)\n",
    "                for i, param in enumerate(params):\n",
    "                    self.adam.params[i][:] = to_device(param, device)\n",
    "                print(f'Loaded: {state_file_name}')"
   ]
  },
  {
   "cell_type": "code",
   "execution_count": 6,
   "metadata": {},
   "outputs": [],
   "source": [
    "class Network(BaseNetwork):\n",
    "    def __init__(self, vocab_size, wordvec_size, hidden_size, max_grad=5.0, dropout_ratio=0.1):\n",
    "        V, D, H = vocab_size, wordvec_size, hidden_size\n",
    "        rn = np.random.randn\n",
    "        self.max_grad = max_grad\n",
    "        \n",
    "        embed_w = (rn(V, D) / 100).astype('f')\n",
    "        lstm1_wx = (rn(D, 4 * H) / np.sqrt(D)).astype('f')\n",
    "        lstm1_wh = (rn(H, 4 * H) / np.sqrt(H)).astype('f')\n",
    "        lstm1_b = np.zeros(4 * H).astype('f')\n",
    "        lstm2_wx = (rn(H, 4 * H) / np.sqrt(H)).astype('f')\n",
    "        lstm2_wh = (rn(H, 4 * H) / np.sqrt(H)).astype('f')\n",
    "        lstm2_b = np.zeros(4 * H).astype('f')\n",
    "        ## if use weight tying (require: H == D), comment-out this affine_w\n",
    "        affine_w = (rn(H, V) / np.sqrt(H)).astype('f')\n",
    "        affine_b = np.zeros(V).astype('f')\n",
    "        \n",
    "        self.layers = OrderedDict()\n",
    "        self.layers['Embedding'] = TimeEmbedding(embed_w)\n",
    "        self.layers['Dropout1'] = Dropout(dropout_ratio)\n",
    "        self.layers['LSTM1'] = TimeLSTM(lstm1_wx, lstm1_wh, lstm1_b, stateful=True)\n",
    "        self.layers['Dropout2'] = Dropout(dropout_ratio)\n",
    "        self.layers['LSTM2'] = TimeLSTM(lstm2_wx, lstm2_wh, lstm2_b, stateful=True)\n",
    "        self.layers['Dropout3'] = Dropout(dropout_ratio)\n",
    "        self.layers['Affine'] = TimeAffine(affine_w, affine_b)\n",
    "        #self.layers['Affine'] = TimeAffine(embed_w.T, affine_b)  # weight tying\n",
    "        self.lastLayer = TimeSoftmaxWithLoss()\n",
    "        \n",
    "        self.lstm_layers = [self.layers['LSTM1'], self.layers['LSTM2']]\n",
    "        self.drop_layers = [self.layers['Dropout1'], self.layers['Dropout2'], self.layers['Dropout3']]\n",
    "        \n",
    "        self.adam = AdamContainer(list(self.layers.values()))\n",
    "        \n",
    "    def predict(self, x, train=False):\n",
    "        for layer in self.drop_layers:\n",
    "            layer.train = train\n",
    "        for layer in self.layers.values():\n",
    "            x = layer.forward(x)\n",
    "        return x\n",
    "    \n",
    "    def loss(self, x, t, train=True):\n",
    "        y = self.predict(x, train)\n",
    "        return self.lastLayer.forward(y, t)\n",
    "    \n",
    "    def reset_rnn_state(self):\n",
    "        for layer in self.lstm_layers:\n",
    "            layer.reset_state()"
   ]
  },
  {
   "cell_type": "code",
   "execution_count": 7,
   "metadata": {},
   "outputs": [],
   "source": [
    "def load_data(file_path=None):\n",
    "    if file_path is None or not os.path.exists(file_path):\n",
    "        return ptb.load_data('train')\n",
    "    \n",
    "    words = (open(file_path).read().translate(\n",
    "                str.maketrans({',':'','.':'','-':'',\"'\":'',':':'',';':'','!':'','?':''}))\n",
    "                .lower().strip().split())\n",
    "\n",
    "    word_to_id = {}\n",
    "    id_to_word = {}\n",
    "    for i, word in enumerate(words):\n",
    "        if word not in word_to_id:\n",
    "            tmp_id = len(word_to_id)\n",
    "            word_to_id[word] = tmp_id\n",
    "            id_to_word[tmp_id] = word\n",
    "            \n",
    "    corpus = np.array([word_to_id[w] for w in words])\n",
    "\n",
    "    return corpus, word_to_id, id_to_word\n",
    "\n",
    "def make_corpus(str):\n",
    "    corpus = []\n",
    "    word_to_id = {}\n",
    "    id_to_word = {}\n",
    "    for word in str.lower().strip().split():\n",
    "        if word not in word_to_id:\n",
    "            tmp_id = len(word_to_id)\n",
    "            word_to_id[word] = tmp_id\n",
    "            id_to_word[tmp_id] = word\n",
    "        corpus.append(word_to_id[word])\n",
    "    return corpus, word_to_id, id_to_word"
   ]
  },
  {
   "cell_type": "code",
   "execution_count": 8,
   "metadata": {},
   "outputs": [],
   "source": [
    "def cos_similarity(x, y):\n",
    "    x = x / np.sqrt(np.sum(x ** 2))\n",
    "    y = y / np.sqrt(np.sum(y ** 2))\n",
    "    return np.dot(x, y)\n",
    "\n",
    "def most_similar(word_to_id, id_to_word, word_matrix, queries=['you', 'say', 'good'], top=5):\n",
    "    for query in queries:\n",
    "        if query not in word_to_id:\n",
    "            print(f'{query} is not found.')\n",
    "            continue\n",
    "\n",
    "        print(f'\\n{query}')\n",
    "        query_id = word_to_id[query]\n",
    "        query_vec = word_matrix[query_id]\n",
    "\n",
    "        vocab_size = len(word_matrix)\n",
    "        similarity = np.zeros(vocab_size)\n",
    "        for i in range(vocab_size):\n",
    "            similarity[i] = cos_similarity(word_matrix[i], query_vec)\n",
    "\n",
    "        count = 0\n",
    "        for i in (-1 * similarity).argsort():\n",
    "            if id_to_word[i.item()] == query:\n",
    "                continue\n",
    "            print(f' {id_to_word[i.item()]}: {similarity[i.item()]}')\n",
    "            count += 1\n",
    "            if count >= top:\n",
    "                break\n",
    "\n",
    "def generate_seq(network, start_id, sample_size=100):\n",
    "    word_ids = [start_id]\n",
    "    \n",
    "    x = start_id\n",
    "    while len(word_ids) < sample_size:\n",
    "        x = np.array(x).reshape(1,1)\n",
    "        score = network.predict(x)\n",
    "        p = softmax(score.flatten())\n",
    "        x = np.random.choice(len(p), size=1, p=p)\n",
    "        word_ids.append(x.item())\n",
    "        \n",
    "    return word_ids\n",
    "\n",
    "def print_generate_seq(network, word_to_id, id_to_word, start_word='you', load_state=True):\n",
    "    start_id = word_to_id[start_word]\n",
    "    network.reset_rnn_state()\n",
    "    word_ids = generate_seq(network, start_id)\n",
    "    network.reset_rnn_state()\n",
    "    txt = ' '.join([id_to_word[i] for i in word_ids])\n",
    "    txt = txt.replace('<eos>', '.\\n')\n",
    "    print(txt)"
   ]
  },
  {
   "cell_type": "code",
   "execution_count": 9,
   "metadata": {},
   "outputs": [],
   "source": [
    "class Program1:\n",
    "    def __init__(self):\n",
    "        self.params = OrderedDict({'batch_size': 64, 'corpus_size': 202646,\n",
    "                                  'wordvec_size': 512, 'hidden_size': 512,\n",
    "                                  'time_size': 32, 'max_epoch': 100})\n",
    "        self.losses = []\n",
    "        self.ppl_list = []\n",
    "        \n",
    "    def __call__(self):\n",
    "        ## for comet\n",
    "        #experiment = Experiment()\n",
    "        #experiment.log_parameters(self.params)\n",
    "        \n",
    "        corpus, word_to_id, id_to_word = load_data('dataset/tinyshakespare.txt')\n",
    "        #corpus, word_to_id, id_to_word = load_data()\n",
    "        print(f'max_corpus_size: {len(corpus)}')\n",
    "        corpus = corpus[:self.params['corpus_size']]\n",
    "        self.params['corpus_size'] = len(corpus)\n",
    "        vocab_size = int(max(corpus) + 1)\n",
    "        self.params['vocab_size'] = vocab_size\n",
    "        \n",
    "        self.corpus = corpus\n",
    "        self.word_to_id = word_to_id\n",
    "        self.id_to_word = id_to_word\n",
    "        \n",
    "        xs = corpus[:-1]\n",
    "        ts = corpus[1:]\n",
    "        data_size = len(xs)\n",
    "        \n",
    "        for key in self.params.keys() :\n",
    "            print(f'{key}: {self.params[key]}')\n",
    "        batch_size, corpus_size, wordvec_size, hidden_size, time_size, max_epoch, vocab_size = self.params.values()\n",
    "\n",
    "        self.net = Network(vocab_size, wordvec_size, hidden_size)\n",
    "        self.net.load()\n",
    "        \n",
    "        print()\n",
    "        print_generate_seq(self.net, word_to_id, id_to_word)\n",
    "        print()\n",
    "        most_similar(word_to_id, id_to_word, self.net.layers['Embedding'].params[0])\n",
    "        print()\n",
    "        \n",
    "        max_iters = data_size // (batch_size * time_size)\n",
    "        time_idx = 0\n",
    "        total_loss = 0\n",
    "        loss_count = 0\n",
    "        \n",
    "        jump = (corpus_size - 1) // batch_size\n",
    "        offsets = [i * jump for i in range(batch_size)]\n",
    "        \n",
    "        for epoch in range(max_epoch):\n",
    "            for ite in tqdm(range(max_iters)):\n",
    "                batch_x = np.empty((batch_size, time_size), dtype='i')\n",
    "                batch_t = np.empty((batch_size, time_size), dtype='i')\n",
    "        \n",
    "                for t in range(time_size):\n",
    "                    for i, offset in enumerate(offsets):\n",
    "                        batch_x[i, t] = xs[(offset + time_idx) % data_size]\n",
    "                        batch_t[i, t] = ts[(offset + time_idx) % data_size]\n",
    "                    time_idx += 1\n",
    "                \n",
    "                loss = self.net.train(batch_x, batch_t)\n",
    "                self.losses.append(loss.tolist())\n",
    "                total_loss += loss\n",
    "                loss_count += 1\n",
    "                \n",
    "                ## for comet\n",
    "                #experiment.log_metric('loss', loss, step=epoch*max_iters-(max_iters-ite))\n",
    "            \n",
    "            ppl = float(np.exp(total_loss / loss_count))\n",
    "            print(f'| epoch {epoch+1} | total_loss {total_loss} | perplexity {ppl}')\n",
    "            self.ppl_list.append(ppl)\n",
    "            if len(self.ppl_list) > 1 and min(self.ppl_list[:-1]) >= ppl:\n",
    "                self.net.save(f'network.state.ppl_min.pkl')\n",
    "            \n",
    "            time_idx, total_loss, loss_count = 0, 0, 0\n",
    "            \n",
    "            ## for comet\n",
    "            #experiment.log_metric('perplexity', ppl, step=epoch*max_iters)\n",
    "        \n",
    "        print()\n",
    "        print_generate_seq(self.net, word_to_id, id_to_word)\n",
    "        print()\n",
    "        most_similar(word_to_id, id_to_word, self.net.layers['Embedding'].params[0])\n",
    "        \n",
    "        self.net.save()\n",
    "\n",
    "        ## for comet\n",
    "        #experiment.end()"
   ]
  },
  {
   "cell_type": "code",
   "execution_count": 10,
   "metadata": {},
   "outputs": [
    {
     "name": "stdout",
     "output_type": "stream",
     "text": [
      "max_corpus_size: 202646\n",
      "batch_size: 64\n",
      "corpus_size: 202646\n",
      "wordvec_size: 512\n",
      "hidden_size: 512\n",
      "time_size: 32\n",
      "max_epoch: 100\n",
      "vocab_size: 12848\n",
      "\n",
      "you severals sacrifices taskd woodville christophero shilling sands perverse betid flourishd tuners medler peaces stored treasury staring prayed integrity falconbridge taste agenor fiddlestick trifling pardond grief mercutio betrothd put doubted distressd joint wagoner arrested satisfy dreaded holier digest jacob between signet fares drugs fatherinlaw lieutenant cannons dallied answer therefore song outdares signories kentishmen holdinganchor bespice speech paltering iv mammet mean complete herd food twangling hurdle wrung condemn dependency shrouds bagot enfoldings hearkens losses coursers nicely leicestershire gibingly forms unfurnish fellowships open wonderd said ages flatter urgent upstaringthen dog handed sparkling blusters already deed if forges tiger looking debts forego digressing\n",
      "\n",
      "\n",
      "you\n",
      " conferring: 0.1741846203804016\n",
      " play: 0.17240743339061737\n",
      " plausible: 0.14684318006038666\n",
      " pelting: 0.1463770717382431\n",
      " robert: 0.14430968463420868\n",
      "\n",
      "say\n",
      " chances: 0.19400814175605774\n",
      " ithere: 0.17486344277858734\n",
      " xanthippe: 0.16837891936302185\n",
      " boast: 0.16375279426574707\n",
      " anna: 0.1627153754234314\n",
      "\n",
      "good\n",
      " tickle: 0.16180355846881866\n",
      " sung: 0.1558316946029663\n",
      " desirers: 0.15550801157951355\n",
      " awakes: 0.14598330855369568\n",
      " ely: 0.14296071231365204\n",
      "\n"
     ]
    },
    {
     "name": "stderr",
     "output_type": "stream",
     "text": [
      "100%|███████████████████████████████████████████████████████████████████████████████████████████████████████████████████████████| 98/98 [00:23<00:00,  4.26it/s]\n"
     ]
    },
    {
     "name": "stdout",
     "output_type": "stream",
     "text": [
      "| epoch 1 | total_loss 848.32958984375 | perplexity 5746.94970703125\n"
     ]
    },
    {
     "name": "stderr",
     "output_type": "stream",
     "text": [
      "100%|███████████████████████████████████████████████████████████████████████████████████████████████████████████████████████████| 98/98 [00:24<00:00,  4.02it/s]\n"
     ]
    },
    {
     "name": "stdout",
     "output_type": "stream",
     "text": [
      "| epoch 2 | total_loss 841.87255859375 | perplexity 5380.49755859375\n",
      "Saved: network.state.ppl_min.pkl\n"
     ]
    },
    {
     "name": "stderr",
     "output_type": "stream",
     "text": [
      "100%|███████████████████████████████████████████████████████████████████████████████████████████████████████████████████████████| 98/98 [00:25<00:00,  3.90it/s]\n"
     ]
    },
    {
     "name": "stdout",
     "output_type": "stream",
     "text": [
      "| epoch 3 | total_loss 841.6493530273438 | perplexity 5368.25830078125\n",
      "Saved: network.state.ppl_min.pkl\n"
     ]
    },
    {
     "name": "stderr",
     "output_type": "stream",
     "text": [
      "100%|███████████████████████████████████████████████████████████████████████████████████████████████████████████████████████████| 98/98 [00:26<00:00,  3.69it/s]\n"
     ]
    },
    {
     "name": "stdout",
     "output_type": "stream",
     "text": [
      "| epoch 4 | total_loss 841.0814208984375 | perplexity 5337.236328125\n",
      "Saved: network.state.ppl_min.pkl\n"
     ]
    },
    {
     "name": "stderr",
     "output_type": "stream",
     "text": [
      "100%|███████████████████████████████████████████████████████████████████████████████████████████████████████████████████████████| 98/98 [00:26<00:00,  3.71it/s]\n"
     ]
    },
    {
     "name": "stdout",
     "output_type": "stream",
     "text": [
      "| epoch 5 | total_loss 839.991943359375 | perplexity 5278.2314453125\n",
      "Saved: network.state.ppl_min.pkl\n"
     ]
    },
    {
     "name": "stderr",
     "output_type": "stream",
     "text": [
      "100%|███████████████████████████████████████████████████████████████████████████████████████████████████████████████████████████| 98/98 [00:27<00:00,  3.56it/s]\n"
     ]
    },
    {
     "name": "stdout",
     "output_type": "stream",
     "text": [
      "| epoch 6 | total_loss 839.78369140625 | perplexity 5267.02783203125\n",
      "Saved: network.state.ppl_min.pkl\n"
     ]
    },
    {
     "name": "stderr",
     "output_type": "stream",
     "text": [
      "100%|███████████████████████████████████████████████████████████████████████████████████████████████████████████████████████████| 98/98 [00:28<00:00,  3.49it/s]\n"
     ]
    },
    {
     "name": "stdout",
     "output_type": "stream",
     "text": [
      "| epoch 7 | total_loss 839.4341430664062 | perplexity 5248.275390625\n",
      "Saved: network.state.ppl_min.pkl\n"
     ]
    },
    {
     "name": "stderr",
     "output_type": "stream",
     "text": [
      "100%|███████████████████████████████████████████████████████████████████████████████████████████████████████████████████████████| 98/98 [00:30<00:00,  3.22it/s]\n"
     ]
    },
    {
     "name": "stdout",
     "output_type": "stream",
     "text": [
      "| epoch 8 | total_loss 838.4376220703125 | perplexity 5195.17578125\n",
      "Saved: network.state.ppl_min.pkl\n"
     ]
    },
    {
     "name": "stderr",
     "output_type": "stream",
     "text": [
      "100%|███████████████████████████████████████████████████████████████████████████████████████████████████████████████████████████| 98/98 [00:30<00:00,  3.24it/s]\n"
     ]
    },
    {
     "name": "stdout",
     "output_type": "stream",
     "text": [
      "| epoch 9 | total_loss 837.173828125 | perplexity 5128.61083984375\n",
      "Saved: network.state.ppl_min.pkl\n"
     ]
    },
    {
     "name": "stderr",
     "output_type": "stream",
     "text": [
      "100%|███████████████████████████████████████████████████████████████████████████████████████████████████████████████████████████| 98/98 [00:29<00:00,  3.31it/s]\n"
     ]
    },
    {
     "name": "stdout",
     "output_type": "stream",
     "text": [
      "| epoch 10 | total_loss 835.77734375 | perplexity 5056.04736328125\n",
      "Saved: network.state.ppl_min.pkl\n"
     ]
    },
    {
     "name": "stderr",
     "output_type": "stream",
     "text": [
      "100%|███████████████████████████████████████████████████████████████████████████████████████████████████████████████████████████| 98/98 [00:35<00:00,  2.75it/s]\n"
     ]
    },
    {
     "name": "stdout",
     "output_type": "stream",
     "text": [
      "| epoch 11 | total_loss 834.5205688476562 | perplexity 4991.62255859375\n",
      "Saved: network.state.ppl_min.pkl\n"
     ]
    },
    {
     "name": "stderr",
     "output_type": "stream",
     "text": [
      "100%|███████████████████████████████████████████████████████████████████████████████████████████████████████████████████████████| 98/98 [00:30<00:00,  3.26it/s]\n"
     ]
    },
    {
     "name": "stdout",
     "output_type": "stream",
     "text": [
      "| epoch 12 | total_loss 833.416748046875 | perplexity 4935.712890625\n",
      "Saved: network.state.ppl_min.pkl\n"
     ]
    },
    {
     "name": "stderr",
     "output_type": "stream",
     "text": [
      "100%|███████████████████████████████████████████████████████████████████████████████████████████████████████████████████████████| 98/98 [00:32<00:00,  3.05it/s]\n"
     ]
    },
    {
     "name": "stdout",
     "output_type": "stream",
     "text": [
      "| epoch 13 | total_loss 832.3846435546875 | perplexity 4884.005859375\n",
      "Saved: network.state.ppl_min.pkl\n"
     ]
    },
    {
     "name": "stderr",
     "output_type": "stream",
     "text": [
      "100%|███████████████████████████████████████████████████████████████████████████████████████████████████████████████████████████| 98/98 [00:29<00:00,  3.28it/s]\n"
     ]
    },
    {
     "name": "stdout",
     "output_type": "stream",
     "text": [
      "| epoch 14 | total_loss 831.3765869140625 | perplexity 4834.02490234375\n",
      "Saved: network.state.ppl_min.pkl\n"
     ]
    },
    {
     "name": "stderr",
     "output_type": "stream",
     "text": [
      "100%|███████████████████████████████████████████████████████████████████████████████████████████████████████████████████████████| 98/98 [00:31<00:00,  3.14it/s]\n"
     ]
    },
    {
     "name": "stdout",
     "output_type": "stream",
     "text": [
      "| epoch 15 | total_loss 830.368896484375 | perplexity 4784.5732421875\n",
      "Saved: network.state.ppl_min.pkl\n"
     ]
    },
    {
     "name": "stderr",
     "output_type": "stream",
     "text": [
      "100%|███████████████████████████████████████████████████████████████████████████████████████████████████████████████████████████| 98/98 [00:27<00:00,  3.50it/s]\n"
     ]
    },
    {
     "name": "stdout",
     "output_type": "stream",
     "text": [
      "| epoch 16 | total_loss 829.2969970703125 | perplexity 4732.5263671875\n",
      "Saved: network.state.ppl_min.pkl\n"
     ]
    },
    {
     "name": "stderr",
     "output_type": "stream",
     "text": [
      "100%|███████████████████████████████████████████████████████████████████████████████████████████████████████████████████████████| 98/98 [00:35<00:00,  2.77it/s]\n"
     ]
    },
    {
     "name": "stdout",
     "output_type": "stream",
     "text": [
      "| epoch 17 | total_loss 828.4402465820312 | perplexity 4691.33349609375\n",
      "Saved: network.state.ppl_min.pkl\n"
     ]
    },
    {
     "name": "stderr",
     "output_type": "stream",
     "text": [
      "100%|███████████████████████████████████████████████████████████████████████████████████████████████████████████████████████████| 98/98 [00:28<00:00,  3.42it/s]\n"
     ]
    },
    {
     "name": "stdout",
     "output_type": "stream",
     "text": [
      "| epoch 18 | total_loss 827.7034912109375 | perplexity 4656.197265625\n",
      "Saved: network.state.ppl_min.pkl\n"
     ]
    },
    {
     "name": "stderr",
     "output_type": "stream",
     "text": [
      "100%|███████████████████████████████████████████████████████████████████████████████████████████████████████████████████████████| 98/98 [00:30<00:00,  3.24it/s]\n"
     ]
    },
    {
     "name": "stdout",
     "output_type": "stream",
     "text": [
      "| epoch 19 | total_loss 826.9309692382812 | perplexity 4619.63623046875\n",
      "Saved: network.state.ppl_min.pkl\n"
     ]
    },
    {
     "name": "stderr",
     "output_type": "stream",
     "text": [
      "100%|███████████████████████████████████████████████████████████████████████████████████████████████████████████████████████████| 98/98 [00:28<00:00,  3.46it/s]\n"
     ]
    },
    {
     "name": "stdout",
     "output_type": "stream",
     "text": [
      "| epoch 20 | total_loss 826.23388671875 | perplexity 4586.8916015625\n",
      "Saved: network.state.ppl_min.pkl\n"
     ]
    },
    {
     "name": "stderr",
     "output_type": "stream",
     "text": [
      "100%|███████████████████████████████████████████████████████████████████████████████████████████████████████████████████████████| 98/98 [00:28<00:00,  3.46it/s]\n"
     ]
    },
    {
     "name": "stdout",
     "output_type": "stream",
     "text": [
      "| epoch 21 | total_loss 825.58642578125 | perplexity 4556.689453125\n",
      "Saved: network.state.ppl_min.pkl\n"
     ]
    },
    {
     "name": "stderr",
     "output_type": "stream",
     "text": [
      "100%|███████████████████████████████████████████████████████████████████████████████████████████████████████████████████████████| 98/98 [00:29<00:00,  3.28it/s]\n"
     ]
    },
    {
     "name": "stdout",
     "output_type": "stream",
     "text": [
      "| epoch 22 | total_loss 824.8977661132812 | perplexity 4524.779296875\n",
      "Saved: network.state.ppl_min.pkl\n"
     ]
    },
    {
     "name": "stderr",
     "output_type": "stream",
     "text": [
      "100%|███████████████████████████████████████████████████████████████████████████████████████████████████████████████████████████| 98/98 [00:28<00:00,  3.43it/s]\n"
     ]
    },
    {
     "name": "stdout",
     "output_type": "stream",
     "text": [
      "| epoch 23 | total_loss 824.4203491210938 | perplexity 4502.791015625\n",
      "Saved: network.state.ppl_min.pkl\n"
     ]
    },
    {
     "name": "stderr",
     "output_type": "stream",
     "text": [
      "100%|███████████████████████████████████████████████████████████████████████████████████████████████████████████████████████████| 98/98 [00:28<00:00,  3.50it/s]\n"
     ]
    },
    {
     "name": "stdout",
     "output_type": "stream",
     "text": [
      "| epoch 24 | total_loss 823.8753051757812 | perplexity 4477.81689453125\n",
      "Saved: network.state.ppl_min.pkl\n"
     ]
    },
    {
     "name": "stderr",
     "output_type": "stream",
     "text": [
      "100%|███████████████████████████████████████████████████████████████████████████████████████████████████████████████████████████| 98/98 [00:31<00:00,  3.13it/s]\n"
     ]
    },
    {
     "name": "stdout",
     "output_type": "stream",
     "text": [
      "| epoch 25 | total_loss 823.3408813476562 | perplexity 4453.46533203125\n",
      "Saved: network.state.ppl_min.pkl\n"
     ]
    },
    {
     "name": "stderr",
     "output_type": "stream",
     "text": [
      "100%|███████████████████████████████████████████████████████████████████████████████████████████████████████████████████████████| 98/98 [00:33<00:00,  2.90it/s]\n"
     ]
    },
    {
     "name": "stdout",
     "output_type": "stream",
     "text": [
      "| epoch 26 | total_loss 822.9443969726562 | perplexity 4435.4853515625\n",
      "Saved: network.state.ppl_min.pkl\n"
     ]
    },
    {
     "name": "stderr",
     "output_type": "stream",
     "text": [
      "100%|███████████████████████████████████████████████████████████████████████████████████████████████████████████████████████████| 98/98 [00:29<00:00,  3.36it/s]\n"
     ]
    },
    {
     "name": "stdout",
     "output_type": "stream",
     "text": [
      "| epoch 27 | total_loss 822.4093627929688 | perplexity 4411.333984375\n",
      "Saved: network.state.ppl_min.pkl\n"
     ]
    },
    {
     "name": "stderr",
     "output_type": "stream",
     "text": [
      "100%|███████████████████████████████████████████████████████████████████████████████████████████████████████████████████████████| 98/98 [00:28<00:00,  3.39it/s]\n"
     ]
    },
    {
     "name": "stdout",
     "output_type": "stream",
     "text": [
      "| epoch 28 | total_loss 821.9672241210938 | perplexity 4391.4755859375\n",
      "Saved: network.state.ppl_min.pkl\n"
     ]
    },
    {
     "name": "stderr",
     "output_type": "stream",
     "text": [
      "100%|███████████████████████████████████████████████████████████████████████████████████████████████████████████████████████████| 98/98 [00:28<00:00,  3.48it/s]\n"
     ]
    },
    {
     "name": "stdout",
     "output_type": "stream",
     "text": [
      "| epoch 29 | total_loss 821.6908569335938 | perplexity 4379.109375\n",
      "Saved: network.state.ppl_min.pkl\n"
     ]
    },
    {
     "name": "stderr",
     "output_type": "stream",
     "text": [
      "100%|███████████████████████████████████████████████████████████████████████████████████████████████████████████████████████████| 98/98 [00:28<00:00,  3.42it/s]\n"
     ]
    },
    {
     "name": "stdout",
     "output_type": "stream",
     "text": [
      "| epoch 30 | total_loss 821.40234375 | perplexity 4366.236328125\n",
      "Saved: network.state.ppl_min.pkl\n"
     ]
    },
    {
     "name": "stderr",
     "output_type": "stream",
     "text": [
      "100%|███████████████████████████████████████████████████████████████████████████████████████████████████████████████████████████| 98/98 [00:29<00:00,  3.31it/s]\n"
     ]
    },
    {
     "name": "stdout",
     "output_type": "stream",
     "text": [
      "| epoch 31 | total_loss 821.0428466796875 | perplexity 4350.2470703125\n",
      "Saved: network.state.ppl_min.pkl\n"
     ]
    },
    {
     "name": "stderr",
     "output_type": "stream",
     "text": [
      "100%|███████████████████████████████████████████████████████████████████████████████████████████████████████████████████████████| 98/98 [00:26<00:00,  3.65it/s]\n"
     ]
    },
    {
     "name": "stdout",
     "output_type": "stream",
     "text": [
      "| epoch 32 | total_loss 820.6280517578125 | perplexity 4331.87353515625\n",
      "Saved: network.state.ppl_min.pkl\n"
     ]
    },
    {
     "name": "stderr",
     "output_type": "stream",
     "text": [
      "100%|███████████████████████████████████████████████████████████████████████████████████████████████████████████████████████████| 98/98 [00:28<00:00,  3.49it/s]\n"
     ]
    },
    {
     "name": "stdout",
     "output_type": "stream",
     "text": [
      "| epoch 33 | total_loss 820.3253173828125 | perplexity 4318.513671875\n",
      "Saved: network.state.ppl_min.pkl\n"
     ]
    },
    {
     "name": "stderr",
     "output_type": "stream",
     "text": [
      "100%|███████████████████████████████████████████████████████████████████████████████████████████████████████████████████████████| 98/98 [00:34<00:00,  2.87it/s]\n"
     ]
    },
    {
     "name": "stdout",
     "output_type": "stream",
     "text": [
      "| epoch 34 | total_loss 819.912841796875 | perplexity 4300.376953125\n",
      "Saved: network.state.ppl_min.pkl\n"
     ]
    },
    {
     "name": "stderr",
     "output_type": "stream",
     "text": [
      "100%|███████████████████████████████████████████████████████████████████████████████████████████████████████████████████████████| 98/98 [00:30<00:00,  3.24it/s]\n"
     ]
    },
    {
     "name": "stdout",
     "output_type": "stream",
     "text": [
      "| epoch 35 | total_loss 819.5875854492188 | perplexity 4286.12451171875\n",
      "Saved: network.state.ppl_min.pkl\n"
     ]
    },
    {
     "name": "stderr",
     "output_type": "stream",
     "text": [
      "100%|███████████████████████████████████████████████████████████████████████████████████████████████████████████████████████████| 98/98 [00:30<00:00,  3.23it/s]\n"
     ]
    },
    {
     "name": "stdout",
     "output_type": "stream",
     "text": [
      "| epoch 36 | total_loss 819.207763671875 | perplexity 4269.544921875\n",
      "Saved: network.state.ppl_min.pkl\n"
     ]
    },
    {
     "name": "stderr",
     "output_type": "stream",
     "text": [
      "100%|███████████████████████████████████████████████████████████████████████████████████████████████████████████████████████████| 98/98 [00:28<00:00,  3.45it/s]\n"
     ]
    },
    {
     "name": "stdout",
     "output_type": "stream",
     "text": [
      "| epoch 37 | total_loss 818.9916381835938 | perplexity 4260.14111328125\n",
      "Saved: network.state.ppl_min.pkl\n"
     ]
    },
    {
     "name": "stderr",
     "output_type": "stream",
     "text": [
      "100%|███████████████████████████████████████████████████████████████████████████████████████████████████████████████████████████| 98/98 [00:31<00:00,  3.14it/s]\n"
     ]
    },
    {
     "name": "stdout",
     "output_type": "stream",
     "text": [
      "| epoch 38 | total_loss 818.6702880859375 | perplexity 4246.19580078125\n",
      "Saved: network.state.ppl_min.pkl\n"
     ]
    },
    {
     "name": "stderr",
     "output_type": "stream",
     "text": [
      "100%|███████████████████████████████████████████████████████████████████████████████████████████████████████████████████████████| 98/98 [00:30<00:00,  3.22it/s]\n"
     ]
    },
    {
     "name": "stdout",
     "output_type": "stream",
     "text": [
      "| epoch 39 | total_loss 818.3541870117188 | perplexity 4232.5185546875\n",
      "Saved: network.state.ppl_min.pkl\n"
     ]
    },
    {
     "name": "stderr",
     "output_type": "stream",
     "text": [
      "100%|███████████████████████████████████████████████████████████████████████████████████████████████████████████████████████████| 98/98 [00:31<00:00,  3.15it/s]\n"
     ]
    },
    {
     "name": "stdout",
     "output_type": "stream",
     "text": [
      "| epoch 40 | total_loss 818.0499877929688 | perplexity 4219.40478515625\n",
      "Saved: network.state.ppl_min.pkl\n"
     ]
    },
    {
     "name": "stderr",
     "output_type": "stream",
     "text": [
      "100%|███████████████████████████████████████████████████████████████████████████████████████████████████████████████████████████| 98/98 [00:28<00:00,  3.42it/s]\n"
     ]
    },
    {
     "name": "stdout",
     "output_type": "stream",
     "text": [
      "| epoch 41 | total_loss 817.6658325195312 | perplexity 4202.89453125\n",
      "Saved: network.state.ppl_min.pkl\n"
     ]
    },
    {
     "name": "stderr",
     "output_type": "stream",
     "text": [
      "100%|███████████████████████████████████████████████████████████████████████████████████████████████████████████████████████████| 98/98 [00:28<00:00,  3.41it/s]\n"
     ]
    },
    {
     "name": "stdout",
     "output_type": "stream",
     "text": [
      "| epoch 42 | total_loss 817.3495483398438 | perplexity 4189.35302734375\n",
      "Saved: network.state.ppl_min.pkl\n"
     ]
    },
    {
     "name": "stderr",
     "output_type": "stream",
     "text": [
      "100%|███████████████████████████████████████████████████████████████████████████████████████████████████████████████████████████| 98/98 [00:28<00:00,  3.45it/s]\n"
     ]
    },
    {
     "name": "stdout",
     "output_type": "stream",
     "text": [
      "| epoch 43 | total_loss 817.1996459960938 | perplexity 4182.94921875\n",
      "Saved: network.state.ppl_min.pkl\n"
     ]
    },
    {
     "name": "stderr",
     "output_type": "stream",
     "text": [
      "100%|███████████████████████████████████████████████████████████████████████████████████████████████████████████████████████████| 98/98 [00:30<00:00,  3.24it/s]\n"
     ]
    },
    {
     "name": "stdout",
     "output_type": "stream",
     "text": [
      "| epoch 44 | total_loss 816.684814453125 | perplexity 4161.0341796875\n",
      "Saved: network.state.ppl_min.pkl\n"
     ]
    },
    {
     "name": "stderr",
     "output_type": "stream",
     "text": [
      "100%|███████████████████████████████████████████████████████████████████████████████████████████████████████████████████████████| 98/98 [00:29<00:00,  3.33it/s]\n"
     ]
    },
    {
     "name": "stdout",
     "output_type": "stream",
     "text": [
      "| epoch 45 | total_loss 816.3857421875 | perplexity 4148.35498046875\n",
      "Saved: network.state.ppl_min.pkl\n"
     ]
    },
    {
     "name": "stderr",
     "output_type": "stream",
     "text": [
      "100%|███████████████████████████████████████████████████████████████████████████████████████████████████████████████████████████| 98/98 [00:31<00:00,  3.10it/s]\n"
     ]
    },
    {
     "name": "stdout",
     "output_type": "stream",
     "text": [
      "| epoch 46 | total_loss 816.0047607421875 | perplexity 4132.25732421875\n",
      "Saved: network.state.ppl_min.pkl\n"
     ]
    },
    {
     "name": "stderr",
     "output_type": "stream",
     "text": [
      "100%|███████████████████████████████████████████████████████████████████████████████████████████████████████████████████████████| 98/98 [00:31<00:00,  3.14it/s]\n"
     ]
    },
    {
     "name": "stdout",
     "output_type": "stream",
     "text": [
      "| epoch 47 | total_loss 815.6754150390625 | perplexity 4118.39306640625\n",
      "Saved: network.state.ppl_min.pkl\n"
     ]
    },
    {
     "name": "stderr",
     "output_type": "stream",
     "text": [
      "100%|███████████████████████████████████████████████████████████████████████████████████████████████████████████████████████████| 98/98 [00:30<00:00,  3.26it/s]\n"
     ]
    },
    {
     "name": "stdout",
     "output_type": "stream",
     "text": [
      "| epoch 48 | total_loss 815.4068603515625 | perplexity 4107.12451171875\n",
      "Saved: network.state.ppl_min.pkl\n"
     ]
    },
    {
     "name": "stderr",
     "output_type": "stream",
     "text": [
      "100%|███████████████████████████████████████████████████████████████████████████████████████████████████████████████████████████| 98/98 [00:28<00:00,  3.39it/s]\n"
     ]
    },
    {
     "name": "stdout",
     "output_type": "stream",
     "text": [
      "| epoch 49 | total_loss 815.2159423828125 | perplexity 4099.13037109375\n",
      "Saved: network.state.ppl_min.pkl\n"
     ]
    },
    {
     "name": "stderr",
     "output_type": "stream",
     "text": [
      "100%|███████████████████████████████████████████████████████████████████████████████████████████████████████████████████████████| 98/98 [00:29<00:00,  3.32it/s]\n"
     ]
    },
    {
     "name": "stdout",
     "output_type": "stream",
     "text": [
      "| epoch 50 | total_loss 814.89453125 | perplexity 4085.708740234375\n",
      "Saved: network.state.ppl_min.pkl\n"
     ]
    },
    {
     "name": "stderr",
     "output_type": "stream",
     "text": [
      "100%|███████████████████████████████████████████████████████████████████████████████████████████████████████████████████████████| 98/98 [00:30<00:00,  3.25it/s]\n"
     ]
    },
    {
     "name": "stdout",
     "output_type": "stream",
     "text": [
      "| epoch 51 | total_loss 814.6229858398438 | perplexity 4074.401123046875\n",
      "Saved: network.state.ppl_min.pkl\n"
     ]
    },
    {
     "name": "stderr",
     "output_type": "stream",
     "text": [
      "100%|███████████████████████████████████████████████████████████████████████████████████████████████████████████████████████████| 98/98 [00:30<00:00,  3.18it/s]\n"
     ]
    },
    {
     "name": "stdout",
     "output_type": "stream",
     "text": [
      "| epoch 52 | total_loss 814.46533203125 | perplexity 4067.855224609375\n",
      "Saved: network.state.ppl_min.pkl\n"
     ]
    },
    {
     "name": "stderr",
     "output_type": "stream",
     "text": [
      "100%|███████████████████████████████████████████████████████████████████████████████████████████████████████████████████████████| 98/98 [00:30<00:00,  3.18it/s]\n"
     ]
    },
    {
     "name": "stdout",
     "output_type": "stream",
     "text": [
      "| epoch 53 | total_loss 814.02978515625 | perplexity 4049.813232421875\n",
      "Saved: network.state.ppl_min.pkl\n"
     ]
    },
    {
     "name": "stderr",
     "output_type": "stream",
     "text": [
      "100%|███████████████████████████████████████████████████████████████████████████████████████████████████████████████████████████| 98/98 [00:28<00:00,  3.49it/s]\n"
     ]
    },
    {
     "name": "stdout",
     "output_type": "stream",
     "text": [
      "| epoch 54 | total_loss 813.8841552734375 | perplexity 4043.800537109375\n",
      "Saved: network.state.ppl_min.pkl\n"
     ]
    },
    {
     "name": "stderr",
     "output_type": "stream",
     "text": [
      "100%|███████████████████████████████████████████████████████████████████████████████████████████████████████████████████████████| 98/98 [00:32<00:00,  3.04it/s]\n"
     ]
    },
    {
     "name": "stdout",
     "output_type": "stream",
     "text": [
      "| epoch 55 | total_loss 813.52197265625 | perplexity 4028.884033203125\n",
      "Saved: network.state.ppl_min.pkl\n"
     ]
    },
    {
     "name": "stderr",
     "output_type": "stream",
     "text": [
      "100%|███████████████████████████████████████████████████████████████████████████████████████████████████████████████████████████| 98/98 [00:33<00:00,  2.95it/s]\n"
     ]
    },
    {
     "name": "stdout",
     "output_type": "stream",
     "text": [
      "| epoch 56 | total_loss 813.225341796875 | perplexity 4016.707275390625\n",
      "Saved: network.state.ppl_min.pkl\n"
     ]
    },
    {
     "name": "stderr",
     "output_type": "stream",
     "text": [
      "100%|███████████████████████████████████████████████████████████████████████████████████████████████████████████████████████████| 98/98 [00:33<00:00,  2.93it/s]\n"
     ]
    },
    {
     "name": "stdout",
     "output_type": "stream",
     "text": [
      "| epoch 57 | total_loss 812.9697265625 | perplexity 4006.244140625\n",
      "Saved: network.state.ppl_min.pkl\n"
     ]
    },
    {
     "name": "stderr",
     "output_type": "stream",
     "text": [
      "100%|███████████████████████████████████████████████████████████████████████████████████████████████████████████████████████████| 98/98 [00:36<00:00,  2.68it/s]\n"
     ]
    },
    {
     "name": "stdout",
     "output_type": "stream",
     "text": [
      "| epoch 58 | total_loss 812.6646728515625 | perplexity 3993.79296875\n",
      "Saved: network.state.ppl_min.pkl\n"
     ]
    },
    {
     "name": "stderr",
     "output_type": "stream",
     "text": [
      "100%|███████████████████████████████████████████████████████████████████████████████████████████████████████████████████████████| 98/98 [00:33<00:00,  2.88it/s]\n"
     ]
    },
    {
     "name": "stdout",
     "output_type": "stream",
     "text": [
      "| epoch 59 | total_loss 812.3152465820312 | perplexity 3979.577392578125\n",
      "Saved: network.state.ppl_min.pkl\n"
     ]
    },
    {
     "name": "stderr",
     "output_type": "stream",
     "text": [
      "100%|███████████████████████████████████████████████████████████████████████████████████████████████████████████████████████████| 98/98 [00:29<00:00,  3.29it/s]\n"
     ]
    },
    {
     "name": "stdout",
     "output_type": "stream",
     "text": [
      "| epoch 60 | total_loss 811.9488525390625 | perplexity 3964.72802734375\n",
      "Saved: network.state.ppl_min.pkl\n"
     ]
    },
    {
     "name": "stderr",
     "output_type": "stream",
     "text": [
      "100%|███████████████████████████████████████████████████████████████████████████████████████████████████████████████████████████| 98/98 [00:33<00:00,  2.90it/s]\n"
     ]
    },
    {
     "name": "stdout",
     "output_type": "stream",
     "text": [
      "| epoch 61 | total_loss 811.6358032226562 | perplexity 3952.08154296875\n",
      "Saved: network.state.ppl_min.pkl\n"
     ]
    },
    {
     "name": "stderr",
     "output_type": "stream",
     "text": [
      "100%|███████████████████████████████████████████████████████████████████████████████████████████████████████████████████████████| 98/98 [00:31<00:00,  3.13it/s]\n"
     ]
    },
    {
     "name": "stdout",
     "output_type": "stream",
     "text": [
      "| epoch 62 | total_loss 811.41455078125 | perplexity 3943.170654296875\n",
      "Saved: network.state.ppl_min.pkl\n"
     ]
    },
    {
     "name": "stderr",
     "output_type": "stream",
     "text": [
      "100%|███████████████████████████████████████████████████████████████████████████████████████████████████████████████████████████| 98/98 [00:28<00:00,  3.43it/s]\n"
     ]
    },
    {
     "name": "stdout",
     "output_type": "stream",
     "text": [
      "| epoch 63 | total_loss 811.0205688476562 | perplexity 3927.347900390625\n",
      "Saved: network.state.ppl_min.pkl\n"
     ]
    },
    {
     "name": "stderr",
     "output_type": "stream",
     "text": [
      "100%|███████████████████████████████████████████████████████████████████████████████████████████████████████████████████████████| 98/98 [00:32<00:00,  2.99it/s]\n"
     ]
    },
    {
     "name": "stdout",
     "output_type": "stream",
     "text": [
      "| epoch 64 | total_loss 810.9473266601562 | perplexity 3924.416259765625\n",
      "Saved: network.state.ppl_min.pkl\n"
     ]
    },
    {
     "name": "stderr",
     "output_type": "stream",
     "text": [
      "100%|███████████████████████████████████████████████████████████████████████████████████████████████████████████████████████████| 98/98 [00:31<00:00,  3.12it/s]\n"
     ]
    },
    {
     "name": "stdout",
     "output_type": "stream",
     "text": [
      "| epoch 65 | total_loss 810.8486938476562 | perplexity 3920.466064453125\n",
      "Saved: network.state.ppl_min.pkl\n"
     ]
    },
    {
     "name": "stderr",
     "output_type": "stream",
     "text": [
      "100%|███████████████████████████████████████████████████████████████████████████████████████████████████████████████████████████| 98/98 [00:30<00:00,  3.21it/s]\n"
     ]
    },
    {
     "name": "stdout",
     "output_type": "stream",
     "text": [
      "| epoch 66 | total_loss 810.8196411132812 | perplexity 3919.3076171875\n",
      "Saved: network.state.ppl_min.pkl\n"
     ]
    },
    {
     "name": "stderr",
     "output_type": "stream",
     "text": [
      "100%|███████████████████████████████████████████████████████████████████████████████████████████████████████████████████████████| 98/98 [00:27<00:00,  3.52it/s]\n"
     ]
    },
    {
     "name": "stdout",
     "output_type": "stream",
     "text": [
      "| epoch 67 | total_loss 810.2654418945312 | perplexity 3897.205078125\n",
      "Saved: network.state.ppl_min.pkl\n"
     ]
    },
    {
     "name": "stderr",
     "output_type": "stream",
     "text": [
      "100%|███████████████████████████████████████████████████████████████████████████████████████████████████████████████████████████| 98/98 [00:31<00:00,  3.15it/s]\n"
     ]
    },
    {
     "name": "stdout",
     "output_type": "stream",
     "text": [
      "| epoch 68 | total_loss 809.8743286132812 | perplexity 3881.681884765625\n",
      "Saved: network.state.ppl_min.pkl\n"
     ]
    },
    {
     "name": "stderr",
     "output_type": "stream",
     "text": [
      "100%|███████████████████████████████████████████████████████████████████████████████████████████████████████████████████████████| 98/98 [00:32<00:00,  2.98it/s]\n"
     ]
    },
    {
     "name": "stdout",
     "output_type": "stream",
     "text": [
      "| epoch 69 | total_loss 809.6228637695312 | perplexity 3871.73291015625\n",
      "Saved: network.state.ppl_min.pkl\n"
     ]
    },
    {
     "name": "stderr",
     "output_type": "stream",
     "text": [
      "100%|███████████████████████████████████████████████████████████████████████████████████████████████████████████████████████████| 98/98 [00:31<00:00,  3.15it/s]\n"
     ]
    },
    {
     "name": "stdout",
     "output_type": "stream",
     "text": [
      "| epoch 70 | total_loss 809.3762817382812 | perplexity 3862.0048828125\n",
      "Saved: network.state.ppl_min.pkl\n"
     ]
    },
    {
     "name": "stderr",
     "output_type": "stream",
     "text": [
      "100%|███████████████████████████████████████████████████████████████████████████████████████████████████████████████████████████| 98/98 [00:32<00:00,  3.06it/s]\n"
     ]
    },
    {
     "name": "stdout",
     "output_type": "stream",
     "text": [
      "| epoch 71 | total_loss 809.0885620117188 | perplexity 3850.68115234375\n",
      "Saved: network.state.ppl_min.pkl\n"
     ]
    },
    {
     "name": "stderr",
     "output_type": "stream",
     "text": [
      "100%|███████████████████████████████████████████████████████████████████████████████████████████████████████████████████████████| 98/98 [00:27<00:00,  3.61it/s]\n"
     ]
    },
    {
     "name": "stdout",
     "output_type": "stream",
     "text": [
      "| epoch 72 | total_loss 808.8681030273438 | perplexity 3842.031494140625\n",
      "Saved: network.state.ppl_min.pkl\n"
     ]
    },
    {
     "name": "stderr",
     "output_type": "stream",
     "text": [
      "100%|███████████████████████████████████████████████████████████████████████████████████████████████████████████████████████████| 98/98 [00:30<00:00,  3.17it/s]\n"
     ]
    },
    {
     "name": "stdout",
     "output_type": "stream",
     "text": [
      "| epoch 73 | total_loss 808.4144287109375 | perplexity 3824.28369140625\n",
      "Saved: network.state.ppl_min.pkl\n"
     ]
    },
    {
     "name": "stderr",
     "output_type": "stream",
     "text": [
      "100%|███████████████████████████████████████████████████████████████████████████████████████████████████████████████████████████| 98/98 [00:30<00:00,  3.26it/s]\n"
     ]
    },
    {
     "name": "stdout",
     "output_type": "stream",
     "text": [
      "| epoch 74 | total_loss 808.3956298828125 | perplexity 3823.550537109375\n",
      "Saved: network.state.ppl_min.pkl\n"
     ]
    },
    {
     "name": "stderr",
     "output_type": "stream",
     "text": [
      "100%|███████████████████████████████████████████████████████████████████████████████████████████████████████████████████████████| 98/98 [00:31<00:00,  3.07it/s]\n"
     ]
    },
    {
     "name": "stdout",
     "output_type": "stream",
     "text": [
      "| epoch 75 | total_loss 807.84716796875 | perplexity 3802.213134765625\n",
      "Saved: network.state.ppl_min.pkl\n"
     ]
    },
    {
     "name": "stderr",
     "output_type": "stream",
     "text": [
      "100%|███████████████████████████████████████████████████████████████████████████████████████████████████████████████████████████| 98/98 [00:28<00:00,  3.42it/s]\n"
     ]
    },
    {
     "name": "stdout",
     "output_type": "stream",
     "text": [
      "| epoch 76 | total_loss 807.572998046875 | perplexity 3791.589111328125\n",
      "Saved: network.state.ppl_min.pkl\n"
     ]
    },
    {
     "name": "stderr",
     "output_type": "stream",
     "text": [
      "100%|███████████████████████████████████████████████████████████████████████████████████████████████████████████████████████████| 98/98 [00:30<00:00,  3.21it/s]\n"
     ]
    },
    {
     "name": "stdout",
     "output_type": "stream",
     "text": [
      "| epoch 77 | total_loss 807.4171142578125 | perplexity 3785.5625\n",
      "Saved: network.state.ppl_min.pkl\n"
     ]
    },
    {
     "name": "stderr",
     "output_type": "stream",
     "text": [
      "100%|███████████████████████████████████████████████████████████████████████████████████████████████████████████████████████████| 98/98 [00:30<00:00,  3.26it/s]\n"
     ]
    },
    {
     "name": "stdout",
     "output_type": "stream",
     "text": [
      "| epoch 78 | total_loss 807.1741943359375 | perplexity 3776.191162109375\n",
      "Saved: network.state.ppl_min.pkl\n"
     ]
    },
    {
     "name": "stderr",
     "output_type": "stream",
     "text": [
      "100%|███████████████████████████████████████████████████████████████████████████████████████████████████████████████████████████| 98/98 [00:30<00:00,  3.20it/s]\n"
     ]
    },
    {
     "name": "stdout",
     "output_type": "stream",
     "text": [
      "| epoch 79 | total_loss 807.0513305664062 | perplexity 3771.462158203125\n",
      "Saved: network.state.ppl_min.pkl\n"
     ]
    },
    {
     "name": "stderr",
     "output_type": "stream",
     "text": [
      "100%|███████████████████████████████████████████████████████████████████████████████████████████████████████████████████████████| 98/98 [00:33<00:00,  2.92it/s]\n"
     ]
    },
    {
     "name": "stdout",
     "output_type": "stream",
     "text": [
      "| epoch 80 | total_loss 806.67431640625 | perplexity 3756.98095703125\n",
      "Saved: network.state.ppl_min.pkl\n"
     ]
    },
    {
     "name": "stderr",
     "output_type": "stream",
     "text": [
      "100%|███████████████████████████████████████████████████████████████████████████████████████████████████████████████████████████| 98/98 [00:34<00:00,  2.88it/s]\n"
     ]
    },
    {
     "name": "stdout",
     "output_type": "stream",
     "text": [
      "| epoch 81 | total_loss 806.2242431640625 | perplexity 3739.76513671875\n",
      "Saved: network.state.ppl_min.pkl\n"
     ]
    },
    {
     "name": "stderr",
     "output_type": "stream",
     "text": [
      "100%|███████████████████████████████████████████████████████████████████████████████████████████████████████████████████████████| 98/98 [00:29<00:00,  3.28it/s]\n"
     ]
    },
    {
     "name": "stdout",
     "output_type": "stream",
     "text": [
      "| epoch 82 | total_loss 805.83203125 | perplexity 3724.826171875\n",
      "Saved: network.state.ppl_min.pkl\n"
     ]
    },
    {
     "name": "stderr",
     "output_type": "stream",
     "text": [
      "100%|███████████████████████████████████████████████████████████████████████████████████████████████████████████████████████████| 98/98 [00:30<00:00,  3.18it/s]\n"
     ]
    },
    {
     "name": "stdout",
     "output_type": "stream",
     "text": [
      "| epoch 83 | total_loss 805.4759521484375 | perplexity 3711.316650390625\n",
      "Saved: network.state.ppl_min.pkl\n"
     ]
    },
    {
     "name": "stderr",
     "output_type": "stream",
     "text": [
      "100%|███████████████████████████████████████████████████████████████████████████████████████████████████████████████████████████| 98/98 [00:31<00:00,  3.08it/s]\n"
     ]
    },
    {
     "name": "stdout",
     "output_type": "stream",
     "text": [
      "| epoch 84 | total_loss 805.3406372070312 | perplexity 3706.19873046875\n",
      "Saved: network.state.ppl_min.pkl\n"
     ]
    },
    {
     "name": "stderr",
     "output_type": "stream",
     "text": [
      "100%|███████████████████████████████████████████████████████████████████████████████████████████████████████████████████████████| 98/98 [00:29<00:00,  3.32it/s]\n"
     ]
    },
    {
     "name": "stdout",
     "output_type": "stream",
     "text": [
      "| epoch 85 | total_loss 805.260986328125 | perplexity 3703.18505859375\n",
      "Saved: network.state.ppl_min.pkl\n"
     ]
    },
    {
     "name": "stderr",
     "output_type": "stream",
     "text": [
      "100%|███████████████████████████████████████████████████████████████████████████████████████████████████████████████████████████| 98/98 [00:29<00:00,  3.31it/s]\n"
     ]
    },
    {
     "name": "stdout",
     "output_type": "stream",
     "text": [
      "| epoch 86 | total_loss 805.0859375 | perplexity 3696.576171875\n",
      "Saved: network.state.ppl_min.pkl\n"
     ]
    },
    {
     "name": "stderr",
     "output_type": "stream",
     "text": [
      "100%|███████████████████████████████████████████████████████████████████████████████████████████████████████████████████████████| 98/98 [00:30<00:00,  3.16it/s]\n"
     ]
    },
    {
     "name": "stdout",
     "output_type": "stream",
     "text": [
      "| epoch 87 | total_loss 804.8408203125 | perplexity 3687.34423828125\n",
      "Saved: network.state.ppl_min.pkl\n"
     ]
    },
    {
     "name": "stderr",
     "output_type": "stream",
     "text": [
      "100%|███████████████████████████████████████████████████████████████████████████████████████████████████████████████████████████| 98/98 [00:31<00:00,  3.12it/s]\n"
     ]
    },
    {
     "name": "stdout",
     "output_type": "stream",
     "text": [
      "| epoch 88 | total_loss 804.3069458007812 | perplexity 3667.30908203125\n",
      "Saved: network.state.ppl_min.pkl\n"
     ]
    },
    {
     "name": "stderr",
     "output_type": "stream",
     "text": [
      "100%|███████████████████████████████████████████████████████████████████████████████████████████████████████████████████████████| 98/98 [00:30<00:00,  3.25it/s]\n"
     ]
    },
    {
     "name": "stdout",
     "output_type": "stream",
     "text": [
      "| epoch 89 | total_loss 803.99609375 | perplexity 3655.695068359375\n",
      "Saved: network.state.ppl_min.pkl\n"
     ]
    },
    {
     "name": "stderr",
     "output_type": "stream",
     "text": [
      "100%|███████████████████████████████████████████████████████████████████████████████████████████████████████████████████████████| 98/98 [00:35<00:00,  2.78it/s]\n"
     ]
    },
    {
     "name": "stdout",
     "output_type": "stream",
     "text": [
      "| epoch 90 | total_loss 803.5044555664062 | perplexity 3637.40283203125\n",
      "Saved: network.state.ppl_min.pkl\n"
     ]
    },
    {
     "name": "stderr",
     "output_type": "stream",
     "text": [
      "100%|███████████████████████████████████████████████████████████████████████████████████████████████████████████████████████████| 98/98 [00:26<00:00,  3.63it/s]\n"
     ]
    },
    {
     "name": "stdout",
     "output_type": "stream",
     "text": [
      "| epoch 91 | total_loss 803.2274780273438 | perplexity 3627.135498046875\n",
      "Saved: network.state.ppl_min.pkl\n"
     ]
    },
    {
     "name": "stderr",
     "output_type": "stream",
     "text": [
      "100%|███████████████████████████████████████████████████████████████████████████████████████████████████████████████████████████| 98/98 [00:32<00:00,  3.02it/s]\n"
     ]
    },
    {
     "name": "stdout",
     "output_type": "stream",
     "text": [
      "| epoch 92 | total_loss 802.8145141601562 | perplexity 3611.885009765625\n",
      "Saved: network.state.ppl_min.pkl\n"
     ]
    },
    {
     "name": "stderr",
     "output_type": "stream",
     "text": [
      "100%|███████████████████████████████████████████████████████████████████████████████████████████████████████████████████████████| 98/98 [00:32<00:00,  3.04it/s]\n"
     ]
    },
    {
     "name": "stdout",
     "output_type": "stream",
     "text": [
      "| epoch 93 | total_loss 802.9190673828125 | perplexity 3615.73828125\n"
     ]
    },
    {
     "name": "stderr",
     "output_type": "stream",
     "text": [
      "100%|███████████████████████████████████████████████████████████████████████████████████████████████████████████████████████████| 98/98 [00:29<00:00,  3.33it/s]\n"
     ]
    },
    {
     "name": "stdout",
     "output_type": "stream",
     "text": [
      "| epoch 94 | total_loss 802.5658569335938 | perplexity 3602.73095703125\n",
      "Saved: network.state.ppl_min.pkl\n"
     ]
    },
    {
     "name": "stderr",
     "output_type": "stream",
     "text": [
      "100%|███████████████████████████████████████████████████████████████████████████████████████████████████████████████████████████| 98/98 [00:28<00:00,  3.47it/s]\n"
     ]
    },
    {
     "name": "stdout",
     "output_type": "stream",
     "text": [
      "| epoch 95 | total_loss 802.396728515625 | perplexity 3596.517333984375\n",
      "Saved: network.state.ppl_min.pkl\n"
     ]
    },
    {
     "name": "stderr",
     "output_type": "stream",
     "text": [
      "100%|███████████████████████████████████████████████████████████████████████████████████████████████████████████████████████████| 98/98 [00:31<00:00,  3.12it/s]\n"
     ]
    },
    {
     "name": "stdout",
     "output_type": "stream",
     "text": [
      "| epoch 96 | total_loss 802.2410888671875 | perplexity 3590.81103515625\n",
      "Saved: network.state.ppl_min.pkl\n"
     ]
    },
    {
     "name": "stderr",
     "output_type": "stream",
     "text": [
      "100%|███████████████████████████████████████████████████████████████████████████████████████████████████████████████████████████| 98/98 [00:27<00:00,  3.58it/s]\n"
     ]
    },
    {
     "name": "stdout",
     "output_type": "stream",
     "text": [
      "| epoch 97 | total_loss 801.7984619140625 | perplexity 3574.62939453125\n",
      "Saved: network.state.ppl_min.pkl\n"
     ]
    },
    {
     "name": "stderr",
     "output_type": "stream",
     "text": [
      "100%|███████████████████████████████████████████████████████████████████████████████████████████████████████████████████████████| 98/98 [00:30<00:00,  3.21it/s]\n"
     ]
    },
    {
     "name": "stdout",
     "output_type": "stream",
     "text": [
      "| epoch 98 | total_loss 801.4974365234375 | perplexity 3563.665771484375\n",
      "Saved: network.state.ppl_min.pkl\n"
     ]
    },
    {
     "name": "stderr",
     "output_type": "stream",
     "text": [
      "100%|███████████████████████████████████████████████████████████████████████████████████████████████████████████████████████████| 98/98 [00:32<00:00,  3.00it/s]\n"
     ]
    },
    {
     "name": "stdout",
     "output_type": "stream",
     "text": [
      "| epoch 99 | total_loss 801.09326171875 | perplexity 3549.00048828125\n",
      "Saved: network.state.ppl_min.pkl\n"
     ]
    },
    {
     "name": "stderr",
     "output_type": "stream",
     "text": [
      "100%|███████████████████████████████████████████████████████████████████████████████████████████████████████████████████████████| 98/98 [00:29<00:00,  3.35it/s]\n"
     ]
    },
    {
     "name": "stdout",
     "output_type": "stream",
     "text": [
      "| epoch 100 | total_loss 800.6895751953125 | perplexity 3534.409423828125\n",
      "Saved: network.state.ppl_min.pkl\n",
      "\n",
      "you unbid temperately quarry personally mankind pirates boiled paly vowed dreams hotly hold usurpers vienna to northampton religious flourisheth and loosebodied scholar fight yesterday shewolf preserver distribution unmannerd sit mean girls waitingvassals quiet smell afterdinners plumepluckd tears worm wedlock waits wards cedar slanderous purchased wherewith gasp broil and consumed plays morecast looker cleaving peevish lamenting belongings mandrakes logs fellows burns perverse the scouts of renew for joyless expectst cursing twisted boil sweethearts lass transport courtodor loves rudiments lethargy merchandise illgot comforted vent discase unpeopled allies ledas sap closure thoughts least forewarnd horse guard audience sessions escapes uneasy about george rule\n",
      "\n",
      "\n",
      "you\n",
      " conferring: 0.1741846203804016\n",
      " play: 0.17240743339061737\n",
      " plausible: 0.14684318006038666\n",
      " pelting: 0.1463770717382431\n",
      " robert: 0.14430968463420868\n",
      "\n",
      "say\n",
      " chances: 0.19400814175605774\n",
      " ithere: 0.17486344277858734\n",
      " xanthippe: 0.16837891936302185\n",
      " boast: 0.16375279426574707\n",
      " anna: 0.1627153754234314\n",
      "\n",
      "good\n",
      " tickle: 0.16180355846881866\n",
      " sung: 0.1558316946029663\n",
      " desirers: 0.15550801157951355\n",
      " awakes: 0.14598330855369568\n",
      " ely: 0.14296071231365204\n",
      "Saved: network.state.pkl\n"
     ]
    }
   ],
   "source": [
    "program = Program1()\n",
    "if __name__ == '__main__':\n",
    "    program()"
   ]
  },
  {
   "cell_type": "code",
   "execution_count": 11,
   "metadata": {},
   "outputs": [
    {
     "name": "stdout",
     "output_type": "stream",
     "text": [
      "loss\n"
     ]
    },
    {
     "data": {
      "image/png": "[encoded data removed]",
      "text/plain": [
       "<Figure size 640x480 with 1 Axes>"
      ]
     },
     "metadata": {},
     "output_type": "display_data"
    }
   ],
   "source": [
    "%matplotlib inline\n",
    "import matplotlib.pyplot as plt\n",
    "\n",
    "print('loss')\n",
    "plt.plot(program.losses, label='loss')\n",
    "plt.legend\n",
    "plt.show()"
   ]
  }
 ],
 "metadata": {
  "kernelspec": {
   "display_name": "Python 3 (ipykernel)",
   "language": "python",
   "name": "python3"
  },
  "language_info": {
   "codemirror_mode": {
    "name": "ipython",
    "version": 3
   },
   "file_extension": ".py",
   "mimetype": "text/x-python",
   "name": "python",
   "nbconvert_exporter": "python",
   "pygments_lexer": "ipython3",
   "version": "3.9.15"
  }
 },
 "nbformat": 4,
 "nbformat_minor": 4
}
